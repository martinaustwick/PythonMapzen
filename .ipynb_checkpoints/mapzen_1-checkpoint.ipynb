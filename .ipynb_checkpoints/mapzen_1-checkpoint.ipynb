{
 "cells": [
  {
   "cell_type": "markdown",
   "metadata": {},
   "source": [
    "# Mapzen python code\n",
    "\n",
    "You will need to\n",
    "- install Enthought or Anaconda, or another reader\n",
    "- install pandas, requests and json library"
   ]
  },
  {
   "cell_type": "markdown",
   "metadata": {},
   "source": [
    "## Always execute these next two cells of code!\n",
    "\n",
    "This is a MapZen key - you will need to use your own. Please note that you should NEVER share your key to GitHub or elsewhere."
   ]
  },
  {
   "cell_type": "code",
   "execution_count": 1,
   "metadata": {
    "collapsed": true
   },
   "outputs": [],
   "source": [
    "key = 'mapzen-yourkey'\n",
    "endpoint = \"https://matrix.mapzen.com/many_to_many\"\n",
    " "
   ]
  },
  {
   "cell_type": "code",
   "execution_count": 2,
   "metadata": {
    "collapsed": true
   },
   "outputs": [],
   "source": [
    "import requests\n",
    "import json\n",
    "import pandas"
   ]
  },
  {
   "cell_type": "markdown",
   "metadata": {},
   "source": [
    "## Loading a keyfile\n",
    "\n",
    "I've specificed a keyFile which stores my MapZen key so I can update this code without having to delete my key each time! And so can you. Create a json file in a text editor:\n",
    "\n",
    "{\n",
    "    \n",
    "    \"key\":\"your-key-here\"\n",
    "    \n",
    "}\n",
    "\n",
    "And save it as key.json somewhere not in your git directory. Then modify the below folder and it should update your key!"
   ]
  },
  {
   "cell_type": "code",
   "execution_count": 3,
   "metadata": {},
   "outputs": [],
   "source": [
    "keyFolder = \"/Users/martin/Dropbox/CASA/research/2015-08 EPSRC Freight Traffic Control/misc code/mapzen key/\"\n",
    "keyFile = \"key.json\"\n",
    "with open(keyFolder+keyFile) as data_file:    \n",
    "    keyJSON = json.load(data_file)\n",
    "key = keyJSON['key']"
   ]
  },
  {
   "cell_type": "markdown",
   "metadata": {},
   "source": [
    "# 1. Example query:"
   ]
  },
  {
   "cell_type": "code",
   "execution_count": 20,
   "metadata": {},
   "outputs": [],
   "source": [
    "path=json.dumps({\"locations\":[{\"lat\":40.744014,\"lon\":-73.990508},{\"lat\":40.739735,\"lon\":-73.979713},{\"lat\":40.752522,\"lon\":-73.985015},{\"lat\":40.750117,\"lon\":-73.983704},{\"lat\":40.750552,\"lon\":-73.993519}], \"costing\":\"auto\"})"
   ]
  },
  {
   "cell_type": "code",
   "execution_count": 21,
   "metadata": {},
   "outputs": [],
   "source": [
    "#params = {\"json\": json.dumps(route), \"api_key\": key}\n",
    "params = {\"json\":path,\"api_key\":key}\n",
    "req = requests.get(endpoint, params=params)"
   ]
  },
  {
   "cell_type": "code",
   "execution_count": 22,
   "metadata": {},
   "outputs": [
    {
     "name": "stdout",
     "output_type": "stream",
     "text": [
      "{\"locations\":[[{\"lon\":-73.990509,\"lat\":40.744015},{\"lon\":-73.979713,\"lat\":40.739735},{\"lon\":-73.985016,\"lat\":40.752522},{\"lon\":-73.983704,\"lat\":40.750118},{\"lon\":-73.993523,\"lat\":40.750553}]],\"units\":\"km\",\"many_to_many\":[[{\"distance\":0.000,\"time\":0,\"to_index\":0,\"from_index\":0},{\"distance\":1.346,\"time\":335,\"to_index\":1,\"from_index\":0},{\"distance\":1.944,\"time\":341,\"to_index\":2,\"from_index\":0},{\"distance\":1.730,\"time\":340,\"to_index\":3,\"from_index\":0},{\"distance\":1.202,\"time\":210,\"to_index\":4,\"from_index\":0}],[{\"distance\":2.047,\"time\":362,\"to_index\":0,\"from_index\":1},{\"distance\":0.000,\"time\":0,\"to_index\":1,\"from_index\":1},{\"distance\":2.270,\"time\":371,\"to_index\":2,\"from_index\":1},{\"distance\":1.903,\"time\":287,\"to_index\":3,\"from_index\":1},{\"distance\":2.303,\"time\":390,\"to_index\":4,\"from_index\":1}],[{\"distance\":1.841,\"time\":348,\"to_index\":0,\"from_index\":2},{\"distance\":2.738,\"time\":346,\"to_index\":1,\"from_index\":2},{\"distance\":0.000,\"time\":0,\"to_index\":2,\"from_index\":2},{\"distance\":0.761,\"time\":228,\"to_index\":3,\"from_index\":2},{\"distance\":1.711,\"time\":371,\"to_index\":4,\"from_index\":2}],[{\"distance\":1.115,\"time\":201,\"to_index\":0,\"from_index\":3},{\"distance\":1.685,\"time\":262,\"to_index\":1,\"from_index\":3},{\"distance\":1.454,\"time\":252,\"to_index\":2,\"from_index\":3},{\"distance\":0.000,\"time\":0,\"to_index\":3,\"from_index\":3},{\"distance\":1.371,\"time\":229,\"to_index\":4,\"from_index\":3}],[{\"distance\":1.724,\"time\":256,\"to_index\":0,\"from_index\":4},{\"distance\":2.515,\"time\":307,\"to_index\":1,\"from_index\":4},{\"distance\":1.840,\"time\":300,\"to_index\":2,\"from_index\":4},{\"distance\":1.953,\"time\":331,\"to_index\":3,\"from_index\":4},{\"distance\":0.000,\"time\":0,\"to_index\":4,\"from_index\":4}]]}\n"
     ]
    }
   ],
   "source": [
    "print req.text"
   ]
  },
  {
   "cell_type": "markdown",
   "metadata": {},
   "source": [
    "# 2. Working with a small file (fewer than 50 locations)\n",
    "## Specify the filename and put it in the \"data\" folder\n",
    "\n",
    "Pay attention to the format of the file..."
   ]
  },
  {
   "cell_type": "code",
   "execution_count": 40,
   "metadata": {
    "collapsed": true
   },
   "outputs": [],
   "source": [
    "#filename = \"Example1.csv\"\n",
    "filename = \"Example3_fake.csv\""
   ]
  },
  {
   "cell_type": "code",
   "execution_count": 41,
   "metadata": {},
   "outputs": [
    {
     "data": {
      "text/html": [
       "<div>\n",
       "<style>\n",
       "    .dataframe thead tr:only-child th {\n",
       "        text-align: right;\n",
       "    }\n",
       "\n",
       "    .dataframe thead th {\n",
       "        text-align: left;\n",
       "    }\n",
       "\n",
       "    .dataframe tbody tr th {\n",
       "        vertical-align: top;\n",
       "    }\n",
       "</style>\n",
       "<table border=\"1\" class=\"dataframe\">\n",
       "  <thead>\n",
       "    <tr style=\"text-align: right;\">\n",
       "      <th></th>\n",
       "      <th>Node ID</th>\n",
       "      <th>Lat</th>\n",
       "      <th>Lon</th>\n",
       "      <th>Unnamed: 3</th>\n",
       "    </tr>\n",
       "  </thead>\n",
       "  <tbody>\n",
       "    <tr>\n",
       "      <th>0</th>\n",
       "      <td>1</td>\n",
       "      <td>51.500000</td>\n",
       "      <td>-0.100000</td>\n",
       "      <td>NaN</td>\n",
       "    </tr>\n",
       "    <tr>\n",
       "      <th>1</th>\n",
       "      <td>2</td>\n",
       "      <td>51.498926</td>\n",
       "      <td>-0.102354</td>\n",
       "      <td>NaN</td>\n",
       "    </tr>\n",
       "    <tr>\n",
       "      <th>2</th>\n",
       "      <td>3</td>\n",
       "      <td>51.499040</td>\n",
       "      <td>-0.102451</td>\n",
       "      <td>NaN</td>\n",
       "    </tr>\n",
       "    <tr>\n",
       "      <th>3</th>\n",
       "      <td>4</td>\n",
       "      <td>51.503091</td>\n",
       "      <td>-0.099655</td>\n",
       "      <td>NaN</td>\n",
       "    </tr>\n",
       "    <tr>\n",
       "      <th>4</th>\n",
       "      <td>5</td>\n",
       "      <td>51.493588</td>\n",
       "      <td>-0.092621</td>\n",
       "      <td>NaN</td>\n",
       "    </tr>\n",
       "  </tbody>\n",
       "</table>\n",
       "</div>"
      ],
      "text/plain": [
       "   Node ID        Lat       Lon  Unnamed: 3\n",
       "0        1  51.500000 -0.100000         NaN\n",
       "1        2  51.498926 -0.102354         NaN\n",
       "2        3  51.499040 -0.102451         NaN\n",
       "3        4  51.503091 -0.099655         NaN\n",
       "4        5  51.493588 -0.092621         NaN"
      ]
     },
     "execution_count": 41,
     "metadata": {},
     "output_type": "execute_result"
    }
   ],
   "source": [
    "dataIn = pandas.read_csv(\"data/\"+filename)\n",
    "dataIn.head()"
   ]
  },
  {
   "cell_type": "markdown",
   "metadata": {},
   "source": [
    "## Create dict for locations"
   ]
  },
  {
   "cell_type": "code",
   "execution_count": 42,
   "metadata": {},
   "outputs": [],
   "source": [
    "locations = []\n",
    "for i in range(len(dataIn.index)):\n",
    "    locations.append({\"lon\":dataIn.Lon.iloc[i], \"lat\":dataIn.Lat.iloc[i]})\n",
    "\n",
    "test1 = locations"
   ]
  },
  {
   "cell_type": "markdown",
   "metadata": {},
   "source": [
    "## Specify the travel mode\n",
    "- auto (car)\n",
    "- pedestrian\n",
    "- bicyle"
   ]
  },
  {
   "cell_type": "code",
   "execution_count": 43,
   "metadata": {
    "collapsed": true
   },
   "outputs": [],
   "source": [
    "costing = \"auto\""
   ]
  },
  {
   "cell_type": "markdown",
   "metadata": {},
   "source": [
    "## Create a new dict with this and other prefs and feed it into a new json object"
   ]
  },
  {
   "cell_type": "code",
   "execution_count": 44,
   "metadata": {},
   "outputs": [],
   "source": [
    "dictPath = {\"locations\":locations, \n",
    "            \"costing\":costing}\n",
    "#print dictPath"
   ]
  },
  {
   "cell_type": "code",
   "execution_count": 45,
   "metadata": {
    "collapsed": true
   },
   "outputs": [],
   "source": [
    "path = json.dumps(dictPath)"
   ]
  },
  {
   "cell_type": "markdown",
   "metadata": {},
   "source": [
    "## Send a request to MapZen"
   ]
  },
  {
   "cell_type": "code",
   "execution_count": 46,
   "metadata": {
    "collapsed": true
   },
   "outputs": [],
   "source": [
    "params = {\"json\":path,\"api_key\":key}\n",
    "req = requests.get(endpoint, params=params)"
   ]
  },
  {
   "cell_type": "code",
   "execution_count": 47,
   "metadata": {},
   "outputs": [],
   "source": [
    "#print req.url"
   ]
  },
  {
   "cell_type": "code",
   "execution_count": 48,
   "metadata": {},
   "outputs": [],
   "source": [
    "jsonback = req.json()\n",
    "locationsOut = jsonback.get(\"locations\")\n",
    "rawMatrix = jsonback.get(\"many_to_many\")"
   ]
  },
  {
   "cell_type": "markdown",
   "metadata": {},
   "source": [
    "## Specify Matrix\n",
    "\n",
    "Create a pandas dataframe, which is easy to save to csv. Here we use \"distance\", but we could also use \"time\".\n",
    "\n",
    "Here the **origin** is the **column**, and the **destination** is the **row**. The matrix is not necessarily symmetric."
   ]
  },
  {
   "cell_type": "code",
   "execution_count": 49,
   "metadata": {},
   "outputs": [],
   "source": [
    "cols = list(range(1, 51))\n",
    "mo = pandas.DataFrame(columns=cols, index = cols)"
   ]
  },
  {
   "cell_type": "code",
   "execution_count": 50,
   "metadata": {},
   "outputs": [
    {
     "data": {
      "text/html": [
       "<div>\n",
       "<style>\n",
       "    .dataframe thead tr:only-child th {\n",
       "        text-align: right;\n",
       "    }\n",
       "\n",
       "    .dataframe thead th {\n",
       "        text-align: left;\n",
       "    }\n",
       "\n",
       "    .dataframe tbody tr th {\n",
       "        vertical-align: top;\n",
       "    }\n",
       "</style>\n",
       "<table border=\"1\" class=\"dataframe\">\n",
       "  <thead>\n",
       "    <tr style=\"text-align: right;\">\n",
       "      <th></th>\n",
       "      <th>1</th>\n",
       "      <th>2</th>\n",
       "      <th>3</th>\n",
       "      <th>4</th>\n",
       "      <th>5</th>\n",
       "      <th>6</th>\n",
       "      <th>7</th>\n",
       "      <th>8</th>\n",
       "      <th>9</th>\n",
       "      <th>10</th>\n",
       "      <th>...</th>\n",
       "      <th>41</th>\n",
       "      <th>42</th>\n",
       "      <th>43</th>\n",
       "      <th>44</th>\n",
       "      <th>45</th>\n",
       "      <th>46</th>\n",
       "      <th>47</th>\n",
       "      <th>48</th>\n",
       "      <th>49</th>\n",
       "      <th>50</th>\n",
       "    </tr>\n",
       "  </thead>\n",
       "  <tbody>\n",
       "    <tr>\n",
       "      <th>1</th>\n",
       "      <td>0</td>\n",
       "      <td>0.32</td>\n",
       "      <td>0.325</td>\n",
       "      <td>0.64</td>\n",
       "      <td>1.664</td>\n",
       "      <td>2.322</td>\n",
       "      <td>2.192</td>\n",
       "      <td>3.288</td>\n",
       "      <td>4.225</td>\n",
       "      <td>2.79</td>\n",
       "      <td>...</td>\n",
       "      <td>7.092</td>\n",
       "      <td>7.508</td>\n",
       "      <td>7.509</td>\n",
       "      <td>7.756</td>\n",
       "      <td>6.687</td>\n",
       "      <td>6.457</td>\n",
       "      <td>9.076</td>\n",
       "      <td>8.406</td>\n",
       "      <td>8.017</td>\n",
       "      <td>9.275</td>\n",
       "    </tr>\n",
       "    <tr>\n",
       "      <th>2</th>\n",
       "      <td>0.32</td>\n",
       "      <td>0</td>\n",
       "      <td>0.044</td>\n",
       "      <td>0.945</td>\n",
       "      <td>1.452</td>\n",
       "      <td>2.11</td>\n",
       "      <td>1.98</td>\n",
       "      <td>3.076</td>\n",
       "      <td>4.013</td>\n",
       "      <td>2.578</td>\n",
       "      <td>...</td>\n",
       "      <td>6.88</td>\n",
       "      <td>7.296</td>\n",
       "      <td>7.297</td>\n",
       "      <td>7.544</td>\n",
       "      <td>6.475</td>\n",
       "      <td>6.245</td>\n",
       "      <td>8.864</td>\n",
       "      <td>8.194</td>\n",
       "      <td>7.805</td>\n",
       "      <td>9.063</td>\n",
       "    </tr>\n",
       "    <tr>\n",
       "      <th>3</th>\n",
       "      <td>0.335</td>\n",
       "      <td>0.044</td>\n",
       "      <td>0</td>\n",
       "      <td>0.94</td>\n",
       "      <td>1.457</td>\n",
       "      <td>2.115</td>\n",
       "      <td>1.985</td>\n",
       "      <td>3.081</td>\n",
       "      <td>4.018</td>\n",
       "      <td>2.583</td>\n",
       "      <td>...</td>\n",
       "      <td>6.885</td>\n",
       "      <td>7.301</td>\n",
       "      <td>7.302</td>\n",
       "      <td>7.549</td>\n",
       "      <td>6.48</td>\n",
       "      <td>6.25</td>\n",
       "      <td>8.869</td>\n",
       "      <td>8.199</td>\n",
       "      <td>7.81</td>\n",
       "      <td>9.068</td>\n",
       "    </tr>\n",
       "    <tr>\n",
       "      <th>4</th>\n",
       "      <td>0.575</td>\n",
       "      <td>0.831</td>\n",
       "      <td>0.836</td>\n",
       "      <td>0</td>\n",
       "      <td>1.853</td>\n",
       "      <td>2.511</td>\n",
       "      <td>2.288</td>\n",
       "      <td>2.913</td>\n",
       "      <td>3.85</td>\n",
       "      <td>2.927</td>\n",
       "      <td>...</td>\n",
       "      <td>6.717</td>\n",
       "      <td>7.133</td>\n",
       "      <td>7.134</td>\n",
       "      <td>7.381</td>\n",
       "      <td>6.312</td>\n",
       "      <td>6.082</td>\n",
       "      <td>8.701</td>\n",
       "      <td>8.031</td>\n",
       "      <td>7.642</td>\n",
       "      <td>8.9</td>\n",
       "    </tr>\n",
       "    <tr>\n",
       "      <th>5</th>\n",
       "      <td>2.765</td>\n",
       "      <td>2.445</td>\n",
       "      <td>2.44</td>\n",
       "      <td>3.098</td>\n",
       "      <td>0</td>\n",
       "      <td>0.821</td>\n",
       "      <td>1.27</td>\n",
       "      <td>1.895</td>\n",
       "      <td>2.832</td>\n",
       "      <td>1.909</td>\n",
       "      <td>...</td>\n",
       "      <td>5.699</td>\n",
       "      <td>6.495</td>\n",
       "      <td>6.496</td>\n",
       "      <td>6.363</td>\n",
       "      <td>5.294</td>\n",
       "      <td>5.064</td>\n",
       "      <td>7.683</td>\n",
       "      <td>7.013</td>\n",
       "      <td>6.624</td>\n",
       "      <td>7.882</td>\n",
       "    </tr>\n",
       "  </tbody>\n",
       "</table>\n",
       "<p>5 rows × 50 columns</p>\n",
       "</div>"
      ],
      "text/plain": [
       "      1      2      3      4      5      6      7      8      9      10  \\\n",
       "1      0   0.32  0.325   0.64  1.664  2.322  2.192  3.288  4.225   2.79   \n",
       "2   0.32      0  0.044  0.945  1.452   2.11   1.98  3.076  4.013  2.578   \n",
       "3  0.335  0.044      0   0.94  1.457  2.115  1.985  3.081  4.018  2.583   \n",
       "4  0.575  0.831  0.836      0  1.853  2.511  2.288  2.913   3.85  2.927   \n",
       "5  2.765  2.445   2.44  3.098      0  0.821   1.27  1.895  2.832  1.909   \n",
       "\n",
       "   ...       41     42     43     44     45     46     47     48     49     50  \n",
       "1  ...    7.092  7.508  7.509  7.756  6.687  6.457  9.076  8.406  8.017  9.275  \n",
       "2  ...     6.88  7.296  7.297  7.544  6.475  6.245  8.864  8.194  7.805  9.063  \n",
       "3  ...    6.885  7.301  7.302  7.549   6.48   6.25  8.869  8.199   7.81  9.068  \n",
       "4  ...    6.717  7.133  7.134  7.381  6.312  6.082  8.701  8.031  7.642    8.9  \n",
       "5  ...    5.699  6.495  6.496  6.363  5.294  5.064  7.683  7.013  6.624  7.882  \n",
       "\n",
       "[5 rows x 50 columns]"
      ]
     },
     "execution_count": 50,
     "metadata": {},
     "output_type": "execute_result"
    }
   ],
   "source": [
    "for row in rawMatrix:\n",
    "    for edge in row:\n",
    "        D = edge['to_index']\n",
    "        O = edge['from_index']\n",
    "        distance = edge['distance']\n",
    "        mo.iloc[D,O]= distance\n",
    "mo.head()"
   ]
  },
  {
   "cell_type": "code",
   "execution_count": 51,
   "metadata": {},
   "outputs": [],
   "source": [
    "mo.to_csv(\"dataOut/\"+filename)"
   ]
  },
  {
   "cell_type": "markdown",
   "metadata": {},
   "source": [
    "# 3. Larger files (more than 50 locations)"
   ]
  },
  {
   "cell_type": "code",
   "execution_count": 52,
   "metadata": {
    "collapsed": true
   },
   "outputs": [],
   "source": [
    "filename = \"Example4_fake\""
   ]
  },
  {
   "cell_type": "code",
   "execution_count": 53,
   "metadata": {},
   "outputs": [
    {
     "data": {
      "text/html": [
       "<div>\n",
       "<style>\n",
       "    .dataframe thead tr:only-child th {\n",
       "        text-align: right;\n",
       "    }\n",
       "\n",
       "    .dataframe thead th {\n",
       "        text-align: left;\n",
       "    }\n",
       "\n",
       "    .dataframe tbody tr th {\n",
       "        vertical-align: top;\n",
       "    }\n",
       "</style>\n",
       "<table border=\"1\" class=\"dataframe\">\n",
       "  <thead>\n",
       "    <tr style=\"text-align: right;\">\n",
       "      <th></th>\n",
       "      <th>Node ID</th>\n",
       "      <th>Lat</th>\n",
       "      <th>Lon</th>\n",
       "      <th>Unnamed: 3</th>\n",
       "    </tr>\n",
       "  </thead>\n",
       "  <tbody>\n",
       "    <tr>\n",
       "      <th>0</th>\n",
       "      <td>1</td>\n",
       "      <td>51.500000</td>\n",
       "      <td>-0.100000</td>\n",
       "      <td>NaN</td>\n",
       "    </tr>\n",
       "    <tr>\n",
       "      <th>1</th>\n",
       "      <td>2</td>\n",
       "      <td>51.508143</td>\n",
       "      <td>-0.106989</td>\n",
       "      <td>NaN</td>\n",
       "    </tr>\n",
       "    <tr>\n",
       "      <th>2</th>\n",
       "      <td>3</td>\n",
       "      <td>51.513121</td>\n",
       "      <td>-0.102796</td>\n",
       "      <td>NaN</td>\n",
       "    </tr>\n",
       "    <tr>\n",
       "      <th>3</th>\n",
       "      <td>4</td>\n",
       "      <td>51.518189</td>\n",
       "      <td>-0.096848</td>\n",
       "      <td>NaN</td>\n",
       "    </tr>\n",
       "    <tr>\n",
       "      <th>4</th>\n",
       "      <td>5</td>\n",
       "      <td>51.510925</td>\n",
       "      <td>-0.105475</td>\n",
       "      <td>NaN</td>\n",
       "    </tr>\n",
       "  </tbody>\n",
       "</table>\n",
       "</div>"
      ],
      "text/plain": [
       "   Node ID        Lat       Lon  Unnamed: 3\n",
       "0        1  51.500000 -0.100000         NaN\n",
       "1        2  51.508143 -0.106989         NaN\n",
       "2        3  51.513121 -0.102796         NaN\n",
       "3        4  51.518189 -0.096848         NaN\n",
       "4        5  51.510925 -0.105475         NaN"
      ]
     },
     "execution_count": 53,
     "metadata": {},
     "output_type": "execute_result"
    }
   ],
   "source": [
    "dataIn = pandas.read_csv(\"data/\"+filename+\".csv\")\n",
    "dataIn.head()"
   ]
  },
  {
   "cell_type": "markdown",
   "metadata": {},
   "source": [
    "## Split this into multiple location lists (a list of lists)\n",
    "\n",
    "Make sure your column names match up here"
   ]
  },
  {
   "cell_type": "code",
   "execution_count": 55,
   "metadata": {},
   "outputs": [
    {
     "name": "stdout",
     "output_type": "stream",
     "text": [
      "breakup\n",
      "2\n",
      "<type 'int'>\n"
     ]
    }
   ],
   "source": [
    "breakup = 1 + int(len(dataIn)/50)\n",
    "print \"breakup\"\n",
    "print breakup\n",
    "print type(breakup)\n",
    "\n",
    "locations = []\n",
    "for i in range(0, breakup):\n",
    "    locations.append([])\n",
    "    \n",
    "#latcol = \"Delivery Lat\"\n",
    "#loncol = 'Deliver Long'\n",
    "\n",
    "latcol = \"Lat\"\n",
    "loncol = 'Lon'\n",
    "\n",
    "n=0\n",
    "for i in range(len(dataIn.index)):\n",
    "    n = i/50\n",
    "    locations[n].append({\"lon\":dataIn[loncol].iloc[i], \"lat\":dataIn[latcol].iloc[i]})"
   ]
  },
  {
   "cell_type": "markdown",
   "metadata": {},
   "source": [
    "## Save into one .csv\n",
    "\n",
    "Called \"FilenameIn_out.csv\""
   ]
  },
  {
   "cell_type": "code",
   "execution_count": 58,
   "metadata": {},
   "outputs": [
    {
     "name": "stdout",
     "output_type": "stream",
     "text": [
      "https://matrix.mapzen.com/sources_to_targets?json=%7B%22sources%22%3A+%5B%7B%22lat%22%3A+51.5%2C+%22lon%22%3A+-0.1%7D%2C+%7B%22lat%22%3A+51.50814297%2C+%22lon%22%3A+-0.106989419%7D%2C+%7B%22lat%22%3A+51.51312135%2C+%22lon%22%3A+-0.102796242%7D%2C+%7B%22lat%22%3A+51.51818865%2C+%22lon%22%3A+-0.096847548%7D%2C+%7B%22lat%22%3A+51.51092454%2C+%22lon%22%3A+-0.105475014%7D%2C+%7B%22lat%22%3A+51.51965154%2C+%22lon%22%3A+-0.111315653%7D%2C+%7B%22lat%22%3A+51.51288733%2C+%22lon%22%3A+-0.110909671%7D%2C+%7B%22lat%22%3A+51.51948012%2C+%22lon%22%3A+-0.11615561199999999%7D%2C+%7B%22lat%22%3A+51.51940191%2C+%22lon%22%3A+-0.123527529%7D%2C+%7B%22lat%22%3A+51.52678775%2C+%22lon%22%3A+-0.113709701%7D%2C+%7B%22lat%22%3A+51.52472084%2C+%22lon%22%3A+-0.115452881%7D%2C+%7B%22lat%22%3A+51.52160414%2C+%22lon%22%3A+-0.11649944300000001%7D%2C+%7B%22lat%22%3A+51.51944043%2C+%22lon%22%3A+-0.111861924%7D%2C+%7B%22lat%22%3A+51.52331132%2C+%22lon%22%3A+-0.114383681%7D%2C+%7B%22lat%22%3A+51.52181295%2C+%22lon%22%3A+-0.122660122%7D%2C+%7B%22lat%22%3A+51.5273299%2C+%22lon%22%3A+-0.112880105%7D%2C+%7B%22lat%22%3A+51.53664245%2C+%22lon%22%3A+-0.11213472699999999%7D%2C+%7B%22lat%22%3A+51.54245332%2C+%22lon%22%3A+-0.10599392199999999%7D%2C+%7B%22lat%22%3A+51.53454463%2C+%22lon%22%3A+-0.105644633%7D%2C+%7B%22lat%22%3A+51.53086588%2C+%22lon%22%3A+-0.09769104099999999%7D%2C+%7B%22lat%22%3A+51.52240326%2C+%22lon%22%3A+-0.09805772900000001%7D%2C+%7B%22lat%22%3A+51.51580532%2C+%22lon%22%3A+-0.088188951%7D%2C+%7B%22lat%22%3A+51.51892939%2C+%22lon%22%3A+-0.080969735%7D%2C+%7B%22lat%22%3A+51.51402021%2C+%22lon%22%3A+-0.077342224%7D%2C+%7B%22lat%22%3A+51.51660415%2C+%22lon%22%3A+-0.076003534%7D%2C+%7B%22lat%22%3A+51.51432075%2C+%22lon%22%3A+-0.07204655%7D%2C+%7B%22lat%22%3A+51.51420163%2C+%22lon%22%3A+-0.064204207%7D%2C+%7B%22lat%22%3A+51.51986466%2C+%22lon%22%3A+-0.07062228200000001%7D%2C+%7B%22lat%22%3A+51.51164763%2C+%22lon%22%3A+-0.063450244%7D%2C+%7B%22lat%22%3A+51.51264476%2C+%22lon%22%3A+-0.072714785%7D%2C+%7B%22lat%22%3A+51.50552783%2C+%22lon%22%3A+-0.065406003%7D%2C+%7B%22lat%22%3A+51.50955997%2C+%22lon%22%3A+-0.071896665%7D%2C+%7B%22lat%22%3A+51.51254828%2C+%22lon%22%3A+-0.06473656400000001%7D%2C+%7B%22lat%22%3A+51.50621552%2C+%22lon%22%3A+-0.06651797599999999%7D%2C+%7B%22lat%22%3A+51.49798628%2C+%22lon%22%3A+-0.074010498%7D%2C+%7B%22lat%22%3A+51.48939303%2C+%22lon%22%3A+-0.064739845%7D%2C+%7B%22lat%22%3A+51.49331764%2C+%22lon%22%3A+-0.056723377%7D%2C+%7B%22lat%22%3A+51.48650502%2C+%22lon%22%3A+-0.06435036%7D%2C+%7B%22lat%22%3A+51.49151884%2C+%22lon%22%3A+-0.056922419%7D%2C+%7B%22lat%22%3A+51.49381575%2C+%22lon%22%3A+-0.05825035%7D%2C+%7B%22lat%22%3A+51.49393846%2C+%22lon%22%3A+-0.063815228%7D%2C+%7B%22lat%22%3A+51.48394037%2C+%22lon%22%3A+-0.070199252%7D%2C+%7B%22lat%22%3A+51.47428452%2C+%22lon%22%3A+-0.071548045%7D%2C+%7B%22lat%22%3A+51.48388727%2C+%22lon%22%3A+-0.077000382%7D%2C+%7B%22lat%22%3A+51.48325159%2C+%22lon%22%3A+-0.067653437%7D%2C+%7B%22lat%22%3A+51.47572341%2C+%22lon%22%3A+-0.074783661%7D%2C+%7B%22lat%22%3A+51.47443648%2C+%22lon%22%3A+-0.08252425299999999%7D%2C+%7B%22lat%22%3A+51.47622020000001%2C+%22lon%22%3A+-0.075750604%7D%2C+%7B%22lat%22%3A+51.47395143%2C+%22lon%22%3A+-0.068303991%7D%2C+%7B%22lat%22%3A+51.46695993%2C+%22lon%22%3A+-0.067853897%7D%5D%2C+%22targets%22%3A+%5B%7B%22lat%22%3A+51.5%2C+%22lon%22%3A+-0.1%7D%2C+%7B%22lat%22%3A+51.50814297%2C+%22lon%22%3A+-0.106989419%7D%2C+%7B%22lat%22%3A+51.51312135%2C+%22lon%22%3A+-0.102796242%7D%2C+%7B%22lat%22%3A+51.51818865%2C+%22lon%22%3A+-0.096847548%7D%2C+%7B%22lat%22%3A+51.51092454%2C+%22lon%22%3A+-0.105475014%7D%2C+%7B%22lat%22%3A+51.51965154%2C+%22lon%22%3A+-0.111315653%7D%2C+%7B%22lat%22%3A+51.51288733%2C+%22lon%22%3A+-0.110909671%7D%2C+%7B%22lat%22%3A+51.51948012%2C+%22lon%22%3A+-0.11615561199999999%7D%2C+%7B%22lat%22%3A+51.51940191%2C+%22lon%22%3A+-0.123527529%7D%2C+%7B%22lat%22%3A+51.52678775%2C+%22lon%22%3A+-0.113709701%7D%2C+%7B%22lat%22%3A+51.52472084%2C+%22lon%22%3A+-0.115452881%7D%2C+%7B%22lat%22%3A+51.52160414%2C+%22lon%22%3A+-0.11649944300000001%7D%2C+%7B%22lat%22%3A+51.51944043%2C+%22lon%22%3A+-0.111861924%7D%2C+%7B%22lat%22%3A+51.52331132%2C+%22lon%22%3A+-0.114383681%7D%2C+%7B%22lat%22%3A+51.52181295%2C+%22lon%22%3A+-0.122660122%7D%2C+%7B%22lat%22%3A+51.5273299%2C+%22lon%22%3A+-0.112880105%7D%2C+%7B%22lat%22%3A+51.53664245%2C+%22lon%22%3A+-0.11213472699999999%7D%2C+%7B%22lat%22%3A+51.54245332%2C+%22lon%22%3A+-0.10599392199999999%7D%2C+%7B%22lat%22%3A+51.53454463%2C+%22lon%22%3A+-0.105644633%7D%2C+%7B%22lat%22%3A+51.53086588%2C+%22lon%22%3A+-0.09769104099999999%7D%2C+%7B%22lat%22%3A+51.52240326%2C+%22lon%22%3A+-0.09805772900000001%7D%2C+%7B%22lat%22%3A+51.51580532%2C+%22lon%22%3A+-0.088188951%7D%2C+%7B%22lat%22%3A+51.51892939%2C+%22lon%22%3A+-0.080969735%7D%2C+%7B%22lat%22%3A+51.51402021%2C+%22lon%22%3A+-0.077342224%7D%2C+%7B%22lat%22%3A+51.51660415%2C+%22lon%22%3A+-0.076003534%7D%2C+%7B%22lat%22%3A+51.51432075%2C+%22lon%22%3A+-0.07204655%7D%2C+%7B%22lat%22%3A+51.51420163%2C+%22lon%22%3A+-0.064204207%7D%2C+%7B%22lat%22%3A+51.51986466%2C+%22lon%22%3A+-0.07062228200000001%7D%2C+%7B%22lat%22%3A+51.51164763%2C+%22lon%22%3A+-0.063450244%7D%2C+%7B%22lat%22%3A+51.51264476%2C+%22lon%22%3A+-0.072714785%7D%2C+%7B%22lat%22%3A+51.50552783%2C+%22lon%22%3A+-0.065406003%7D%2C+%7B%22lat%22%3A+51.50955997%2C+%22lon%22%3A+-0.071896665%7D%2C+%7B%22lat%22%3A+51.51254828%2C+%22lon%22%3A+-0.06473656400000001%7D%2C+%7B%22lat%22%3A+51.50621552%2C+%22lon%22%3A+-0.06651797599999999%7D%2C+%7B%22lat%22%3A+51.49798628%2C+%22lon%22%3A+-0.074010498%7D%2C+%7B%22lat%22%3A+51.48939303%2C+%22lon%22%3A+-0.064739845%7D%2C+%7B%22lat%22%3A+51.49331764%2C+%22lon%22%3A+-0.056723377%7D%2C+%7B%22lat%22%3A+51.48650502%2C+%22lon%22%3A+-0.06435036%7D%2C+%7B%22lat%22%3A+51.49151884%2C+%22lon%22%3A+-0.056922419%7D%2C+%7B%22lat%22%3A+51.49381575%2C+%22lon%22%3A+-0.05825035%7D%2C+%7B%22lat%22%3A+51.49393846%2C+%22lon%22%3A+-0.063815228%7D%2C+%7B%22lat%22%3A+51.48394037%2C+%22lon%22%3A+-0.070199252%7D%2C+%7B%22lat%22%3A+51.47428452%2C+%22lon%22%3A+-0.071548045%7D%2C+%7B%22lat%22%3A+51.48388727%2C+%22lon%22%3A+-0.077000382%7D%2C+%7B%22lat%22%3A+51.48325159%2C+%22lon%22%3A+-0.067653437%7D%2C+%7B%22lat%22%3A+51.47572341%2C+%22lon%22%3A+-0.074783661%7D%2C+%7B%22lat%22%3A+51.47443648%2C+%22lon%22%3A+-0.08252425299999999%7D%2C+%7B%22lat%22%3A+51.47622020000001%2C+%22lon%22%3A+-0.075750604%7D%2C+%7B%22lat%22%3A+51.47395143%2C+%22lon%22%3A+-0.068303991%7D%2C+%7B%22lat%22%3A+51.46695993%2C+%22lon%22%3A+-0.067853897%7D%5D%2C+%22costing%22%3A+%22auto%22%2C+%22id%22%3A+%22Example4_fake%22%7D&api_key=mapzen-f2yzt5S\n",
      "https://matrix.mapzen.com/sources_to_targets?json=%7B%22sources%22%3A+%5B%7B%22lat%22%3A+51.5%2C+%22lon%22%3A+-0.1%7D%2C+%7B%22lat%22%3A+51.50814297%2C+%22lon%22%3A+-0.106989419%7D%2C+%7B%22lat%22%3A+51.51312135%2C+%22lon%22%3A+-0.102796242%7D%2C+%7B%22lat%22%3A+51.51818865%2C+%22lon%22%3A+-0.096847548%7D%2C+%7B%22lat%22%3A+51.51092454%2C+%22lon%22%3A+-0.105475014%7D%2C+%7B%22lat%22%3A+51.51965154%2C+%22lon%22%3A+-0.111315653%7D%2C+%7B%22lat%22%3A+51.51288733%2C+%22lon%22%3A+-0.110909671%7D%2C+%7B%22lat%22%3A+51.51948012%2C+%22lon%22%3A+-0.11615561199999999%7D%2C+%7B%22lat%22%3A+51.51940191%2C+%22lon%22%3A+-0.123527529%7D%2C+%7B%22lat%22%3A+51.52678775%2C+%22lon%22%3A+-0.113709701%7D%2C+%7B%22lat%22%3A+51.52472084%2C+%22lon%22%3A+-0.115452881%7D%2C+%7B%22lat%22%3A+51.52160414%2C+%22lon%22%3A+-0.11649944300000001%7D%2C+%7B%22lat%22%3A+51.51944043%2C+%22lon%22%3A+-0.111861924%7D%2C+%7B%22lat%22%3A+51.52331132%2C+%22lon%22%3A+-0.114383681%7D%2C+%7B%22lat%22%3A+51.52181295%2C+%22lon%22%3A+-0.122660122%7D%2C+%7B%22lat%22%3A+51.5273299%2C+%22lon%22%3A+-0.112880105%7D%2C+%7B%22lat%22%3A+51.53664245%2C+%22lon%22%3A+-0.11213472699999999%7D%2C+%7B%22lat%22%3A+51.54245332%2C+%22lon%22%3A+-0.10599392199999999%7D%2C+%7B%22lat%22%3A+51.53454463%2C+%22lon%22%3A+-0.105644633%7D%2C+%7B%22lat%22%3A+51.53086588%2C+%22lon%22%3A+-0.09769104099999999%7D%2C+%7B%22lat%22%3A+51.52240326%2C+%22lon%22%3A+-0.09805772900000001%7D%2C+%7B%22lat%22%3A+51.51580532%2C+%22lon%22%3A+-0.088188951%7D%2C+%7B%22lat%22%3A+51.51892939%2C+%22lon%22%3A+-0.080969735%7D%2C+%7B%22lat%22%3A+51.51402021%2C+%22lon%22%3A+-0.077342224%7D%2C+%7B%22lat%22%3A+51.51660415%2C+%22lon%22%3A+-0.076003534%7D%2C+%7B%22lat%22%3A+51.51432075%2C+%22lon%22%3A+-0.07204655%7D%2C+%7B%22lat%22%3A+51.51420163%2C+%22lon%22%3A+-0.064204207%7D%2C+%7B%22lat%22%3A+51.51986466%2C+%22lon%22%3A+-0.07062228200000001%7D%2C+%7B%22lat%22%3A+51.51164763%2C+%22lon%22%3A+-0.063450244%7D%2C+%7B%22lat%22%3A+51.51264476%2C+%22lon%22%3A+-0.072714785%7D%2C+%7B%22lat%22%3A+51.50552783%2C+%22lon%22%3A+-0.065406003%7D%2C+%7B%22lat%22%3A+51.50955997%2C+%22lon%22%3A+-0.071896665%7D%2C+%7B%22lat%22%3A+51.51254828%2C+%22lon%22%3A+-0.06473656400000001%7D%2C+%7B%22lat%22%3A+51.50621552%2C+%22lon%22%3A+-0.06651797599999999%7D%2C+%7B%22lat%22%3A+51.49798628%2C+%22lon%22%3A+-0.074010498%7D%2C+%7B%22lat%22%3A+51.48939303%2C+%22lon%22%3A+-0.064739845%7D%2C+%7B%22lat%22%3A+51.49331764%2C+%22lon%22%3A+-0.056723377%7D%2C+%7B%22lat%22%3A+51.48650502%2C+%22lon%22%3A+-0.06435036%7D%2C+%7B%22lat%22%3A+51.49151884%2C+%22lon%22%3A+-0.056922419%7D%2C+%7B%22lat%22%3A+51.49381575%2C+%22lon%22%3A+-0.05825035%7D%2C+%7B%22lat%22%3A+51.49393846%2C+%22lon%22%3A+-0.063815228%7D%2C+%7B%22lat%22%3A+51.48394037%2C+%22lon%22%3A+-0.070199252%7D%2C+%7B%22lat%22%3A+51.47428452%2C+%22lon%22%3A+-0.071548045%7D%2C+%7B%22lat%22%3A+51.48388727%2C+%22lon%22%3A+-0.077000382%7D%2C+%7B%22lat%22%3A+51.48325159%2C+%22lon%22%3A+-0.067653437%7D%2C+%7B%22lat%22%3A+51.47572341%2C+%22lon%22%3A+-0.074783661%7D%2C+%7B%22lat%22%3A+51.47443648%2C+%22lon%22%3A+-0.08252425299999999%7D%2C+%7B%22lat%22%3A+51.47622020000001%2C+%22lon%22%3A+-0.075750604%7D%2C+%7B%22lat%22%3A+51.47395143%2C+%22lon%22%3A+-0.068303991%7D%2C+%7B%22lat%22%3A+51.46695993%2C+%22lon%22%3A+-0.067853897%7D%5D%2C+%22targets%22%3A+%5B%7B%22lat%22%3A+51.46521476%2C+%22lon%22%3A+-0.062113708%7D%2C+%7B%22lat%22%3A+51.46261949%2C+%22lon%22%3A+-0.060512127%7D%2C+%7B%22lat%22%3A+51.45343824%2C+%22lon%22%3A+-0.059155722%7D%2C+%7B%22lat%22%3A+51.45518%2C+%22lon%22%3A+-0.053692066%7D%2C+%7B%22lat%22%3A+51.45027573%2C+%22lon%22%3A+-0.06015078%7D%2C+%7B%22lat%22%3A+51.44321846%2C+%22lon%22%3A+-0.069132353%7D%2C+%7B%22lat%22%3A+51.44892993%2C+%22lon%22%3A+-0.074756982%7D%2C+%7B%22lat%22%3A+51.44336822%2C+%22lon%22%3A+-0.078251301%7D%2C+%7B%22lat%22%3A+51.44258459%2C+%22lon%22%3A+-0.074833161%7D%2C+%7B%22lat%22%3A+51.45014284%2C+%22lon%22%3A+-0.07787008299999999%7D%2C+%7B%22lat%22%3A+51.44589742%2C+%22lon%22%3A+-0.08653924199999999%7D%2C+%7B%22lat%22%3A+51.45162939%2C+%22lon%22%3A+-0.084226391%7D%2C+%7B%22lat%22%3A+51.44926502%2C+%22lon%22%3A+-0.076009735%7D%2C+%7B%22lat%22%3A+51.45160842%2C+%22lon%22%3A+-0.07119305%7D%2C+%7B%22lat%22%3A+51.44248504%2C+%22lon%22%3A+-0.06507041%7D%2C+%7B%22lat%22%3A+51.43370739%2C+%22lon%22%3A+-0.05684324599999999%7D%2C+%7B%22lat%22%3A+51.42454099%2C+%22lon%22%3A+-0.055091912%7D%2C+%7B%22lat%22%3A+51.41675432%2C+%22lon%22%3A+-0.061530647%7D%2C+%7B%22lat%22%3A+51.41401034%2C+%22lon%22%3A+-0.060589242%7D%2C+%7B%22lat%22%3A+51.41053484%2C+%22lon%22%3A+-0.052374529%7D%2C+%7B%22lat%22%3A+51.40176375%2C+%22lon%22%3A+-0.061693147000000004%7D%2C+%7B%22lat%22%3A+51.39347343%2C+%22lon%22%3A+-0.063063699%7D%2C+%7B%22lat%22%3A+51.38488615%2C+%22lon%22%3A+-0.068775003%7D%2C+%7B%22lat%22%3A+51.38275542%2C+%22lon%22%3A+-0.078563831%7D%2C+%7B%22lat%22%3A+51.37843634%2C+%22lon%22%3A+-0.08761776199999999%7D%5D%2C+%22costing%22%3A+%22auto%22%2C+%22id%22%3A+%22Example4_fake%22%7D&api_key=mapzen-f2yzt5S\n"
     ]
    },
    {
     "name": "stdout",
     "output_type": "stream",
     "text": [
      "https://matrix.mapzen.com/sources_to_targets?json=%7B%22sources%22%3A+%5B%7B%22lat%22%3A+51.46521476%2C+%22lon%22%3A+-0.062113708%7D%2C+%7B%22lat%22%3A+51.46261949%2C+%22lon%22%3A+-0.060512127%7D%2C+%7B%22lat%22%3A+51.45343824%2C+%22lon%22%3A+-0.059155722%7D%2C+%7B%22lat%22%3A+51.45518%2C+%22lon%22%3A+-0.053692066%7D%2C+%7B%22lat%22%3A+51.45027573%2C+%22lon%22%3A+-0.06015078%7D%2C+%7B%22lat%22%3A+51.44321846%2C+%22lon%22%3A+-0.069132353%7D%2C+%7B%22lat%22%3A+51.44892993%2C+%22lon%22%3A+-0.074756982%7D%2C+%7B%22lat%22%3A+51.44336822%2C+%22lon%22%3A+-0.078251301%7D%2C+%7B%22lat%22%3A+51.44258459%2C+%22lon%22%3A+-0.074833161%7D%2C+%7B%22lat%22%3A+51.45014284%2C+%22lon%22%3A+-0.07787008299999999%7D%2C+%7B%22lat%22%3A+51.44589742%2C+%22lon%22%3A+-0.08653924199999999%7D%2C+%7B%22lat%22%3A+51.45162939%2C+%22lon%22%3A+-0.084226391%7D%2C+%7B%22lat%22%3A+51.44926502%2C+%22lon%22%3A+-0.076009735%7D%2C+%7B%22lat%22%3A+51.45160842%2C+%22lon%22%3A+-0.07119305%7D%2C+%7B%22lat%22%3A+51.44248504%2C+%22lon%22%3A+-0.06507041%7D%2C+%7B%22lat%22%3A+51.43370739%2C+%22lon%22%3A+-0.05684324599999999%7D%2C+%7B%22lat%22%3A+51.42454099%2C+%22lon%22%3A+-0.055091912%7D%2C+%7B%22lat%22%3A+51.41675432%2C+%22lon%22%3A+-0.061530647%7D%2C+%7B%22lat%22%3A+51.41401034%2C+%22lon%22%3A+-0.060589242%7D%2C+%7B%22lat%22%3A+51.41053484%2C+%22lon%22%3A+-0.052374529%7D%2C+%7B%22lat%22%3A+51.40176375%2C+%22lon%22%3A+-0.061693147000000004%7D%2C+%7B%22lat%22%3A+51.39347343%2C+%22lon%22%3A+-0.063063699%7D%2C+%7B%22lat%22%3A+51.38488615%2C+%22lon%22%3A+-0.068775003%7D%2C+%7B%22lat%22%3A+51.38275542%2C+%22lon%22%3A+-0.078563831%7D%2C+%7B%22lat%22%3A+51.37843634%2C+%22lon%22%3A+-0.08761776199999999%7D%5D%2C+%22targets%22%3A+%5B%7B%22lat%22%3A+51.5%2C+%22lon%22%3A+-0.1%7D%2C+%7B%22lat%22%3A+51.50814297%2C+%22lon%22%3A+-0.106989419%7D%2C+%7B%22lat%22%3A+51.51312135%2C+%22lon%22%3A+-0.102796242%7D%2C+%7B%22lat%22%3A+51.51818865%2C+%22lon%22%3A+-0.096847548%7D%2C+%7B%22lat%22%3A+51.51092454%2C+%22lon%22%3A+-0.105475014%7D%2C+%7B%22lat%22%3A+51.51965154%2C+%22lon%22%3A+-0.111315653%7D%2C+%7B%22lat%22%3A+51.51288733%2C+%22lon%22%3A+-0.110909671%7D%2C+%7B%22lat%22%3A+51.51948012%2C+%22lon%22%3A+-0.11615561199999999%7D%2C+%7B%22lat%22%3A+51.51940191%2C+%22lon%22%3A+-0.123527529%7D%2C+%7B%22lat%22%3A+51.52678775%2C+%22lon%22%3A+-0.113709701%7D%2C+%7B%22lat%22%3A+51.52472084%2C+%22lon%22%3A+-0.115452881%7D%2C+%7B%22lat%22%3A+51.52160414%2C+%22lon%22%3A+-0.11649944300000001%7D%2C+%7B%22lat%22%3A+51.51944043%2C+%22lon%22%3A+-0.111861924%7D%2C+%7B%22lat%22%3A+51.52331132%2C+%22lon%22%3A+-0.114383681%7D%2C+%7B%22lat%22%3A+51.52181295%2C+%22lon%22%3A+-0.122660122%7D%2C+%7B%22lat%22%3A+51.5273299%2C+%22lon%22%3A+-0.112880105%7D%2C+%7B%22lat%22%3A+51.53664245%2C+%22lon%22%3A+-0.11213472699999999%7D%2C+%7B%22lat%22%3A+51.54245332%2C+%22lon%22%3A+-0.10599392199999999%7D%2C+%7B%22lat%22%3A+51.53454463%2C+%22lon%22%3A+-0.105644633%7D%2C+%7B%22lat%22%3A+51.53086588%2C+%22lon%22%3A+-0.09769104099999999%7D%2C+%7B%22lat%22%3A+51.52240326%2C+%22lon%22%3A+-0.09805772900000001%7D%2C+%7B%22lat%22%3A+51.51580532%2C+%22lon%22%3A+-0.088188951%7D%2C+%7B%22lat%22%3A+51.51892939%2C+%22lon%22%3A+-0.080969735%7D%2C+%7B%22lat%22%3A+51.51402021%2C+%22lon%22%3A+-0.077342224%7D%2C+%7B%22lat%22%3A+51.51660415%2C+%22lon%22%3A+-0.076003534%7D%2C+%7B%22lat%22%3A+51.51432075%2C+%22lon%22%3A+-0.07204655%7D%2C+%7B%22lat%22%3A+51.51420163%2C+%22lon%22%3A+-0.064204207%7D%2C+%7B%22lat%22%3A+51.51986466%2C+%22lon%22%3A+-0.07062228200000001%7D%2C+%7B%22lat%22%3A+51.51164763%2C+%22lon%22%3A+-0.063450244%7D%2C+%7B%22lat%22%3A+51.51264476%2C+%22lon%22%3A+-0.072714785%7D%2C+%7B%22lat%22%3A+51.50552783%2C+%22lon%22%3A+-0.065406003%7D%2C+%7B%22lat%22%3A+51.50955997%2C+%22lon%22%3A+-0.071896665%7D%2C+%7B%22lat%22%3A+51.51254828%2C+%22lon%22%3A+-0.06473656400000001%7D%2C+%7B%22lat%22%3A+51.50621552%2C+%22lon%22%3A+-0.06651797599999999%7D%2C+%7B%22lat%22%3A+51.49798628%2C+%22lon%22%3A+-0.074010498%7D%2C+%7B%22lat%22%3A+51.48939303%2C+%22lon%22%3A+-0.064739845%7D%2C+%7B%22lat%22%3A+51.49331764%2C+%22lon%22%3A+-0.056723377%7D%2C+%7B%22lat%22%3A+51.48650502%2C+%22lon%22%3A+-0.06435036%7D%2C+%7B%22lat%22%3A+51.49151884%2C+%22lon%22%3A+-0.056922419%7D%2C+%7B%22lat%22%3A+51.49381575%2C+%22lon%22%3A+-0.05825035%7D%2C+%7B%22lat%22%3A+51.49393846%2C+%22lon%22%3A+-0.063815228%7D%2C+%7B%22lat%22%3A+51.48394037%2C+%22lon%22%3A+-0.070199252%7D%2C+%7B%22lat%22%3A+51.47428452%2C+%22lon%22%3A+-0.071548045%7D%2C+%7B%22lat%22%3A+51.48388727%2C+%22lon%22%3A+-0.077000382%7D%2C+%7B%22lat%22%3A+51.48325159%2C+%22lon%22%3A+-0.067653437%7D%2C+%7B%22lat%22%3A+51.47572341%2C+%22lon%22%3A+-0.074783661%7D%2C+%7B%22lat%22%3A+51.47443648%2C+%22lon%22%3A+-0.08252425299999999%7D%2C+%7B%22lat%22%3A+51.47622020000001%2C+%22lon%22%3A+-0.075750604%7D%2C+%7B%22lat%22%3A+51.47395143%2C+%22lon%22%3A+-0.068303991%7D%2C+%7B%22lat%22%3A+51.46695993%2C+%22lon%22%3A+-0.067853897%7D%5D%2C+%22costing%22%3A+%22auto%22%2C+%22id%22%3A+%22Example4_fake%22%7D&api_key=mapzen-f2yzt5S\n",
      "https://matrix.mapzen.com/sources_to_targets?json=%7B%22sources%22%3A+%5B%7B%22lat%22%3A+51.46521476%2C+%22lon%22%3A+-0.062113708%7D%2C+%7B%22lat%22%3A+51.46261949%2C+%22lon%22%3A+-0.060512127%7D%2C+%7B%22lat%22%3A+51.45343824%2C+%22lon%22%3A+-0.059155722%7D%2C+%7B%22lat%22%3A+51.45518%2C+%22lon%22%3A+-0.053692066%7D%2C+%7B%22lat%22%3A+51.45027573%2C+%22lon%22%3A+-0.06015078%7D%2C+%7B%22lat%22%3A+51.44321846%2C+%22lon%22%3A+-0.069132353%7D%2C+%7B%22lat%22%3A+51.44892993%2C+%22lon%22%3A+-0.074756982%7D%2C+%7B%22lat%22%3A+51.44336822%2C+%22lon%22%3A+-0.078251301%7D%2C+%7B%22lat%22%3A+51.44258459%2C+%22lon%22%3A+-0.074833161%7D%2C+%7B%22lat%22%3A+51.45014284%2C+%22lon%22%3A+-0.07787008299999999%7D%2C+%7B%22lat%22%3A+51.44589742%2C+%22lon%22%3A+-0.08653924199999999%7D%2C+%7B%22lat%22%3A+51.45162939%2C+%22lon%22%3A+-0.084226391%7D%2C+%7B%22lat%22%3A+51.44926502%2C+%22lon%22%3A+-0.076009735%7D%2C+%7B%22lat%22%3A+51.45160842%2C+%22lon%22%3A+-0.07119305%7D%2C+%7B%22lat%22%3A+51.44248504%2C+%22lon%22%3A+-0.06507041%7D%2C+%7B%22lat%22%3A+51.43370739%2C+%22lon%22%3A+-0.05684324599999999%7D%2C+%7B%22lat%22%3A+51.42454099%2C+%22lon%22%3A+-0.055091912%7D%2C+%7B%22lat%22%3A+51.41675432%2C+%22lon%22%3A+-0.061530647%7D%2C+%7B%22lat%22%3A+51.41401034%2C+%22lon%22%3A+-0.060589242%7D%2C+%7B%22lat%22%3A+51.41053484%2C+%22lon%22%3A+-0.052374529%7D%2C+%7B%22lat%22%3A+51.40176375%2C+%22lon%22%3A+-0.061693147000000004%7D%2C+%7B%22lat%22%3A+51.39347343%2C+%22lon%22%3A+-0.063063699%7D%2C+%7B%22lat%22%3A+51.38488615%2C+%22lon%22%3A+-0.068775003%7D%2C+%7B%22lat%22%3A+51.38275542%2C+%22lon%22%3A+-0.078563831%7D%2C+%7B%22lat%22%3A+51.37843634%2C+%22lon%22%3A+-0.08761776199999999%7D%5D%2C+%22targets%22%3A+%5B%7B%22lat%22%3A+51.46521476%2C+%22lon%22%3A+-0.062113708%7D%2C+%7B%22lat%22%3A+51.46261949%2C+%22lon%22%3A+-0.060512127%7D%2C+%7B%22lat%22%3A+51.45343824%2C+%22lon%22%3A+-0.059155722%7D%2C+%7B%22lat%22%3A+51.45518%2C+%22lon%22%3A+-0.053692066%7D%2C+%7B%22lat%22%3A+51.45027573%2C+%22lon%22%3A+-0.06015078%7D%2C+%7B%22lat%22%3A+51.44321846%2C+%22lon%22%3A+-0.069132353%7D%2C+%7B%22lat%22%3A+51.44892993%2C+%22lon%22%3A+-0.074756982%7D%2C+%7B%22lat%22%3A+51.44336822%2C+%22lon%22%3A+-0.078251301%7D%2C+%7B%22lat%22%3A+51.44258459%2C+%22lon%22%3A+-0.074833161%7D%2C+%7B%22lat%22%3A+51.45014284%2C+%22lon%22%3A+-0.07787008299999999%7D%2C+%7B%22lat%22%3A+51.44589742%2C+%22lon%22%3A+-0.08653924199999999%7D%2C+%7B%22lat%22%3A+51.45162939%2C+%22lon%22%3A+-0.084226391%7D%2C+%7B%22lat%22%3A+51.44926502%2C+%22lon%22%3A+-0.076009735%7D%2C+%7B%22lat%22%3A+51.45160842%2C+%22lon%22%3A+-0.07119305%7D%2C+%7B%22lat%22%3A+51.44248504%2C+%22lon%22%3A+-0.06507041%7D%2C+%7B%22lat%22%3A+51.43370739%2C+%22lon%22%3A+-0.05684324599999999%7D%2C+%7B%22lat%22%3A+51.42454099%2C+%22lon%22%3A+-0.055091912%7D%2C+%7B%22lat%22%3A+51.41675432%2C+%22lon%22%3A+-0.061530647%7D%2C+%7B%22lat%22%3A+51.41401034%2C+%22lon%22%3A+-0.060589242%7D%2C+%7B%22lat%22%3A+51.41053484%2C+%22lon%22%3A+-0.052374529%7D%2C+%7B%22lat%22%3A+51.40176375%2C+%22lon%22%3A+-0.061693147000000004%7D%2C+%7B%22lat%22%3A+51.39347343%2C+%22lon%22%3A+-0.063063699%7D%2C+%7B%22lat%22%3A+51.38488615%2C+%22lon%22%3A+-0.068775003%7D%2C+%7B%22lat%22%3A+51.38275542%2C+%22lon%22%3A+-0.078563831%7D%2C+%7B%22lat%22%3A+51.37843634%2C+%22lon%22%3A+-0.08761776199999999%7D%5D%2C+%22costing%22%3A+%22auto%22%2C+%22id%22%3A+%22Example4_fake%22%7D&api_key=mapzen-f2yzt5S\n"
     ]
    }
   ],
   "source": [
    "costing = \"auto\"\n",
    "endpoint = \"https://matrix.mapzen.com/sources_to_targets\"\n",
    "\n",
    "bigDF = pandas.DataFrame()\n",
    "\n",
    "for n in range (0, breakup):\n",
    "    colDF=pandas.DataFrame()\n",
    "    \n",
    "    for m in range (0,breakup):\n",
    "        dictPath = {\"sources\":locations[n],\n",
    "                    \"targets\":locations[m],\n",
    "                    \"costing\":costing,\n",
    "                    \"id\": filename}\n",
    "        path = json.dumps(dictPath)\n",
    "        params = {\"json\":path,\"api_key\":key}\n",
    "        req = requests.get(endpoint, params=params)\n",
    "        #print req.url\n",
    "        jsonback = req.json()\n",
    "        #locationsOut = jsonback.get(\"locations\")\n",
    "        rawMatrix = jsonback.get(\"sources_to_targets\")\n",
    "        \n",
    "        #cols = list(range(1+n*50, 51+n*50)\n",
    "        #rows = list(range(1+m*50, 51+m*50)\n",
    "        cols = list(range(1+n*50, 1+n*50+len(locations[n])))\n",
    "        rows = list(range(1+m*50, 1+m*50+len(locations[m])))\n",
    "        mo = pandas.DataFrame(columns=cols, index=rows)\n",
    "        \n",
    "        for row in rawMatrix:\n",
    "            for edge in row:\n",
    "                D = edge['to_index']\n",
    "                O = edge['from_index']\n",
    "                distance = edge['distance']\n",
    "                mo.iloc[D,O]= distance\n",
    "                \n",
    "        #build up matrix for this n to all m\n",
    "        if m==0:\n",
    "            colDF = mo\n",
    "        else:\n",
    "            colDF = colDF.append(mo)\n",
    "            \n",
    "    if n==0:\n",
    "        bigDF = colDF\n",
    "    else:\n",
    "        bigDF = bigDF.merge(colDF, left_index=True, right_index=True, how='outer') \n",
    "            \n",
    "        #mo.to_csv(\"dataOut/\"+filename+\"_\"+str(n)+\"_\"+str(0)+\".csv\")\n",
    "bigDF.to_csv(\"dataOut/\"+filename+\"_out.csv\")"
   ]
  },
  {
   "cell_type": "code",
   "execution_count": 57,
   "metadata": {},
   "outputs": [
    {
     "data": {
      "text/html": [
       "<div>\n",
       "<style>\n",
       "    .dataframe thead tr:only-child th {\n",
       "        text-align: right;\n",
       "    }\n",
       "\n",
       "    .dataframe thead th {\n",
       "        text-align: left;\n",
       "    }\n",
       "\n",
       "    .dataframe tbody tr th {\n",
       "        vertical-align: top;\n",
       "    }\n",
       "</style>\n",
       "<table border=\"1\" class=\"dataframe\">\n",
       "  <thead>\n",
       "    <tr style=\"text-align: right;\">\n",
       "      <th></th>\n",
       "      <th>1</th>\n",
       "      <th>2</th>\n",
       "      <th>3</th>\n",
       "      <th>4</th>\n",
       "      <th>5</th>\n",
       "      <th>6</th>\n",
       "      <th>7</th>\n",
       "      <th>8</th>\n",
       "      <th>9</th>\n",
       "      <th>10</th>\n",
       "      <th>...</th>\n",
       "      <th>66</th>\n",
       "      <th>67</th>\n",
       "      <th>68</th>\n",
       "      <th>69</th>\n",
       "      <th>70</th>\n",
       "      <th>71</th>\n",
       "      <th>72</th>\n",
       "      <th>73</th>\n",
       "      <th>74</th>\n",
       "      <th>75</th>\n",
       "    </tr>\n",
       "  </thead>\n",
       "  <tbody>\n",
       "    <tr>\n",
       "      <th>71</th>\n",
       "      <td>14.91</td>\n",
       "      <td>15.701</td>\n",
       "      <td>16.408</td>\n",
       "      <td>17.579</td>\n",
       "      <td>16.377</td>\n",
       "      <td>17.371</td>\n",
       "      <td>16.942</td>\n",
       "      <td>17.781</td>\n",
       "      <td>17.442</td>\n",
       "      <td>17.787</td>\n",
       "      <td>...</td>\n",
       "      <td>4.737</td>\n",
       "      <td>3.403</td>\n",
       "      <td>2.751</td>\n",
       "      <td>2.5</td>\n",
       "      <td>1.439</td>\n",
       "      <td>0</td>\n",
       "      <td>2.509</td>\n",
       "      <td>3.877</td>\n",
       "      <td>4.9</td>\n",
       "      <td>5.43</td>\n",
       "    </tr>\n",
       "    <tr>\n",
       "      <th>72</th>\n",
       "      <td>15.633</td>\n",
       "      <td>16.424</td>\n",
       "      <td>17.131</td>\n",
       "      <td>18.302</td>\n",
       "      <td>17.1</td>\n",
       "      <td>18.094</td>\n",
       "      <td>17.665</td>\n",
       "      <td>18.504</td>\n",
       "      <td>18.165</td>\n",
       "      <td>18.51</td>\n",
       "      <td>...</td>\n",
       "      <td>6.484</td>\n",
       "      <td>5.15</td>\n",
       "      <td>4.154</td>\n",
       "      <td>3.936</td>\n",
       "      <td>3.491</td>\n",
       "      <td>2.554</td>\n",
       "      <td>0</td>\n",
       "      <td>1.742</td>\n",
       "      <td>1.865</td>\n",
       "      <td>2.957</td>\n",
       "    </tr>\n",
       "    <tr>\n",
       "      <th>73</th>\n",
       "      <td>16.795</td>\n",
       "      <td>17.586</td>\n",
       "      <td>18.293</td>\n",
       "      <td>19.464</td>\n",
       "      <td>18.262</td>\n",
       "      <td>19.256</td>\n",
       "      <td>18.827</td>\n",
       "      <td>19.666</td>\n",
       "      <td>19.327</td>\n",
       "      <td>19.672</td>\n",
       "      <td>...</td>\n",
       "      <td>7.664</td>\n",
       "      <td>6.33</td>\n",
       "      <td>5.334</td>\n",
       "      <td>5.116</td>\n",
       "      <td>4.671</td>\n",
       "      <td>3.893</td>\n",
       "      <td>1.823</td>\n",
       "      <td>0</td>\n",
       "      <td>1.519</td>\n",
       "      <td>2.077</td>\n",
       "    </tr>\n",
       "    <tr>\n",
       "      <th>74</th>\n",
       "      <td>16.669</td>\n",
       "      <td>17.46</td>\n",
       "      <td>18.167</td>\n",
       "      <td>19.338</td>\n",
       "      <td>18.136</td>\n",
       "      <td>19.13</td>\n",
       "      <td>18.701</td>\n",
       "      <td>19.54</td>\n",
       "      <td>19.201</td>\n",
       "      <td>19.546</td>\n",
       "      <td>...</td>\n",
       "      <td>7.769</td>\n",
       "      <td>6.435</td>\n",
       "      <td>5.439</td>\n",
       "      <td>5.221</td>\n",
       "      <td>5.694</td>\n",
       "      <td>3.863</td>\n",
       "      <td>1.946</td>\n",
       "      <td>1.519</td>\n",
       "      <td>0</td>\n",
       "      <td>1.198</td>\n",
       "    </tr>\n",
       "    <tr>\n",
       "      <th>75</th>\n",
       "      <td>16.539</td>\n",
       "      <td>17.33</td>\n",
       "      <td>18.037</td>\n",
       "      <td>19.208</td>\n",
       "      <td>18.006</td>\n",
       "      <td>19</td>\n",
       "      <td>18.571</td>\n",
       "      <td>19.41</td>\n",
       "      <td>19.071</td>\n",
       "      <td>19.416</td>\n",
       "      <td>...</td>\n",
       "      <td>9.217</td>\n",
       "      <td>7.883</td>\n",
       "      <td>6.887</td>\n",
       "      <td>6.669</td>\n",
       "      <td>6.224</td>\n",
       "      <td>4.925</td>\n",
       "      <td>3.008</td>\n",
       "      <td>2.077</td>\n",
       "      <td>1.168</td>\n",
       "      <td>0</td>\n",
       "    </tr>\n",
       "  </tbody>\n",
       "</table>\n",
       "<p>5 rows × 75 columns</p>\n",
       "</div>"
      ],
      "text/plain": [
       "        1       2       3       4       5       6       7       8       9   \\\n",
       "71   14.91  15.701  16.408  17.579  16.377  17.371  16.942  17.781  17.442   \n",
       "72  15.633  16.424  17.131  18.302    17.1  18.094  17.665  18.504  18.165   \n",
       "73  16.795  17.586  18.293  19.464  18.262  19.256  18.827  19.666  19.327   \n",
       "74  16.669   17.46  18.167  19.338  18.136   19.13  18.701   19.54  19.201   \n",
       "75  16.539   17.33  18.037  19.208  18.006      19  18.571   19.41  19.071   \n",
       "\n",
       "        10  ...       66     67     68     69     70     71     72     73  \\\n",
       "71  17.787  ...    4.737  3.403  2.751    2.5  1.439      0  2.509  3.877   \n",
       "72   18.51  ...    6.484   5.15  4.154  3.936  3.491  2.554      0  1.742   \n",
       "73  19.672  ...    7.664   6.33  5.334  5.116  4.671  3.893  1.823      0   \n",
       "74  19.546  ...    7.769  6.435  5.439  5.221  5.694  3.863  1.946  1.519   \n",
       "75  19.416  ...    9.217  7.883  6.887  6.669  6.224  4.925  3.008  2.077   \n",
       "\n",
       "       74     75  \n",
       "71    4.9   5.43  \n",
       "72  1.865  2.957  \n",
       "73  1.519  2.077  \n",
       "74      0  1.198  \n",
       "75  1.168      0  \n",
       "\n",
       "[5 rows x 75 columns]"
      ]
     },
     "execution_count": 57,
     "metadata": {},
     "output_type": "execute_result"
    }
   ],
   "source": [
    "bigDF.tail()     "
   ]
  },
  {
   "cell_type": "markdown",
   "metadata": {},
   "source": [
    "## JUNK BELOW - ignore it"
   ]
  },
  {
   "cell_type": "code",
   "execution_count": 231,
   "metadata": {},
   "outputs": [
    {
     "name": "stdout",
     "output_type": "stream",
     "text": [
      "{'sources': [{'lat': 51.523625399999993, 'lon': -0.13362449999999998}, {'lat': 51.524465399999997, 'lon': -0.13269420000000001}, {'lat': 51.524188000000002, 'lon': -0.13243099999999999}, {'lat': 51.518244000000003, 'lon': -0.12096510000000001}, {'lat': 51.518924669999997, 'lon': -0.13180378000000001}, {'lat': 51.519795000000002, 'lon': -0.1313291}, {'lat': 51.518234020000001, 'lon': -0.12843228000000001}, {'lat': 51.523468700000002, 'lon': -0.12731389999999998}], 'targets': [{'lat': 51.523625399999993, 'lon': -0.13362449999999998}, {'lat': 51.524465399999997, 'lon': -0.13269420000000001}, {'lat': 51.524188000000002, 'lon': -0.13243099999999999}, {'lat': 51.518244000000003, 'lon': -0.12096510000000001}, {'lat': 51.518924669999997, 'lon': -0.13180378000000001}, {'lat': 51.519795000000002, 'lon': -0.1313291}, {'lat': 51.518234020000001, 'lon': -0.12843228000000001}, {'lat': 51.523468700000002, 'lon': -0.12731389999999998}], 'costing': 'auto'}\n"
     ]
    }
   ],
   "source": [
    "costing = \"auto\"\n",
    "endpoint = \"https://matrix.mapzen.com/sources_to_targets\"\n",
    "\n",
    "dictPath = {\"sources\":locations[1],\n",
    "            \"targets\":locations[1],\n",
    "            \"costing\":costing}\n",
    "print dictPath\n",
    "path = json.dumps(dictPath)\n",
    "params = {\"json\":path,\"api_key\":key,\"id\": filename}\n",
    "req = requests.get(endpoint, params=params)\n",
    "#print req.url"
   ]
  },
  {
   "cell_type": "code",
   "execution_count": 232,
   "metadata": {},
   "outputs": [
    {
     "name": "stdout",
     "output_type": "stream",
     "text": [
      "{'locations': [{'lat': 51.523625399999993, 'lon': -0.13362449999999998}, {'lat': 51.524465399999997, 'lon': -0.13269420000000001}, {'lat': 51.524188000000002, 'lon': -0.13243099999999999}, {'lat': 51.518244000000003, 'lon': -0.12096510000000001}, {'lat': 51.518924669999997, 'lon': -0.13180378000000001}, {'lat': 51.519795000000002, 'lon': -0.1313291}, {'lat': 51.518234020000001, 'lon': -0.12843228000000001}, {'lat': 51.523468700000002, 'lon': -0.12731389999999998}], 'costing': 'auto'}\n"
     ]
    }
   ],
   "source": [
    "costing = \"auto\"\n",
    "endpoint = \"https://matrix.mapzen.com/many_to_many\"\n",
    "\n",
    "loc = locations[1]\n",
    "\n",
    "dictPath = {\"locations\":loc,\n",
    "            \"costing\":costing}\n",
    "print dictPath\n",
    "path = json.dumps(dictPath)\n",
    "params = {\"json\":path,\"api_key\":key,\"id\": filename}\n",
    "req = requests.get(endpoint, params=params)\n",
    "#print req.url"
   ]
  },
  {
   "cell_type": "markdown",
   "metadata": {},
   "source": [
    "## Generate multiple matrices and save each to a csv"
   ]
  },
  {
   "cell_type": "code",
   "execution_count": 48,
   "metadata": {},
   "outputs": [],
   "source": [
    "costing = \"auto\"\n",
    "endpoint = \"https://matrix.mapzen.com/sources_to_targets\"\n",
    "\n",
    "for n in range (0,breakup):\n",
    "    for m in range (0,breakup):\n",
    "        dictPath = {\"sources\":locations[n],\n",
    "                    \"targets\":locations[m],\n",
    "                    \"costing\":costing,\n",
    "                    \"id\": filename}\n",
    "        path = json.dumps(dictPath)\n",
    "        params = {\"json\":path,\"api_key\":key}\n",
    "        req = requests.get(endpoint, params=params)\n",
    "        #print req.url\n",
    "        jsonback = req.json()\n",
    "        #locationsOut = jsonback.get(\"locations\")\n",
    "        rawMatrix = jsonback.get(\"sources_to_targets\")\n",
    "        cols = list(range(1+n*50, 51+n*50))\n",
    "        rows = list(range(1+m*50, 51+m*50))\n",
    "        mo = pandas.DataFrame(columns=cols, index = rows)\n",
    "        \n",
    "        for row in rawMatrix:\n",
    "            for edge in row:\n",
    "                D = edge['to_index']\n",
    "                O = edge['from_index']\n",
    "                distance = edge['distance']\n",
    "                mo.iloc[D,O]= distance\n",
    "                \n",
    "        mo.to_csv(\"dataOut/\"+filename+\"_\"+str(n)+\"_\"+str(0)+\".csv\")\n",
    "        "
   ]
  }
 ],
 "metadata": {
  "kernelspec": {
   "display_name": "Python 2",
   "language": "python",
   "name": "python2"
  },
  "language_info": {
   "codemirror_mode": {
    "name": "ipython",
    "version": 2
   },
   "file_extension": ".py",
   "mimetype": "text/x-python",
   "name": "python",
   "nbconvert_exporter": "python",
   "pygments_lexer": "ipython2",
   "version": "2.7.13"
  }
 },
 "nbformat": 4,
 "nbformat_minor": 1
}
