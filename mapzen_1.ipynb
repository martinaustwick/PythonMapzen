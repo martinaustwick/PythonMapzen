{
 "cells": [
  {
   "cell_type": "markdown",
   "metadata": {},
   "source": [
    "# Mapzen python code\n",
    "\n",
    "You will need to\n",
    "- install Enthought or Anaconda, or another reader\n",
    "- install requests and json library"
   ]
  },
  {
   "cell_type": "markdown",
   "metadata": {},
   "source": [
    "## Always execute these next two cells of code!\n",
    "\n",
    "This is a MapZen key - you will need to use your own. Please note that you should NEVER share your key to GitHub or elsewhere."
   ]
  },
  {
   "cell_type": "code",
   "execution_count": 233,
   "metadata": {
    "collapsed": true
   },
   "outputs": [],
   "source": [
    "key = 'mapzen-yourkey'\n",
    "#endpoint = \"https://valhalla.mapzen.com/matrix\"\n",
    "#endpoint = \"https://matrix.mapzen.com/many_to_many\"\n",
    " "
   ]
  },
  {
   "cell_type": "code",
   "execution_count": 137,
   "metadata": {
    "collapsed": true
   },
   "outputs": [],
   "source": [
    "import requests\n",
    "import json\n",
    "import pandas"
   ]
  },
  {
   "cell_type": "markdown",
   "metadata": {},
   "source": [
    "# 1. Example query:"
   ]
  },
  {
   "cell_type": "code",
   "execution_count": 78,
   "metadata": {
    "collapsed": false
   },
   "outputs": [],
   "source": [
    "path=json.dumps({\"locations\":[{\"lat\":40.744014,\"lon\":-73.990508},{\"lat\":40.739735,\"lon\":-73.979713},{\"lat\":40.752522,\"lon\":-73.985015},{\"lat\":40.750117,\"lon\":-73.983704},{\"lat\":40.750552,\"lon\":-73.993519}], \"costing\":\"auto\"})"
   ]
  },
  {
   "cell_type": "code",
   "execution_count": 79,
   "metadata": {
    "collapsed": false
   },
   "outputs": [],
   "source": [
    "#params = {\"json\": json.dumps(route), \"api_key\": key}\n",
    "params = {\"json\":path,\"api_key\":key}\n",
    "req = requests.get(endpoint, params=params)"
   ]
  },
  {
   "cell_type": "code",
   "execution_count": 80,
   "metadata": {
    "collapsed": false
   },
   "outputs": [
    {
     "name": "stdout",
     "output_type": "stream",
     "text": [
      "{\"locations\":[[{\"lon\":-73.990509,\"lat\":40.744015},{\"lon\":-73.979713,\"lat\":40.739735},{\"lon\":-73.985016,\"lat\":40.752522},{\"lon\":-73.983704,\"lat\":40.750118},{\"lon\":-73.993523,\"lat\":40.750553}]],\"units\":\"km\",\"many_to_many\":[[{\"distance\":0.000,\"time\":0,\"to_index\":0,\"from_index\":0},{\"distance\":1.346,\"time\":335,\"to_index\":1,\"from_index\":0},{\"distance\":1.944,\"time\":341,\"to_index\":2,\"from_index\":0},{\"distance\":1.730,\"time\":340,\"to_index\":3,\"from_index\":0},{\"distance\":1.202,\"time\":210,\"to_index\":4,\"from_index\":0}],[{\"distance\":2.047,\"time\":362,\"to_index\":0,\"from_index\":1},{\"distance\":0.000,\"time\":0,\"to_index\":1,\"from_index\":1},{\"distance\":2.270,\"time\":371,\"to_index\":2,\"from_index\":1},{\"distance\":1.903,\"time\":287,\"to_index\":3,\"from_index\":1},{\"distance\":2.303,\"time\":390,\"to_index\":4,\"from_index\":1}],[{\"distance\":1.841,\"time\":348,\"to_index\":0,\"from_index\":2},{\"distance\":2.738,\"time\":346,\"to_index\":1,\"from_index\":2},{\"distance\":0.000,\"time\":0,\"to_index\":2,\"from_index\":2},{\"distance\":0.761,\"time\":228,\"to_index\":3,\"from_index\":2},{\"distance\":1.711,\"time\":371,\"to_index\":4,\"from_index\":2}],[{\"distance\":1.115,\"time\":201,\"to_index\":0,\"from_index\":3},{\"distance\":1.685,\"time\":262,\"to_index\":1,\"from_index\":3},{\"distance\":1.454,\"time\":252,\"to_index\":2,\"from_index\":3},{\"distance\":0.000,\"time\":0,\"to_index\":3,\"from_index\":3},{\"distance\":1.371,\"time\":229,\"to_index\":4,\"from_index\":3}],[{\"distance\":1.724,\"time\":256,\"to_index\":0,\"from_index\":4},{\"distance\":2.515,\"time\":307,\"to_index\":1,\"from_index\":4},{\"distance\":1.840,\"time\":300,\"to_index\":2,\"from_index\":4},{\"distance\":1.953,\"time\":331,\"to_index\":3,\"from_index\":4},{\"distance\":0.000,\"time\":0,\"to_index\":4,\"from_index\":4}]]}\n"
     ]
    }
   ],
   "source": [
    "print req.text"
   ]
  },
  {
   "cell_type": "markdown",
   "metadata": {},
   "source": [
    "# 2. Working with a small file (fewer than 50 locations)\n",
    "## Specify the filename and put it in the \"data\" folder\n",
    "\n",
    "Pay attention to the format of the file..."
   ]
  },
  {
   "cell_type": "code",
   "execution_count": 213,
   "metadata": {
    "collapsed": true
   },
   "outputs": [],
   "source": [
    "filename = \"Example1.csv\""
   ]
  },
  {
   "cell_type": "code",
   "execution_count": 214,
   "metadata": {
    "collapsed": false
   },
   "outputs": [
    {
     "data": {
      "text/html": [
       "<div>\n",
       "<table border=\"1\" class=\"dataframe\">\n",
       "  <thead>\n",
       "    <tr style=\"text-align: right;\">\n",
       "      <th></th>\n",
       "      <th>Node ID</th>\n",
       "      <th>Lat</th>\n",
       "      <th>Lon</th>\n",
       "      <th>Name of delivery point</th>\n",
       "      <th>From\\To</th>\n",
       "    </tr>\n",
       "  </thead>\n",
       "  <tbody>\n",
       "    <tr>\n",
       "      <th>0</th>\n",
       "      <td>1</td>\n",
       "      <td>51.523100</td>\n",
       "      <td>-0.260900</td>\n",
       "      <td>Depot</td>\n",
       "      <td>V0</td>\n",
       "    </tr>\n",
       "    <tr>\n",
       "      <th>1</th>\n",
       "      <td>2</td>\n",
       "      <td>51.521164</td>\n",
       "      <td>-0.132339</td>\n",
       "      <td>2 ridgmouth garderns</td>\n",
       "      <td>V1</td>\n",
       "    </tr>\n",
       "    <tr>\n",
       "      <th>2</th>\n",
       "      <td>3</td>\n",
       "      <td>51.521349</td>\n",
       "      <td>-0.134274</td>\n",
       "      <td>22-24 Torrington place (2nd floor)</td>\n",
       "      <td>V2</td>\n",
       "    </tr>\n",
       "    <tr>\n",
       "      <th>3</th>\n",
       "      <td>4</td>\n",
       "      <td>51.518203</td>\n",
       "      <td>-0.128535</td>\n",
       "      <td>21 bloomsbury street london, WC1B 3HF (3rd floor)</td>\n",
       "      <td>V3</td>\n",
       "    </tr>\n",
       "    <tr>\n",
       "      <th>4</th>\n",
       "      <td>5</td>\n",
       "      <td>51.518501</td>\n",
       "      <td>-0.124225</td>\n",
       "      <td>14 bury place, london WC1A 2JL</td>\n",
       "      <td>V4</td>\n",
       "    </tr>\n",
       "  </tbody>\n",
       "</table>\n",
       "</div>"
      ],
      "text/plain": [
       "   Node ID        Lat       Lon  \\\n",
       "0        1  51.523100 -0.260900   \n",
       "1        2  51.521164 -0.132339   \n",
       "2        3  51.521349 -0.134274   \n",
       "3        4  51.518203 -0.128535   \n",
       "4        5  51.518501 -0.124225   \n",
       "\n",
       "                              Name of delivery point From\\To  \n",
       "0                                              Depot      V0  \n",
       "1                               2 ridgmouth garderns      V1  \n",
       "2                 22-24 Torrington place (2nd floor)      V2  \n",
       "3  21 bloomsbury street london, WC1B 3HF (3rd floor)      V3  \n",
       "4                     14 bury place, london WC1A 2JL      V4  "
      ]
     },
     "execution_count": 214,
     "metadata": {},
     "output_type": "execute_result"
    }
   ],
   "source": [
    "dataIn = pandas.read_csv(\"data/\"+filename)\n",
    "dataIn.head()"
   ]
  },
  {
   "cell_type": "markdown",
   "metadata": {},
   "source": [
    "## Create dict for locations"
   ]
  },
  {
   "cell_type": "code",
   "execution_count": 215,
   "metadata": {
    "collapsed": false
   },
   "outputs": [],
   "source": [
    "locations = []\n",
    "for i in range(len(dataIn.index)):\n",
    "    locations.append({\"lon\":dataIn.Lon.iloc[i], \"lat\":dataIn.Lat.iloc[i]})\n",
    "\n",
    "test1 = locations"
   ]
  },
  {
   "cell_type": "markdown",
   "metadata": {},
   "source": [
    "## Specify the travel mode\n",
    "- auto (car)\n",
    "- pedestrian\n",
    "- bicyle"
   ]
  },
  {
   "cell_type": "code",
   "execution_count": 179,
   "metadata": {
    "collapsed": true
   },
   "outputs": [],
   "source": [
    "costing = \"auto\""
   ]
  },
  {
   "cell_type": "markdown",
   "metadata": {},
   "source": [
    "## Create a new dict with this and other prefs and feed it into a new json object"
   ]
  },
  {
   "cell_type": "code",
   "execution_count": 200,
   "metadata": {
    "collapsed": false
   },
   "outputs": [],
   "source": [
    "dictPath = {\"locations\":locations, \n",
    "            \"costing\":costing}\n",
    "#print dictPath"
   ]
  },
  {
   "cell_type": "code",
   "execution_count": 181,
   "metadata": {
    "collapsed": true
   },
   "outputs": [],
   "source": [
    "path = json.dumps(dictPath)"
   ]
  },
  {
   "cell_type": "markdown",
   "metadata": {},
   "source": [
    "## Send a request to MapZen"
   ]
  },
  {
   "cell_type": "code",
   "execution_count": 182,
   "metadata": {
    "collapsed": true
   },
   "outputs": [],
   "source": [
    "params = {\"json\":path,\"api_key\":key}\n",
    "req = requests.get(endpoint, params=params)"
   ]
  },
  {
   "cell_type": "code",
   "execution_count": 198,
   "metadata": {
    "collapsed": false
   },
   "outputs": [],
   "source": [
    "#print req.url"
   ]
  },
  {
   "cell_type": "code",
   "execution_count": 131,
   "metadata": {
    "collapsed": false
   },
   "outputs": [],
   "source": [
    "jsonback = req.json()\n",
    "locationsOut = jsonback.get(\"locations\")\n",
    "rawMatrix = jsonback.get(\"many_to_many\")"
   ]
  },
  {
   "cell_type": "markdown",
   "metadata": {},
   "source": [
    "## Specify Matrix\n",
    "\n",
    "Create a pandas dataframe, which is easy to save to csv. Here we use \"distance\", but we could also use \"time\".\n",
    "\n",
    "Here the **origin** is the **column**, and the **destination** is the **row**. The matrix is not necessarily symmetric."
   ]
  },
  {
   "cell_type": "code",
   "execution_count": 134,
   "metadata": {
    "collapsed": false
   },
   "outputs": [],
   "source": [
    "cols = list(range(1, 51))\n",
    "mo = pandas.DataFrame(columns=cols, index = cols)"
   ]
  },
  {
   "cell_type": "code",
   "execution_count": 135,
   "metadata": {
    "collapsed": false
   },
   "outputs": [
    {
     "data": {
      "text/html": [
       "<div>\n",
       "<table border=\"1\" class=\"dataframe\">\n",
       "  <thead>\n",
       "    <tr style=\"text-align: right;\">\n",
       "      <th></th>\n",
       "      <th>1</th>\n",
       "      <th>2</th>\n",
       "      <th>3</th>\n",
       "      <th>4</th>\n",
       "      <th>5</th>\n",
       "      <th>6</th>\n",
       "      <th>7</th>\n",
       "      <th>8</th>\n",
       "      <th>9</th>\n",
       "      <th>10</th>\n",
       "      <th>...</th>\n",
       "      <th>41</th>\n",
       "      <th>42</th>\n",
       "      <th>43</th>\n",
       "      <th>44</th>\n",
       "      <th>45</th>\n",
       "      <th>46</th>\n",
       "      <th>47</th>\n",
       "      <th>48</th>\n",
       "      <th>49</th>\n",
       "      <th>50</th>\n",
       "    </tr>\n",
       "  </thead>\n",
       "  <tbody>\n",
       "    <tr>\n",
       "      <th>1</th>\n",
       "      <td>0</td>\n",
       "      <td>10.527</td>\n",
       "      <td>10.326</td>\n",
       "      <td>10.924</td>\n",
       "      <td>11.782</td>\n",
       "      <td>10.912</td>\n",
       "      <td>10.252</td>\n",
       "      <td>10.162</td>\n",
       "      <td>10.065</td>\n",
       "      <td>10.238</td>\n",
       "      <td>...</td>\n",
       "      <td>10.72</td>\n",
       "      <td>10.731</td>\n",
       "      <td>10.369</td>\n",
       "      <td>10.293</td>\n",
       "      <td>10.215</td>\n",
       "      <td>10.322</td>\n",
       "      <td>10.251</td>\n",
       "      <td>9.869</td>\n",
       "      <td>10.238</td>\n",
       "      <td>11.144</td>\n",
       "    </tr>\n",
       "    <tr>\n",
       "      <th>2</th>\n",
       "      <td>10.894</td>\n",
       "      <td>0</td>\n",
       "      <td>0.628</td>\n",
       "      <td>0.721</td>\n",
       "      <td>1.6</td>\n",
       "      <td>1.63</td>\n",
       "      <td>0.345</td>\n",
       "      <td>0.345</td>\n",
       "      <td>0.423</td>\n",
       "      <td>0.331</td>\n",
       "      <td>...</td>\n",
       "      <td>1.438</td>\n",
       "      <td>1.449</td>\n",
       "      <td>1.087</td>\n",
       "      <td>1.011</td>\n",
       "      <td>1.555</td>\n",
       "      <td>1.378</td>\n",
       "      <td>1.591</td>\n",
       "      <td>0.925</td>\n",
       "      <td>0.331</td>\n",
       "      <td>0.941</td>\n",
       "    </tr>\n",
       "    <tr>\n",
       "      <th>3</th>\n",
       "      <td>10.855</td>\n",
       "      <td>1.364</td>\n",
       "      <td>0</td>\n",
       "      <td>0.989</td>\n",
       "      <td>1.561</td>\n",
       "      <td>3.305</td>\n",
       "      <td>1.061</td>\n",
       "      <td>0.971</td>\n",
       "      <td>0.874</td>\n",
       "      <td>1.047</td>\n",
       "      <td>...</td>\n",
       "      <td>3.113</td>\n",
       "      <td>3.124</td>\n",
       "      <td>2.762</td>\n",
       "      <td>2.686</td>\n",
       "      <td>2.608</td>\n",
       "      <td>1.131</td>\n",
       "      <td>2.644</td>\n",
       "      <td>2.262</td>\n",
       "      <td>1.047</td>\n",
       "      <td>1.209</td>\n",
       "    </tr>\n",
       "    <tr>\n",
       "      <th>4</th>\n",
       "      <td>11.247</td>\n",
       "      <td>0.629</td>\n",
       "      <td>2.19</td>\n",
       "      <td>0</td>\n",
       "      <td>1.126</td>\n",
       "      <td>2.087</td>\n",
       "      <td>0.957</td>\n",
       "      <td>0.957</td>\n",
       "      <td>1.03</td>\n",
       "      <td>0.943</td>\n",
       "      <td>...</td>\n",
       "      <td>1.895</td>\n",
       "      <td>1.906</td>\n",
       "      <td>1.544</td>\n",
       "      <td>1.468</td>\n",
       "      <td>1.39</td>\n",
       "      <td>1.213</td>\n",
       "      <td>1.426</td>\n",
       "      <td>1.382</td>\n",
       "      <td>0.943</td>\n",
       "      <td>0.474</td>\n",
       "    </tr>\n",
       "    <tr>\n",
       "      <th>5</th>\n",
       "      <td>11.66</td>\n",
       "      <td>0.823</td>\n",
       "      <td>2.033</td>\n",
       "      <td>0.613</td>\n",
       "      <td>0</td>\n",
       "      <td>0.71</td>\n",
       "      <td>1.151</td>\n",
       "      <td>1.151</td>\n",
       "      <td>1.224</td>\n",
       "      <td>1.137</td>\n",
       "      <td>...</td>\n",
       "      <td>0.902</td>\n",
       "      <td>1.267</td>\n",
       "      <td>1.273</td>\n",
       "      <td>1.662</td>\n",
       "      <td>1.584</td>\n",
       "      <td>1.407</td>\n",
       "      <td>1.62</td>\n",
       "      <td>1.576</td>\n",
       "      <td>1.137</td>\n",
       "      <td>0.917</td>\n",
       "    </tr>\n",
       "  </tbody>\n",
       "</table>\n",
       "<p>5 rows × 50 columns</p>\n",
       "</div>"
      ],
      "text/plain": [
       "       1       2       3       4       5       6       7       8       9   \\\n",
       "1       0  10.527  10.326  10.924  11.782  10.912  10.252  10.162  10.065   \n",
       "2  10.894       0   0.628   0.721     1.6    1.63   0.345   0.345   0.423   \n",
       "3  10.855   1.364       0   0.989   1.561   3.305   1.061   0.971   0.874   \n",
       "4  11.247   0.629    2.19       0   1.126   2.087   0.957   0.957    1.03   \n",
       "5   11.66   0.823   2.033   0.613       0    0.71   1.151   1.151   1.224   \n",
       "\n",
       "       10   ...       41      42      43      44      45      46      47  \\\n",
       "1  10.238   ...    10.72  10.731  10.369  10.293  10.215  10.322  10.251   \n",
       "2   0.331   ...    1.438   1.449   1.087   1.011   1.555   1.378   1.591   \n",
       "3   1.047   ...    3.113   3.124   2.762   2.686   2.608   1.131   2.644   \n",
       "4   0.943   ...    1.895   1.906   1.544   1.468    1.39   1.213   1.426   \n",
       "5   1.137   ...    0.902   1.267   1.273   1.662   1.584   1.407    1.62   \n",
       "\n",
       "      48      49      50  \n",
       "1  9.869  10.238  11.144  \n",
       "2  0.925   0.331   0.941  \n",
       "3  2.262   1.047   1.209  \n",
       "4  1.382   0.943   0.474  \n",
       "5  1.576   1.137   0.917  \n",
       "\n",
       "[5 rows x 50 columns]"
      ]
     },
     "execution_count": 135,
     "metadata": {},
     "output_type": "execute_result"
    }
   ],
   "source": [
    "for row in rawMatrix:\n",
    "    for edge in row:\n",
    "        D = edge['to_index']\n",
    "        O = edge['from_index']\n",
    "        distance = edge['distance']\n",
    "        mo.iloc[D,O]= distance\n",
    "mo.head()"
   ]
  },
  {
   "cell_type": "code",
   "execution_count": 119,
   "metadata": {
    "collapsed": false
   },
   "outputs": [],
   "source": [
    "mo.to_csv(\"dataOut/\"+filename)"
   ]
  },
  {
   "cell_type": "markdown",
   "metadata": {},
   "source": [
    "# 3. Larger files (more than 50 locations)"
   ]
  },
  {
   "cell_type": "code",
   "execution_count": null,
   "metadata": {
    "collapsed": true
   },
   "outputs": [],
   "source": [
    "filename = \"Example2\""
   ]
  },
  {
   "cell_type": "code",
   "execution_count": 223,
   "metadata": {
    "collapsed": false
   },
   "outputs": [
    {
     "data": {
      "text/html": [
       "<div>\n",
       "<table border=\"1\" class=\"dataframe\">\n",
       "  <thead>\n",
       "    <tr style=\"text-align: right;\">\n",
       "      <th></th>\n",
       "      <th>Node ID</th>\n",
       "      <th>Delivery Lat</th>\n",
       "      <th>Deliver Long</th>\n",
       "      <th>Name of delivery point</th>\n",
       "      <th>Unnamed: 4</th>\n",
       "    </tr>\n",
       "  </thead>\n",
       "  <tbody>\n",
       "    <tr>\n",
       "      <th>0</th>\n",
       "      <td>1</td>\n",
       "      <td>51.523100</td>\n",
       "      <td>-0.260900</td>\n",
       "      <td>Depot</td>\n",
       "      <td>V0</td>\n",
       "    </tr>\n",
       "    <tr>\n",
       "      <th>1</th>\n",
       "      <td>2</td>\n",
       "      <td>51.521164</td>\n",
       "      <td>-0.132339</td>\n",
       "      <td>2 ridgmouth garderns</td>\n",
       "      <td>V1</td>\n",
       "    </tr>\n",
       "    <tr>\n",
       "      <th>2</th>\n",
       "      <td>3</td>\n",
       "      <td>51.521349</td>\n",
       "      <td>-0.134274</td>\n",
       "      <td>22-24 Torrington place (2nd floor)</td>\n",
       "      <td>V2</td>\n",
       "    </tr>\n",
       "    <tr>\n",
       "      <th>3</th>\n",
       "      <td>4</td>\n",
       "      <td>51.518203</td>\n",
       "      <td>-0.128535</td>\n",
       "      <td>21 bloomsbury street london, WC1B 3HF (3rd floor)</td>\n",
       "      <td>V3</td>\n",
       "    </tr>\n",
       "    <tr>\n",
       "      <th>4</th>\n",
       "      <td>5</td>\n",
       "      <td>51.518501</td>\n",
       "      <td>-0.124225</td>\n",
       "      <td>14 bury place, london WC1A 2JL</td>\n",
       "      <td>V4</td>\n",
       "    </tr>\n",
       "  </tbody>\n",
       "</table>\n",
       "</div>"
      ],
      "text/plain": [
       "   Node ID  Delivery Lat  Deliver Long  \\\n",
       "0        1     51.523100     -0.260900   \n",
       "1        2     51.521164     -0.132339   \n",
       "2        3     51.521349     -0.134274   \n",
       "3        4     51.518203     -0.128535   \n",
       "4        5     51.518501     -0.124225   \n",
       "\n",
       "                              Name of delivery point Unnamed: 4  \n",
       "0                                              Depot         V0  \n",
       "1                               2 ridgmouth garderns         V1  \n",
       "2                 22-24 Torrington place (2nd floor)         V2  \n",
       "3  21 bloomsbury street london, WC1B 3HF (3rd floor)         V3  \n",
       "4                     14 bury place, london WC1A 2JL         V4  "
      ]
     },
     "execution_count": 223,
     "metadata": {},
     "output_type": "execute_result"
    }
   ],
   "source": [
    "dataIn = pandas.read_csv(\"data/\"+filename+\".csv\")\n",
    "dataIn.head()"
   ]
  },
  {
   "cell_type": "markdown",
   "metadata": {},
   "source": [
    "## Split this into multiple location lists (a list of lists)\n",
    "\n",
    "Make sure your column names match up here"
   ]
  },
  {
   "cell_type": "code",
   "execution_count": 224,
   "metadata": {
    "collapsed": false
   },
   "outputs": [],
   "source": [
    "breakup = 1 + (len(dataIn)/50)\n",
    "locations = []\n",
    "for i in range(0, breakup):\n",
    "    locations.append([])\n",
    "    \n",
    "latcol = \"Delivery Lat\"\n",
    "loncol = 'Deliver Long'\n",
    "\n",
    "n=0\n",
    "for i in range(len(dataIn.index)):\n",
    "    n = i/50\n",
    "    locations[n].append({\"lon\":dataIn[loncol].iloc[i], \"lat\":dataIn[latcol].iloc[i]})"
   ]
  },
  {
   "cell_type": "markdown",
   "metadata": {},
   "source": [
    "## Generate multiple matrices and save each to a csv"
   ]
  },
  {
   "cell_type": "code",
   "execution_count": 230,
   "metadata": {
    "collapsed": false
   },
   "outputs": [],
   "source": [
    "costing = \"auto\"\n",
    "api = \"https://matrix.mapzen.com/sources_to_targets\"\n",
    "\n",
    "for n in range (0,breakup):\n",
    "    for m in range (0,breakup):\n",
    "        dictPath = {\"sources\":locations[n],\n",
    "                    \"targets\":locations[m],\n",
    "                    \"costing\":costing,\n",
    "                    \"id\": filename}\n",
    "        path = json.dumps(dictPath)\n",
    "        params = {\"json\":path,\"api_key\":key}\n",
    "        req = requests.get(endpoint, params=params)\n",
    "        #print req.url\n",
    "        jsonback = req.json()\n",
    "        #locationsOut = jsonback.get(\"locations\")\n",
    "        rawMatrix = jsonback.get(\"sources_to_targets\")\n",
    "        cols = list(range(1+n*50, 51+n*50))\n",
    "        rows = list(range(1+m*50, 51+m*50))\n",
    "        mo = pandas.DataFrame(columns=cols, index = rows)\n",
    "        \n",
    "        for row in rawMatrix:\n",
    "            for edge in row:\n",
    "                D = edge['to_index']\n",
    "                O = edge['from_index']\n",
    "                distance = edge['distance']\n",
    "                mo.iloc[D,O]= distance\n",
    "                \n",
    "        mo.to_csv(\"dataOut/\"+filename+\"_\"+str(n)+\"_\"+str(0)+\".csv\")\n",
    "        "
   ]
  },
  {
   "cell_type": "markdown",
   "metadata": {},
   "source": [
    "## JUNK BELOW - ignore it"
   ]
  },
  {
   "cell_type": "code",
   "execution_count": 231,
   "metadata": {
    "collapsed": false
   },
   "outputs": [
    {
     "name": "stdout",
     "output_type": "stream",
     "text": [
      "{'sources': [{'lat': 51.523625399999993, 'lon': -0.13362449999999998}, {'lat': 51.524465399999997, 'lon': -0.13269420000000001}, {'lat': 51.524188000000002, 'lon': -0.13243099999999999}, {'lat': 51.518244000000003, 'lon': -0.12096510000000001}, {'lat': 51.518924669999997, 'lon': -0.13180378000000001}, {'lat': 51.519795000000002, 'lon': -0.1313291}, {'lat': 51.518234020000001, 'lon': -0.12843228000000001}, {'lat': 51.523468700000002, 'lon': -0.12731389999999998}], 'targets': [{'lat': 51.523625399999993, 'lon': -0.13362449999999998}, {'lat': 51.524465399999997, 'lon': -0.13269420000000001}, {'lat': 51.524188000000002, 'lon': -0.13243099999999999}, {'lat': 51.518244000000003, 'lon': -0.12096510000000001}, {'lat': 51.518924669999997, 'lon': -0.13180378000000001}, {'lat': 51.519795000000002, 'lon': -0.1313291}, {'lat': 51.518234020000001, 'lon': -0.12843228000000001}, {'lat': 51.523468700000002, 'lon': -0.12731389999999998}], 'costing': 'auto'}\n"
     ]
    }
   ],
   "source": [
    "costing = \"auto\"\n",
    "endpoint = \"https://matrix.mapzen.com/sources_to_targets\"\n",
    "\n",
    "dictPath = {\"sources\":locations[1],\n",
    "            \"targets\":locations[1],\n",
    "            \"costing\":costing}\n",
    "print dictPath\n",
    "path = json.dumps(dictPath)\n",
    "params = {\"json\":path,\"api_key\":key,\"id\": filename}\n",
    "req = requests.get(endpoint, params=params)\n",
    "#print req.url"
   ]
  },
  {
   "cell_type": "code",
   "execution_count": 232,
   "metadata": {
    "collapsed": false
   },
   "outputs": [
    {
     "name": "stdout",
     "output_type": "stream",
     "text": [
      "{'locations': [{'lat': 51.523625399999993, 'lon': -0.13362449999999998}, {'lat': 51.524465399999997, 'lon': -0.13269420000000001}, {'lat': 51.524188000000002, 'lon': -0.13243099999999999}, {'lat': 51.518244000000003, 'lon': -0.12096510000000001}, {'lat': 51.518924669999997, 'lon': -0.13180378000000001}, {'lat': 51.519795000000002, 'lon': -0.1313291}, {'lat': 51.518234020000001, 'lon': -0.12843228000000001}, {'lat': 51.523468700000002, 'lon': -0.12731389999999998}], 'costing': 'auto'}\n"
     ]
    }
   ],
   "source": [
    "costing = \"auto\"\n",
    "endpoint = \"https://matrix.mapzen.com/many_to_many\"\n",
    "\n",
    "loc = locations[1]\n",
    "\n",
    "dictPath = {\"locations\":loc,\n",
    "            \"costing\":costing}\n",
    "print dictPath\n",
    "path = json.dumps(dictPath)\n",
    "params = {\"json\":path,\"api_key\":key,\"id\": filename}\n",
    "req = requests.get(endpoint, params=params)\n",
    "#print req.url"
   ]
  },
  {
   "cell_type": "code",
   "execution_count": null,
   "metadata": {
    "collapsed": true
   },
   "outputs": [],
   "source": []
  }
 ],
 "metadata": {
  "kernelspec": {
   "display_name": "Python 2",
   "language": "python",
   "name": "python2"
  },
  "language_info": {
   "codemirror_mode": {
    "name": "ipython",
    "version": 2
   },
   "file_extension": ".py",
   "mimetype": "text/x-python",
   "name": "python",
   "nbconvert_exporter": "python",
   "pygments_lexer": "ipython2",
   "version": "2.7.11"
  }
 },
 "nbformat": 4,
 "nbformat_minor": 0
}
