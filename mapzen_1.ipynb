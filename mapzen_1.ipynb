{
 "cells": [
  {
   "cell_type": "markdown",
   "metadata": {},
   "source": [
    "# Mapzen python code\n",
    "\n",
    "You will need to\n",
    "- install Enthought or Anaconda, or another reader\n",
    "- install pandas, requests and json library"
   ]
  },
  {
   "cell_type": "markdown",
   "metadata": {},
   "source": [
    "## Always execute these next two cells of code!\n",
    "\n",
    "This is a MapZen key - you will need to use your own. Please note that you should NEVER share your key to GitHub or elsewhere."
   ]
  },
  {
   "cell_type": "code",
   "execution_count": 1,
   "metadata": {
    "collapsed": true
   },
   "outputs": [],
   "source": [
    "key = 'mapzen-yourkey'\n",
    "endpoint = \"https://matrix.mapzen.com/many_to_many\"\n",
    " "
   ]
  },
  {
   "cell_type": "code",
   "execution_count": 2,
   "metadata": {
    "collapsed": true
   },
   "outputs": [],
   "source": [
    "import requests\n",
    "import json\n",
    "import pandas"
   ]
  },
  {
   "cell_type": "markdown",
   "metadata": {},
   "source": [
    "## Loading a keyfile\n",
    "\n",
    "I've specificed a keyFile which stores my MapZen key so I can update this code without having to delete my key each time! And so can you. Create a json file in a text editor:\n",
    "\n",
    "{\n",
    "    \n",
    "    \"key\":\"your-key-here\"\n",
    "    \n",
    "}\n",
    "\n",
    "And save it as key.json somewhere not in your git directory. Then modify the below folder and it should update your key!"
   ]
  },
  {
   "cell_type": "code",
   "execution_count": 3,
   "metadata": {},
   "outputs": [],
   "source": [
    "keyFolder = \"/Users/martin/Dropbox/CASA/research/2015-08 EPSRC Freight Traffic Control/misc code/mapzen key/\"\n",
    "keyFile = \"key.json\"\n",
    "with open(keyFolder+keyFile) as data_file:    \n",
    "    keyJSON = json.load(data_file)\n",
    "key = keyJSON['key']"
   ]
  },
  {
   "cell_type": "markdown",
   "metadata": {},
   "source": [
    "# 1. Example query:"
   ]
  },
  {
   "cell_type": "code",
   "execution_count": 20,
   "metadata": {},
   "outputs": [],
   "source": [
    "path=json.dumps({\"locations\":[{\"lat\":40.744014,\"lon\":-73.990508},{\"lat\":40.739735,\"lon\":-73.979713},{\"lat\":40.752522,\"lon\":-73.985015},{\"lat\":40.750117,\"lon\":-73.983704},{\"lat\":40.750552,\"lon\":-73.993519}], \"costing\":\"auto\"})"
   ]
  },
  {
   "cell_type": "code",
   "execution_count": 21,
   "metadata": {},
   "outputs": [],
   "source": [
    "#params = {\"json\": json.dumps(route), \"api_key\": key}\n",
    "params = {\"json\":path,\"api_key\":key}\n",
    "req = requests.get(endpoint, params=params)"
   ]
  },
  {
   "cell_type": "code",
   "execution_count": 22,
   "metadata": {},
   "outputs": [
    {
     "name": "stdout",
     "output_type": "stream",
     "text": [
      "{\"locations\":[[{\"lon\":-73.990509,\"lat\":40.744015},{\"lon\":-73.979713,\"lat\":40.739735},{\"lon\":-73.985016,\"lat\":40.752522},{\"lon\":-73.983704,\"lat\":40.750118},{\"lon\":-73.993523,\"lat\":40.750553}]],\"units\":\"km\",\"many_to_many\":[[{\"distance\":0.000,\"time\":0,\"to_index\":0,\"from_index\":0},{\"distance\":1.346,\"time\":335,\"to_index\":1,\"from_index\":0},{\"distance\":1.944,\"time\":341,\"to_index\":2,\"from_index\":0},{\"distance\":1.730,\"time\":340,\"to_index\":3,\"from_index\":0},{\"distance\":1.202,\"time\":210,\"to_index\":4,\"from_index\":0}],[{\"distance\":2.047,\"time\":362,\"to_index\":0,\"from_index\":1},{\"distance\":0.000,\"time\":0,\"to_index\":1,\"from_index\":1},{\"distance\":2.270,\"time\":371,\"to_index\":2,\"from_index\":1},{\"distance\":1.903,\"time\":287,\"to_index\":3,\"from_index\":1},{\"distance\":2.303,\"time\":390,\"to_index\":4,\"from_index\":1}],[{\"distance\":1.841,\"time\":348,\"to_index\":0,\"from_index\":2},{\"distance\":2.738,\"time\":346,\"to_index\":1,\"from_index\":2},{\"distance\":0.000,\"time\":0,\"to_index\":2,\"from_index\":2},{\"distance\":0.761,\"time\":228,\"to_index\":3,\"from_index\":2},{\"distance\":1.711,\"time\":371,\"to_index\":4,\"from_index\":2}],[{\"distance\":1.115,\"time\":201,\"to_index\":0,\"from_index\":3},{\"distance\":1.685,\"time\":262,\"to_index\":1,\"from_index\":3},{\"distance\":1.454,\"time\":252,\"to_index\":2,\"from_index\":3},{\"distance\":0.000,\"time\":0,\"to_index\":3,\"from_index\":3},{\"distance\":1.371,\"time\":229,\"to_index\":4,\"from_index\":3}],[{\"distance\":1.724,\"time\":256,\"to_index\":0,\"from_index\":4},{\"distance\":2.515,\"time\":307,\"to_index\":1,\"from_index\":4},{\"distance\":1.840,\"time\":300,\"to_index\":2,\"from_index\":4},{\"distance\":1.953,\"time\":331,\"to_index\":3,\"from_index\":4},{\"distance\":0.000,\"time\":0,\"to_index\":4,\"from_index\":4}]]}\n"
     ]
    }
   ],
   "source": [
    "print req.text"
   ]
  },
  {
   "cell_type": "markdown",
   "metadata": {},
   "source": [
    "# 2. Working with a small file (fewer than 50 locations)\n",
    "## Specify the filename and put it in the \"data\" folder\n",
    "\n",
    "Pay attention to the format of the file..."
   ]
  },
  {
   "cell_type": "code",
   "execution_count": 40,
   "metadata": {
    "collapsed": true
   },
   "outputs": [],
   "source": [
    "#filename = \"Example1.csv\"\n",
    "filename = \"Example3_fake.csv\""
   ]
  },
  {
   "cell_type": "code",
   "execution_count": 41,
   "metadata": {},
   "outputs": [
    {
     "data": {
      "text/html": [
       "<div>\n",
       "<style>\n",
       "    .dataframe thead tr:only-child th {\n",
       "        text-align: right;\n",
       "    }\n",
       "\n",
       "    .dataframe thead th {\n",
       "        text-align: left;\n",
       "    }\n",
       "\n",
       "    .dataframe tbody tr th {\n",
       "        vertical-align: top;\n",
       "    }\n",
       "</style>\n",
       "<table border=\"1\" class=\"dataframe\">\n",
       "  <thead>\n",
       "    <tr style=\"text-align: right;\">\n",
       "      <th></th>\n",
       "      <th>Node ID</th>\n",
       "      <th>Lat</th>\n",
       "      <th>Lon</th>\n",
       "      <th>Unnamed: 3</th>\n",
       "    </tr>\n",
       "  </thead>\n",
       "  <tbody>\n",
       "    <tr>\n",
       "      <th>0</th>\n",
       "      <td>1</td>\n",
       "      <td>51.500000</td>\n",
       "      <td>-0.100000</td>\n",
       "      <td>NaN</td>\n",
       "    </tr>\n",
       "    <tr>\n",
       "      <th>1</th>\n",
       "      <td>2</td>\n",
       "      <td>51.498926</td>\n",
       "      <td>-0.102354</td>\n",
       "      <td>NaN</td>\n",
       "    </tr>\n",
       "    <tr>\n",
       "      <th>2</th>\n",
       "      <td>3</td>\n",
       "      <td>51.499040</td>\n",
       "      <td>-0.102451</td>\n",
       "      <td>NaN</td>\n",
       "    </tr>\n",
       "    <tr>\n",
       "      <th>3</th>\n",
       "      <td>4</td>\n",
       "      <td>51.503091</td>\n",
       "      <td>-0.099655</td>\n",
       "      <td>NaN</td>\n",
       "    </tr>\n",
       "    <tr>\n",
       "      <th>4</th>\n",
       "      <td>5</td>\n",
       "      <td>51.493588</td>\n",
       "      <td>-0.092621</td>\n",
       "      <td>NaN</td>\n",
       "    </tr>\n",
       "  </tbody>\n",
       "</table>\n",
       "</div>"
      ],
      "text/plain": [
       "   Node ID        Lat       Lon  Unnamed: 3\n",
       "0        1  51.500000 -0.100000         NaN\n",
       "1        2  51.498926 -0.102354         NaN\n",
       "2        3  51.499040 -0.102451         NaN\n",
       "3        4  51.503091 -0.099655         NaN\n",
       "4        5  51.493588 -0.092621         NaN"
      ]
     },
     "execution_count": 41,
     "metadata": {},
     "output_type": "execute_result"
    }
   ],
   "source": [
    "dataIn = pandas.read_csv(\"data/\"+filename)\n",
    "dataIn.head()"
   ]
  },
  {
   "cell_type": "markdown",
   "metadata": {},
   "source": [
    "## Create dict for locations"
   ]
  },
  {
   "cell_type": "code",
   "execution_count": 42,
   "metadata": {},
   "outputs": [],
   "source": [
    "locations = []\n",
    "for i in range(len(dataIn.index)):\n",
    "    locations.append({\"lon\":dataIn.Lon.iloc[i], \"lat\":dataIn.Lat.iloc[i]})\n",
    "\n",
    "test1 = locations"
   ]
  },
  {
   "cell_type": "markdown",
   "metadata": {},
   "source": [
    "## Specify the travel mode\n",
    "- auto (car)\n",
    "- pedestrian\n",
    "- bicyle"
   ]
  },
  {
   "cell_type": "code",
   "execution_count": 43,
   "metadata": {
    "collapsed": true
   },
   "outputs": [],
   "source": [
    "costing = \"auto\""
   ]
  },
  {
   "cell_type": "markdown",
   "metadata": {},
   "source": [
    "## Create a new dict with this and other prefs and feed it into a new json object"
   ]
  },
  {
   "cell_type": "code",
   "execution_count": 44,
   "metadata": {},
   "outputs": [],
   "source": [
    "dictPath = {\"locations\":locations, \n",
    "            \"costing\":costing}\n",
    "#print dictPath"
   ]
  },
  {
   "cell_type": "code",
   "execution_count": 45,
   "metadata": {
    "collapsed": true
   },
   "outputs": [],
   "source": [
    "path = json.dumps(dictPath)"
   ]
  },
  {
   "cell_type": "markdown",
   "metadata": {},
   "source": [
    "## Send a request to MapZen"
   ]
  },
  {
   "cell_type": "code",
   "execution_count": 46,
   "metadata": {
    "collapsed": true
   },
   "outputs": [],
   "source": [
    "params = {\"json\":path,\"api_key\":key}\n",
    "req = requests.get(endpoint, params=params)"
   ]
  },
  {
   "cell_type": "code",
   "execution_count": 47,
   "metadata": {},
   "outputs": [],
   "source": [
    "#print req.url"
   ]
  },
  {
   "cell_type": "code",
   "execution_count": 48,
   "metadata": {},
   "outputs": [],
   "source": [
    "jsonback = req.json()\n",
    "locationsOut = jsonback.get(\"locations\")\n",
    "rawMatrix = jsonback.get(\"many_to_many\")"
   ]
  },
  {
   "cell_type": "markdown",
   "metadata": {},
   "source": [
    "## Specify Matrix\n",
    "\n",
    "Create a pandas dataframe, which is easy to save to csv. Here we use \"distance\", but we could also use \"time\".\n",
    "\n",
    "Here the **origin** is the **column**, and the **destination** is the **row**. The matrix is not necessarily symmetric."
   ]
  },
  {
   "cell_type": "code",
   "execution_count": 49,
   "metadata": {},
   "outputs": [],
   "source": [
    "cols = list(range(1, 51))\n",
    "mo = pandas.DataFrame(columns=cols, index = cols)"
   ]
  },
  {
   "cell_type": "code",
   "execution_count": 50,
   "metadata": {},
   "outputs": [
    {
     "data": {
      "text/html": [
       "<div>\n",
       "<style>\n",
       "    .dataframe thead tr:only-child th {\n",
       "        text-align: right;\n",
       "    }\n",
       "\n",
       "    .dataframe thead th {\n",
       "        text-align: left;\n",
       "    }\n",
       "\n",
       "    .dataframe tbody tr th {\n",
       "        vertical-align: top;\n",
       "    }\n",
       "</style>\n",
       "<table border=\"1\" class=\"dataframe\">\n",
       "  <thead>\n",
       "    <tr style=\"text-align: right;\">\n",
       "      <th></th>\n",
       "      <th>1</th>\n",
       "      <th>2</th>\n",
       "      <th>3</th>\n",
       "      <th>4</th>\n",
       "      <th>5</th>\n",
       "      <th>6</th>\n",
       "      <th>7</th>\n",
       "      <th>8</th>\n",
       "      <th>9</th>\n",
       "      <th>10</th>\n",
       "      <th>...</th>\n",
       "      <th>41</th>\n",
       "      <th>42</th>\n",
       "      <th>43</th>\n",
       "      <th>44</th>\n",
       "      <th>45</th>\n",
       "      <th>46</th>\n",
       "      <th>47</th>\n",
       "      <th>48</th>\n",
       "      <th>49</th>\n",
       "      <th>50</th>\n",
       "    </tr>\n",
       "  </thead>\n",
       "  <tbody>\n",
       "    <tr>\n",
       "      <th>1</th>\n",
       "      <td>0</td>\n",
       "      <td>0.32</td>\n",
       "      <td>0.325</td>\n",
       "      <td>0.64</td>\n",
       "      <td>1.664</td>\n",
       "      <td>2.322</td>\n",
       "      <td>2.192</td>\n",
       "      <td>3.288</td>\n",
       "      <td>4.225</td>\n",
       "      <td>2.79</td>\n",
       "      <td>...</td>\n",
       "      <td>7.092</td>\n",
       "      <td>7.508</td>\n",
       "      <td>7.509</td>\n",
       "      <td>7.756</td>\n",
       "      <td>6.687</td>\n",
       "      <td>6.457</td>\n",
       "      <td>9.076</td>\n",
       "      <td>8.406</td>\n",
       "      <td>8.017</td>\n",
       "      <td>9.275</td>\n",
       "    </tr>\n",
       "    <tr>\n",
       "      <th>2</th>\n",
       "      <td>0.32</td>\n",
       "      <td>0</td>\n",
       "      <td>0.044</td>\n",
       "      <td>0.945</td>\n",
       "      <td>1.452</td>\n",
       "      <td>2.11</td>\n",
       "      <td>1.98</td>\n",
       "      <td>3.076</td>\n",
       "      <td>4.013</td>\n",
       "      <td>2.578</td>\n",
       "      <td>...</td>\n",
       "      <td>6.88</td>\n",
       "      <td>7.296</td>\n",
       "      <td>7.297</td>\n",
       "      <td>7.544</td>\n",
       "      <td>6.475</td>\n",
       "      <td>6.245</td>\n",
       "      <td>8.864</td>\n",
       "      <td>8.194</td>\n",
       "      <td>7.805</td>\n",
       "      <td>9.063</td>\n",
       "    </tr>\n",
       "    <tr>\n",
       "      <th>3</th>\n",
       "      <td>0.335</td>\n",
       "      <td>0.044</td>\n",
       "      <td>0</td>\n",
       "      <td>0.94</td>\n",
       "      <td>1.457</td>\n",
       "      <td>2.115</td>\n",
       "      <td>1.985</td>\n",
       "      <td>3.081</td>\n",
       "      <td>4.018</td>\n",
       "      <td>2.583</td>\n",
       "      <td>...</td>\n",
       "      <td>6.885</td>\n",
       "      <td>7.301</td>\n",
       "      <td>7.302</td>\n",
       "      <td>7.549</td>\n",
       "      <td>6.48</td>\n",
       "      <td>6.25</td>\n",
       "      <td>8.869</td>\n",
       "      <td>8.199</td>\n",
       "      <td>7.81</td>\n",
       "      <td>9.068</td>\n",
       "    </tr>\n",
       "    <tr>\n",
       "      <th>4</th>\n",
       "      <td>0.575</td>\n",
       "      <td>0.831</td>\n",
       "      <td>0.836</td>\n",
       "      <td>0</td>\n",
       "      <td>1.853</td>\n",
       "      <td>2.511</td>\n",
       "      <td>2.288</td>\n",
       "      <td>2.913</td>\n",
       "      <td>3.85</td>\n",
       "      <td>2.927</td>\n",
       "      <td>...</td>\n",
       "      <td>6.717</td>\n",
       "      <td>7.133</td>\n",
       "      <td>7.134</td>\n",
       "      <td>7.381</td>\n",
       "      <td>6.312</td>\n",
       "      <td>6.082</td>\n",
       "      <td>8.701</td>\n",
       "      <td>8.031</td>\n",
       "      <td>7.642</td>\n",
       "      <td>8.9</td>\n",
       "    </tr>\n",
       "    <tr>\n",
       "      <th>5</th>\n",
       "      <td>2.765</td>\n",
       "      <td>2.445</td>\n",
       "      <td>2.44</td>\n",
       "      <td>3.098</td>\n",
       "      <td>0</td>\n",
       "      <td>0.821</td>\n",
       "      <td>1.27</td>\n",
       "      <td>1.895</td>\n",
       "      <td>2.832</td>\n",
       "      <td>1.909</td>\n",
       "      <td>...</td>\n",
       "      <td>5.699</td>\n",
       "      <td>6.495</td>\n",
       "      <td>6.496</td>\n",
       "      <td>6.363</td>\n",
       "      <td>5.294</td>\n",
       "      <td>5.064</td>\n",
       "      <td>7.683</td>\n",
       "      <td>7.013</td>\n",
       "      <td>6.624</td>\n",
       "      <td>7.882</td>\n",
       "    </tr>\n",
       "  </tbody>\n",
       "</table>\n",
       "<p>5 rows × 50 columns</p>\n",
       "</div>"
      ],
      "text/plain": [
       "      1      2      3      4      5      6      7      8      9      10  \\\n",
       "1      0   0.32  0.325   0.64  1.664  2.322  2.192  3.288  4.225   2.79   \n",
       "2   0.32      0  0.044  0.945  1.452   2.11   1.98  3.076  4.013  2.578   \n",
       "3  0.335  0.044      0   0.94  1.457  2.115  1.985  3.081  4.018  2.583   \n",
       "4  0.575  0.831  0.836      0  1.853  2.511  2.288  2.913   3.85  2.927   \n",
       "5  2.765  2.445   2.44  3.098      0  0.821   1.27  1.895  2.832  1.909   \n",
       "\n",
       "   ...       41     42     43     44     45     46     47     48     49     50  \n",
       "1  ...    7.092  7.508  7.509  7.756  6.687  6.457  9.076  8.406  8.017  9.275  \n",
       "2  ...     6.88  7.296  7.297  7.544  6.475  6.245  8.864  8.194  7.805  9.063  \n",
       "3  ...    6.885  7.301  7.302  7.549   6.48   6.25  8.869  8.199   7.81  9.068  \n",
       "4  ...    6.717  7.133  7.134  7.381  6.312  6.082  8.701  8.031  7.642    8.9  \n",
       "5  ...    5.699  6.495  6.496  6.363  5.294  5.064  7.683  7.013  6.624  7.882  \n",
       "\n",
       "[5 rows x 50 columns]"
      ]
     },
     "execution_count": 50,
     "metadata": {},
     "output_type": "execute_result"
    }
   ],
   "source": [
    "for row in rawMatrix:\n",
    "    for edge in row:\n",
    "        D = edge['to_index']\n",
    "        O = edge['from_index']\n",
    "        distance = edge['distance']\n",
    "        mo.iloc[D,O]= distance\n",
    "mo.head()"
   ]
  },
  {
   "cell_type": "code",
   "execution_count": 51,
   "metadata": {},
   "outputs": [],
   "source": [
    "mo.to_csv(\"dataOut/\"+filename)"
   ]
  },
  {
   "cell_type": "markdown",
   "metadata": {},
   "source": [
    "# 3. Larger files (more than 50 locations)"
   ]
  },
  {
   "cell_type": "code",
   "execution_count": 59,
   "metadata": {
    "collapsed": true
   },
   "outputs": [],
   "source": [
    "filename = \"Example4_fake\""
   ]
  },
  {
   "cell_type": "code",
   "execution_count": 60,
   "metadata": {},
   "outputs": [
    {
     "data": {
      "text/html": [
       "<div>\n",
       "<style>\n",
       "    .dataframe thead tr:only-child th {\n",
       "        text-align: right;\n",
       "    }\n",
       "\n",
       "    .dataframe thead th {\n",
       "        text-align: left;\n",
       "    }\n",
       "\n",
       "    .dataframe tbody tr th {\n",
       "        vertical-align: top;\n",
       "    }\n",
       "</style>\n",
       "<table border=\"1\" class=\"dataframe\">\n",
       "  <thead>\n",
       "    <tr style=\"text-align: right;\">\n",
       "      <th></th>\n",
       "      <th>Node ID</th>\n",
       "      <th>Lat</th>\n",
       "      <th>Lon</th>\n",
       "      <th>Unnamed: 3</th>\n",
       "    </tr>\n",
       "  </thead>\n",
       "  <tbody>\n",
       "    <tr>\n",
       "      <th>0</th>\n",
       "      <td>1</td>\n",
       "      <td>51.500000</td>\n",
       "      <td>-0.100000</td>\n",
       "      <td>NaN</td>\n",
       "    </tr>\n",
       "    <tr>\n",
       "      <th>1</th>\n",
       "      <td>2</td>\n",
       "      <td>51.442291</td>\n",
       "      <td>-0.012729</td>\n",
       "      <td>NaN</td>\n",
       "    </tr>\n",
       "    <tr>\n",
       "      <th>2</th>\n",
       "      <td>3</td>\n",
       "      <td>51.342476</td>\n",
       "      <td>-0.066382</td>\n",
       "      <td>NaN</td>\n",
       "    </tr>\n",
       "    <tr>\n",
       "      <th>3</th>\n",
       "      <td>4</td>\n",
       "      <td>51.290540</td>\n",
       "      <td>-0.060338</td>\n",
       "      <td>NaN</td>\n",
       "    </tr>\n",
       "    <tr>\n",
       "      <th>4</th>\n",
       "      <td>5</td>\n",
       "      <td>51.221005</td>\n",
       "      <td>-0.005881</td>\n",
       "      <td>NaN</td>\n",
       "    </tr>\n",
       "  </tbody>\n",
       "</table>\n",
       "</div>"
      ],
      "text/plain": [
       "   Node ID        Lat       Lon  Unnamed: 3\n",
       "0        1  51.500000 -0.100000         NaN\n",
       "1        2  51.442291 -0.012729         NaN\n",
       "2        3  51.342476 -0.066382         NaN\n",
       "3        4  51.290540 -0.060338         NaN\n",
       "4        5  51.221005 -0.005881         NaN"
      ]
     },
     "execution_count": 60,
     "metadata": {},
     "output_type": "execute_result"
    }
   ],
   "source": [
    "dataIn = pandas.read_csv(\"data/\"+filename+\".csv\")\n",
    "dataIn.head()"
   ]
  },
  {
   "cell_type": "markdown",
   "metadata": {},
   "source": [
    "## Split this into multiple location lists (a list of lists)\n",
    "\n",
    "Make sure your column names match up here"
   ]
  },
  {
   "cell_type": "code",
   "execution_count": 61,
   "metadata": {},
   "outputs": [
    {
     "name": "stdout",
     "output_type": "stream",
     "text": [
      "breakup\n",
      "2\n",
      "<type 'int'>\n"
     ]
    }
   ],
   "source": [
    "breakup = 1 + int(len(dataIn)/50)\n",
    "print \"breakup\"\n",
    "print breakup\n",
    "print type(breakup)\n",
    "\n",
    "locations = []\n",
    "for i in range(0, breakup):\n",
    "    locations.append([])\n",
    "    \n",
    "#latcol = \"Delivery Lat\"\n",
    "#loncol = 'Deliver Long'\n",
    "\n",
    "latcol = \"Lat\"\n",
    "loncol = 'Lon'\n",
    "\n",
    "n=0\n",
    "for i in range(len(dataIn.index)):\n",
    "    n = i/50\n",
    "    locations[n].append({\"lon\":dataIn[loncol].iloc[i], \"lat\":dataIn[latcol].iloc[i]})"
   ]
  },
  {
   "cell_type": "markdown",
   "metadata": {},
   "source": [
    "## Save into one .csv\n",
    "\n",
    "Called \"FilenameIn_out.csv\""
   ]
  },
  {
   "cell_type": "code",
   "execution_count": 62,
   "metadata": {},
   "outputs": [],
   "source": [
    "costing = \"auto\"\n",
    "endpoint = \"https://matrix.mapzen.com/sources_to_targets\"\n",
    "\n",
    "bigDF = pandas.DataFrame()\n",
    "\n",
    "for n in range (0, breakup):\n",
    "    colDF=pandas.DataFrame()\n",
    "    \n",
    "    for m in range (0,breakup):\n",
    "        dictPath = {\"sources\":locations[n],\n",
    "                    \"targets\":locations[m],\n",
    "                    \"costing\":costing,\n",
    "                    \"id\": filename}\n",
    "        path = json.dumps(dictPath)\n",
    "        params = {\"json\":path,\"api_key\":key}\n",
    "        req = requests.get(endpoint, params=params)\n",
    "        #print req.url\n",
    "        jsonback = req.json()\n",
    "        #locationsOut = jsonback.get(\"locations\")\n",
    "        rawMatrix = jsonback.get(\"sources_to_targets\")\n",
    "        \n",
    "        #cols = list(range(1+n*50, 51+n*50)\n",
    "        #rows = list(range(1+m*50, 51+m*50)\n",
    "        cols = list(range(1+n*50, 1+n*50+len(locations[n])))\n",
    "        rows = list(range(1+m*50, 1+m*50+len(locations[m])))\n",
    "        mo = pandas.DataFrame(columns=cols, index=rows)\n",
    "        \n",
    "        for row in rawMatrix:\n",
    "            for edge in row:\n",
    "                D = edge['to_index']\n",
    "                O = edge['from_index']\n",
    "                distance = edge['distance']\n",
    "                mo.iloc[D,O]= distance\n",
    "                \n",
    "        #build up matrix for this n to all m\n",
    "        if m==0:\n",
    "            colDF = mo\n",
    "        else:\n",
    "            colDF = colDF.append(mo)\n",
    "            \n",
    "    if n==0:\n",
    "        bigDF = colDF\n",
    "    else:\n",
    "        bigDF = bigDF.merge(colDF, left_index=True, right_index=True, how='outer') \n",
    "            \n",
    "        #mo.to_csv(\"dataOut/\"+filename+\"_\"+str(n)+\"_\"+str(0)+\".csv\")\n",
    "bigDF.to_csv(\"dataOut/\"+filename+\"_out.csv\")"
   ]
  },
  {
   "cell_type": "code",
   "execution_count": 63,
   "metadata": {},
   "outputs": [
    {
     "data": {
      "text/html": [
       "<div>\n",
       "<style>\n",
       "    .dataframe thead tr:only-child th {\n",
       "        text-align: right;\n",
       "    }\n",
       "\n",
       "    .dataframe thead th {\n",
       "        text-align: left;\n",
       "    }\n",
       "\n",
       "    .dataframe tbody tr th {\n",
       "        vertical-align: top;\n",
       "    }\n",
       "</style>\n",
       "<table border=\"1\" class=\"dataframe\">\n",
       "  <thead>\n",
       "    <tr style=\"text-align: right;\">\n",
       "      <th></th>\n",
       "      <th>1</th>\n",
       "      <th>2</th>\n",
       "      <th>3</th>\n",
       "      <th>4</th>\n",
       "      <th>5</th>\n",
       "      <th>6</th>\n",
       "      <th>7</th>\n",
       "      <th>8</th>\n",
       "      <th>9</th>\n",
       "      <th>10</th>\n",
       "      <th>...</th>\n",
       "      <th>66</th>\n",
       "      <th>67</th>\n",
       "      <th>68</th>\n",
       "      <th>69</th>\n",
       "      <th>70</th>\n",
       "      <th>71</th>\n",
       "      <th>72</th>\n",
       "      <th>73</th>\n",
       "      <th>74</th>\n",
       "      <th>75</th>\n",
       "    </tr>\n",
       "  </thead>\n",
       "  <tbody>\n",
       "    <tr>\n",
       "      <th>71</th>\n",
       "      <td>46.223</td>\n",
       "      <td>81.813</td>\n",
       "      <td>47.997</td>\n",
       "      <td>40.437</td>\n",
       "      <td>44.953</td>\n",
       "      <td>36.919</td>\n",
       "      <td>52.107</td>\n",
       "      <td>52.276</td>\n",
       "      <td>61.328</td>\n",
       "      <td>55.043</td>\n",
       "      <td>...</td>\n",
       "      <td>15.463</td>\n",
       "      <td>15.424</td>\n",
       "      <td>18.088</td>\n",
       "      <td>32.245</td>\n",
       "      <td>18.267</td>\n",
       "      <td>0</td>\n",
       "      <td>9.901</td>\n",
       "      <td>10.529</td>\n",
       "      <td>7.386</td>\n",
       "      <td>24.97</td>\n",
       "    </tr>\n",
       "    <tr>\n",
       "      <th>72</th>\n",
       "      <td>52.547</td>\n",
       "      <td>79.885</td>\n",
       "      <td>39.32</td>\n",
       "      <td>38.509</td>\n",
       "      <td>43.025</td>\n",
       "      <td>34.039</td>\n",
       "      <td>43.429</td>\n",
       "      <td>49.396</td>\n",
       "      <td>52.65</td>\n",
       "      <td>45.183</td>\n",
       "      <td>...</td>\n",
       "      <td>21.117</td>\n",
       "      <td>13.373</td>\n",
       "      <td>13.635</td>\n",
       "      <td>23.567</td>\n",
       "      <td>13.814</td>\n",
       "      <td>8.678</td>\n",
       "      <td>0</td>\n",
       "      <td>10.172</td>\n",
       "      <td>7.68</td>\n",
       "      <td>12.197</td>\n",
       "    </tr>\n",
       "    <tr>\n",
       "      <th>73</th>\n",
       "      <td>56.984</td>\n",
       "      <td>61.096</td>\n",
       "      <td>55.694</td>\n",
       "      <td>48.134</td>\n",
       "      <td>52.65</td>\n",
       "      <td>44.211</td>\n",
       "      <td>53.601</td>\n",
       "      <td>59.568</td>\n",
       "      <td>62.822</td>\n",
       "      <td>55.355</td>\n",
       "      <td>...</td>\n",
       "      <td>17.872</td>\n",
       "      <td>10.128</td>\n",
       "      <td>10.561</td>\n",
       "      <td>24.374</td>\n",
       "      <td>10.74</td>\n",
       "      <td>11.755</td>\n",
       "      <td>10.172</td>\n",
       "      <td>0</td>\n",
       "      <td>3.78</td>\n",
       "      <td>22.369</td>\n",
       "    </tr>\n",
       "    <tr>\n",
       "      <th>74</th>\n",
       "      <td>57.628</td>\n",
       "      <td>61.74</td>\n",
       "      <td>41.116</td>\n",
       "      <td>47.453</td>\n",
       "      <td>51.969</td>\n",
       "      <td>41.719</td>\n",
       "      <td>51.109</td>\n",
       "      <td>57.076</td>\n",
       "      <td>60.33</td>\n",
       "      <td>52.863</td>\n",
       "      <td>...</td>\n",
       "      <td>18.702</td>\n",
       "      <td>10.958</td>\n",
       "      <td>11.22</td>\n",
       "      <td>25.033</td>\n",
       "      <td>11.399</td>\n",
       "      <td>7.386</td>\n",
       "      <td>7.68</td>\n",
       "      <td>3.78</td>\n",
       "      <td>0</td>\n",
       "      <td>19.877</td>\n",
       "    </tr>\n",
       "    <tr>\n",
       "      <th>75</th>\n",
       "      <td>65.11</td>\n",
       "      <td>85.177</td>\n",
       "      <td>51.361</td>\n",
       "      <td>43.801</td>\n",
       "      <td>48.317</td>\n",
       "      <td>25.649</td>\n",
       "      <td>35.039</td>\n",
       "      <td>41.006</td>\n",
       "      <td>42.786</td>\n",
       "      <td>36.793</td>\n",
       "      <td>...</td>\n",
       "      <td>29.653</td>\n",
       "      <td>25.629</td>\n",
       "      <td>20.726</td>\n",
       "      <td>22.377</td>\n",
       "      <td>18.071</td>\n",
       "      <td>21.107</td>\n",
       "      <td>12.429</td>\n",
       "      <td>22.601</td>\n",
       "      <td>20.109</td>\n",
       "      <td>0</td>\n",
       "    </tr>\n",
       "  </tbody>\n",
       "</table>\n",
       "<p>5 rows × 75 columns</p>\n",
       "</div>"
      ],
      "text/plain": [
       "        1       2       3       4       5       6       7       8       9   \\\n",
       "71  46.223  81.813  47.997  40.437  44.953  36.919  52.107  52.276  61.328   \n",
       "72  52.547  79.885   39.32  38.509  43.025  34.039  43.429  49.396   52.65   \n",
       "73  56.984  61.096  55.694  48.134   52.65  44.211  53.601  59.568  62.822   \n",
       "74  57.628   61.74  41.116  47.453  51.969  41.719  51.109  57.076   60.33   \n",
       "75   65.11  85.177  51.361  43.801  48.317  25.649  35.039  41.006  42.786   \n",
       "\n",
       "        10   ...        66      67      68      69      70      71      72  \\\n",
       "71  55.043   ...    15.463  15.424  18.088  32.245  18.267       0   9.901   \n",
       "72  45.183   ...    21.117  13.373  13.635  23.567  13.814   8.678       0   \n",
       "73  55.355   ...    17.872  10.128  10.561  24.374   10.74  11.755  10.172   \n",
       "74  52.863   ...    18.702  10.958   11.22  25.033  11.399   7.386    7.68   \n",
       "75  36.793   ...    29.653  25.629  20.726  22.377  18.071  21.107  12.429   \n",
       "\n",
       "        73      74      75  \n",
       "71  10.529   7.386   24.97  \n",
       "72  10.172    7.68  12.197  \n",
       "73       0    3.78  22.369  \n",
       "74    3.78       0  19.877  \n",
       "75  22.601  20.109       0  \n",
       "\n",
       "[5 rows x 75 columns]"
      ]
     },
     "execution_count": 63,
     "metadata": {},
     "output_type": "execute_result"
    }
   ],
   "source": [
    "bigDF.tail()     "
   ]
  },
  {
   "cell_type": "markdown",
   "metadata": {},
   "source": [
    "## JUNK BELOW - ignore it"
   ]
  },
  {
   "cell_type": "code",
   "execution_count": 231,
   "metadata": {},
   "outputs": [
    {
     "name": "stdout",
     "output_type": "stream",
     "text": [
      "{'sources': [{'lat': 51.523625399999993, 'lon': -0.13362449999999998}, {'lat': 51.524465399999997, 'lon': -0.13269420000000001}, {'lat': 51.524188000000002, 'lon': -0.13243099999999999}, {'lat': 51.518244000000003, 'lon': -0.12096510000000001}, {'lat': 51.518924669999997, 'lon': -0.13180378000000001}, {'lat': 51.519795000000002, 'lon': -0.1313291}, {'lat': 51.518234020000001, 'lon': -0.12843228000000001}, {'lat': 51.523468700000002, 'lon': -0.12731389999999998}], 'targets': [{'lat': 51.523625399999993, 'lon': -0.13362449999999998}, {'lat': 51.524465399999997, 'lon': -0.13269420000000001}, {'lat': 51.524188000000002, 'lon': -0.13243099999999999}, {'lat': 51.518244000000003, 'lon': -0.12096510000000001}, {'lat': 51.518924669999997, 'lon': -0.13180378000000001}, {'lat': 51.519795000000002, 'lon': -0.1313291}, {'lat': 51.518234020000001, 'lon': -0.12843228000000001}, {'lat': 51.523468700000002, 'lon': -0.12731389999999998}], 'costing': 'auto'}\n"
     ]
    }
   ],
   "source": [
    "costing = \"auto\"\n",
    "endpoint = \"https://matrix.mapzen.com/sources_to_targets\"\n",
    "\n",
    "dictPath = {\"sources\":locations[1],\n",
    "            \"targets\":locations[1],\n",
    "            \"costing\":costing}\n",
    "print dictPath\n",
    "path = json.dumps(dictPath)\n",
    "params = {\"json\":path,\"api_key\":key,\"id\": filename}\n",
    "req = requests.get(endpoint, params=params)\n",
    "#print req.url"
   ]
  },
  {
   "cell_type": "code",
   "execution_count": 232,
   "metadata": {},
   "outputs": [
    {
     "name": "stdout",
     "output_type": "stream",
     "text": [
      "{'locations': [{'lat': 51.523625399999993, 'lon': -0.13362449999999998}, {'lat': 51.524465399999997, 'lon': -0.13269420000000001}, {'lat': 51.524188000000002, 'lon': -0.13243099999999999}, {'lat': 51.518244000000003, 'lon': -0.12096510000000001}, {'lat': 51.518924669999997, 'lon': -0.13180378000000001}, {'lat': 51.519795000000002, 'lon': -0.1313291}, {'lat': 51.518234020000001, 'lon': -0.12843228000000001}, {'lat': 51.523468700000002, 'lon': -0.12731389999999998}], 'costing': 'auto'}\n"
     ]
    }
   ],
   "source": [
    "costing = \"auto\"\n",
    "endpoint = \"https://matrix.mapzen.com/many_to_many\"\n",
    "\n",
    "loc = locations[1]\n",
    "\n",
    "dictPath = {\"locations\":loc,\n",
    "            \"costing\":costing}\n",
    "print dictPath\n",
    "path = json.dumps(dictPath)\n",
    "params = {\"json\":path,\"api_key\":key,\"id\": filename}\n",
    "req = requests.get(endpoint, params=params)\n",
    "#print req.url"
   ]
  },
  {
   "cell_type": "markdown",
   "metadata": {},
   "source": [
    "## Generate multiple matrices and save each to a csv"
   ]
  },
  {
   "cell_type": "code",
   "execution_count": 48,
   "metadata": {},
   "outputs": [],
   "source": [
    "costing = \"auto\"\n",
    "endpoint = \"https://matrix.mapzen.com/sources_to_targets\"\n",
    "\n",
    "for n in range (0,breakup):\n",
    "    for m in range (0,breakup):\n",
    "        dictPath = {\"sources\":locations[n],\n",
    "                    \"targets\":locations[m],\n",
    "                    \"costing\":costing,\n",
    "                    \"id\": filename}\n",
    "        path = json.dumps(dictPath)\n",
    "        params = {\"json\":path,\"api_key\":key}\n",
    "        req = requests.get(endpoint, params=params)\n",
    "        #print req.url\n",
    "        jsonback = req.json()\n",
    "        #locationsOut = jsonback.get(\"locations\")\n",
    "        rawMatrix = jsonback.get(\"sources_to_targets\")\n",
    "        cols = list(range(1+n*50, 51+n*50))\n",
    "        rows = list(range(1+m*50, 51+m*50))\n",
    "        mo = pandas.DataFrame(columns=cols, index = rows)\n",
    "        \n",
    "        for row in rawMatrix:\n",
    "            for edge in row:\n",
    "                D = edge['to_index']\n",
    "                O = edge['from_index']\n",
    "                distance = edge['distance']\n",
    "                mo.iloc[D,O]= distance\n",
    "                \n",
    "        mo.to_csv(\"dataOut/\"+filename+\"_\"+str(n)+\"_\"+str(0)+\".csv\")\n",
    "        "
   ]
  }
 ],
 "metadata": {
  "kernelspec": {
   "display_name": "Python 2",
   "language": "python",
   "name": "python2"
  },
  "language_info": {
   "codemirror_mode": {
    "name": "ipython",
    "version": 2
   },
   "file_extension": ".py",
   "mimetype": "text/x-python",
   "name": "python",
   "nbconvert_exporter": "python",
   "pygments_lexer": "ipython2",
   "version": "2.7.13"
  }
 },
 "nbformat": 4,
 "nbformat_minor": 1
}
