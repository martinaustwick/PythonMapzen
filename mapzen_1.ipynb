{
 "cells": [
  {
   "cell_type": "markdown",
   "metadata": {},
   "source": [
    "# Mapzen python code\n",
    "\n",
    "You will need to\n",
    "- install Enthought or Anaconda, or another reader\n",
    "- install pandas, requests and json library"
   ]
  },
  {
   "cell_type": "markdown",
   "metadata": {},
   "source": [
    "## Always execute these next two cells of code!\n",
    "\n",
    "This is a MapZen key - you will need to use your own. Please note that you should NEVER share your key to GitHub or elsewhere."
   ]
  },
  {
   "cell_type": "code",
   "execution_count": 61,
   "metadata": {
    "collapsed": true
   },
   "outputs": [],
   "source": [
    "key = 'mapzen-RYAEveN'\n",
    "endpoint = \"https://matrix.mapzen.com/many_to_many\""
   ]
  },
  {
   "cell_type": "code",
   "execution_count": 62,
   "metadata": {
    "collapsed": true
   },
   "outputs": [],
   "source": [
    "import requests\n",
    "import json\n",
    "import pandas\n",
    "import math"
   ]
  },
  {
   "cell_type": "markdown",
   "metadata": {},
   "source": [
    "## Loading a keyfile\n",
    "\n",
    "I've specificed a keyFile which stores my MapZen key so I can update this code without having to delete my key each time! And so can you. Create a json file in a text editor:\n",
    "\n",
    "{\n",
    "    \n",
    "    \"key\":\"your-key-here\"\n",
    "    \n",
    "}\n",
    "\n",
    "And save it as key.json somewhere not in your git directory. Then modify the below folder and it should update your key!"
   ]
  },
  {
   "cell_type": "code",
   "execution_count": 49,
   "metadata": {
    "collapsed": true
   },
   "outputs": [],
   "source": [
    "keyFolder = \"/Users/swise/Projects/FTC/\"\n",
    "keyFile = \"key.json\"\n",
    "with open(keyFolder+keyFile) as data_file:    \n",
    "    keyJSON = json.load(data_file)\n",
    "key = keyJSON['key']"
   ]
  },
  {
   "cell_type": "markdown",
   "metadata": {},
   "source": [
    "# 1. Example query:"
   ]
  },
  {
   "cell_type": "code",
   "execution_count": 52,
   "metadata": {
    "collapsed": false
   },
   "outputs": [],
   "source": [
    "path=json.dumps({\"locations\":[{\"lat\":51.5079062,\"lon\":-0.1397546},{\"lat\":51.5096966,\"lon\":-0.1337116},{\"lat\":51.5096966,\"lon\":-0.1437116}], \"costing\":\"pedestrian\"})\n",
    "#({\"locations\":[{\"lat\":40.744014,\"lon\":-73.990508},{\"lat\":40.739735,\"lon\":-73.979713},{\"lat\":40.752522,\"lon\":-73.985015},{\"lat\":40.750117,\"lon\":-73.983704},{\"lat\":40.750552,\"lon\":-73.993519}], \"costing\":\"auto\"})"
   ]
  },
  {
   "cell_type": "code",
   "execution_count": 53,
   "metadata": {
    "collapsed": true
   },
   "outputs": [],
   "source": [
    "#params = {\"json\": json.dumps(route), \"api_key\": key}\n",
    "params = {\"json\":path,\"api_key\":key}\n",
    "req = requests.get(endpoint, params=params)"
   ]
  },
  {
   "cell_type": "code",
   "execution_count": 55,
   "metadata": {
    "collapsed": false,
    "scrolled": true
   },
   "outputs": [
    {
     "name": "stdout",
     "output_type": "stream",
     "text": [
      "{'json': '{\"locations\": [{\"lat\": 51.5079062, \"lon\": -0.1397546}, {\"lat\": 51.5096966, \"lon\": -0.1337116}, {\"lat\": 51.5096966, \"lon\": -0.1437116}], \"costing\": \"pedestrian\"}', 'api_key': 'mapzen-RYAEveN'}\n"
     ]
    }
   ],
   "source": [
    "print(req.text, \"\\n\")\n",
    "print(req.url, \"\\n\")\n",
    "print(req.json, \"\\n\")"
   ]
  },
  {
   "cell_type": "markdown",
   "metadata": {},
   "source": [
    "# 2. Working with a small file (fewer than 50 locations)\n",
    "## Specify the filename and put it in the \"data\" folder\n",
    "\n",
    "Pay attention to the format of the file..."
   ]
  },
  {
   "cell_type": "code",
   "execution_count": 88,
   "metadata": {
    "collapsed": true
   },
   "outputs": [],
   "source": [
    "filename = \"Fraser_small.csv\"\n",
    "#filename = \"Example3_fake.csv\""
   ]
  },
  {
   "cell_type": "code",
   "execution_count": 89,
   "metadata": {
    "collapsed": false
   },
   "outputs": [
    {
     "data": {
      "text/html": [
       "<div>\n",
       "<table border=\"1\" class=\"dataframe\">\n",
       "  <thead>\n",
       "    <tr style=\"text-align: right;\">\n",
       "      <th></th>\n",
       "      <th>Lat</th>\n",
       "      <th>Long</th>\n",
       "      <th>lat,long</th>\n",
       "    </tr>\n",
       "  </thead>\n",
       "  <tbody>\n",
       "    <tr>\n",
       "      <th>0</th>\n",
       "      <td>51.5261</td>\n",
       "      <td>-0.2598</td>\n",
       "      <td>51.5261,-0.2598</td>\n",
       "    </tr>\n",
       "    <tr>\n",
       "      <th>1</th>\n",
       "      <td>51.5090</td>\n",
       "      <td>-0.1239</td>\n",
       "      <td>51.509,-0.1239</td>\n",
       "    </tr>\n",
       "    <tr>\n",
       "      <th>2</th>\n",
       "      <td>51.5142</td>\n",
       "      <td>-0.1185</td>\n",
       "      <td>51.5142,-0.1185</td>\n",
       "    </tr>\n",
       "    <tr>\n",
       "      <th>3</th>\n",
       "      <td>51.5135</td>\n",
       "      <td>-0.1188</td>\n",
       "      <td>51.5135,-0.1188</td>\n",
       "    </tr>\n",
       "    <tr>\n",
       "      <th>4</th>\n",
       "      <td>51.5130</td>\n",
       "      <td>-0.1242</td>\n",
       "      <td>51.513,-0.1242</td>\n",
       "    </tr>\n",
       "  </tbody>\n",
       "</table>\n",
       "</div>"
      ],
      "text/plain": [
       "       Lat    Long         lat,long\n",
       "0  51.5261 -0.2598  51.5261,-0.2598\n",
       "1  51.5090 -0.1239   51.509,-0.1239\n",
       "2  51.5142 -0.1185  51.5142,-0.1185\n",
       "3  51.5135 -0.1188  51.5135,-0.1188\n",
       "4  51.5130 -0.1242   51.513,-0.1242"
      ]
     },
     "execution_count": 89,
     "metadata": {},
     "output_type": "execute_result"
    }
   ],
   "source": [
    "dataIn = pandas.read_csv(\"data/\"+filename)\n",
    "dataIn.head()"
   ]
  },
  {
   "cell_type": "markdown",
   "metadata": {},
   "source": [
    "## Create dict for locations"
   ]
  },
  {
   "cell_type": "code",
   "execution_count": 91,
   "metadata": {
    "collapsed": false
   },
   "outputs": [],
   "source": [
    "locations = []\n",
    "for i in range(len(dataIn.index)):\n",
    "    locations.append({\"lon\":dataIn.Long.iloc[i], \"lat\":dataIn.Lat.iloc[i]})\n",
    "\n",
    "test1 = locations"
   ]
  },
  {
   "cell_type": "markdown",
   "metadata": {},
   "source": [
    "## Specify the travel mode\n",
    "- auto (car)\n",
    "- pedestrian\n",
    "- bicyle"
   ]
  },
  {
   "cell_type": "code",
   "execution_count": 114,
   "metadata": {
    "collapsed": true
   },
   "outputs": [],
   "source": [
    "costing = \"pedestrian\""
   ]
  },
  {
   "cell_type": "markdown",
   "metadata": {},
   "source": [
    "## Create a new dict with this and other prefs and feed it into a new json object"
   ]
  },
  {
   "cell_type": "code",
   "execution_count": 93,
   "metadata": {
    "collapsed": true
   },
   "outputs": [],
   "source": [
    "dictPath = {\"locations\":locations, \n",
    "            \"costing\":costing}\n",
    "#print dictPath"
   ]
  },
  {
   "cell_type": "code",
   "execution_count": 94,
   "metadata": {
    "collapsed": false
   },
   "outputs": [],
   "source": [
    "path = json.dumps(dictPath)"
   ]
  },
  {
   "cell_type": "markdown",
   "metadata": {},
   "source": [
    "## Send a request to MapZen"
   ]
  },
  {
   "cell_type": "code",
   "execution_count": 95,
   "metadata": {
    "collapsed": false
   },
   "outputs": [
    {
     "data": {
      "text/plain": [
       "<Response [200]>"
      ]
     },
     "execution_count": 95,
     "metadata": {},
     "output_type": "execute_result"
    }
   ],
   "source": [
    "params = {\"json\":path,\"api_key\":key}\n",
    "req = requests.get(endpoint, params=params)\n",
    "req"
   ]
  },
  {
   "cell_type": "code",
   "execution_count": 97,
   "metadata": {
    "collapsed": false
   },
   "outputs": [
    {
     "name": "stdout",
     "output_type": "stream",
     "text": [
      "https://matrix.mapzen.com/many_to_many?json=%7B%22locations%22%3A+%5B%7B%22lon%22%3A+-0.2598%2C+%22lat%22%3A+51.5261%7D%2C+%7B%22lon%22%3A+-0.1239%2C+%22lat%22%3A+51.50899999999999%7D%2C+%7B%22lon%22%3A+-0.1185%2C+%22lat%22%3A+51.5142%7D%2C+%7B%22lon%22%3A+-0.1188%2C+%22lat%22%3A+51.5135%7D%2C+%7B%22lon%22%3A+-0.1242%2C+%22lat%22%3A+51.513000000000005%7D%2C+%7B%22lon%22%3A+-0.1239%2C+%22lat%22%3A+51.5146%7D%2C+%7B%22lon%22%3A+-0.1187772%2C+%22lat%22%3A+51.5101351%7D%2C+%7B%22lon%22%3A+-0.12410339999999999%2C+%22lat%22%3A+51.5120463%7D%2C+%7B%22lon%22%3A+-0.12475080000000001%2C+%22lat%22%3A+51.509319899999994%7D%2C+%7B%22lon%22%3A+-0.117148%2C+%22lat%22%3A+51.511059%7D%2C+%7B%22lon%22%3A+-0.1213275%2C+%22lat%22%3A+51.5105677%7D%2C+%7B%22lon%22%3A+-0.117068%2C+%22lat%22%3A+51.514619%7D%2C+%7B%22lon%22%3A+-0.12297580000000001%2C+%22lat%22%3A+51.510507000000004%7D%2C+%7B%22lon%22%3A+-0.1253464%2C+%22lat%22%3A+51.510065399999995%7D%2C+%7B%22lon%22%3A+-0.1264344%2C+%22lat%22%3A+51.5092691%7D%2C+%7B%22lon%22%3A+-0.126748%2C+%22lat%22%3A+51.50905%7D%5D%2C+%22costing%22%3A+%22pedestrian%22%7D&api_key=mapzen-RYAEveN\n",
      "<Response [200]>\n"
     ]
    }
   ],
   "source": [
    "print(req.url)\n",
    "print(req)"
   ]
  },
  {
   "cell_type": "code",
   "execution_count": 98,
   "metadata": {
    "collapsed": false
   },
   "outputs": [
    {
     "data": {
      "text/plain": [
       "[[{'distance': 0.0, 'from_index': 0, 'time': 0, 'to_index': 0},\n",
       "  {'distance': 18.74, 'from_index': 0, 'time': 9232, 'to_index': 1},\n",
       "  {'distance': 11.456, 'from_index': 0, 'time': 8119, 'to_index': 2},\n",
       "  {'distance': 11.447, 'from_index': 0, 'time': 8116, 'to_index': 3},\n",
       "  {'distance': 11.116, 'from_index': 0, 'time': 7870, 'to_index': 4},\n",
       "  {'distance': 11.059, 'from_index': 0, 'time': 7828, 'to_index': 5},\n",
       "  {'distance': 18.779, 'from_index': 0, 'time': 9258, 'to_index': 6},\n",
       "  {'distance': 11.214, 'from_index': 0, 'time': 7946, 'to_index': 7},\n",
       "  {'distance': 18.843, 'from_index': 0, 'time': 9313, 'to_index': 8},\n",
       "  {'distance': 18.943, 'from_index': 0, 'time': 9376, 'to_index': 9},\n",
       "  {'distance': 18.821, 'from_index': 0, 'time': 9295, 'to_index': 10},\n",
       "  {'distance': 11.581, 'from_index': 0, 'time': 8205, 'to_index': 11},\n",
       "  {'distance': 18.979, 'from_index': 0, 'time': 9399, 'to_index': 12},\n",
       "  {'distance': 11.138, 'from_index': 0, 'time': 7887, 'to_index': 13},\n",
       "  {'distance': 11.047, 'from_index': 0, 'time': 7822, 'to_index': 14},\n",
       "  {'distance': 11.064, 'from_index': 0, 'time': 7834, 'to_index': 15}],\n",
       " [{'distance': 18.734, 'from_index': 1, 'time': 9230, 'to_index': 0},\n",
       "  {'distance': 0.0, 'from_index': 1, 'time': 0, 'to_index': 1},\n",
       "  {'distance': 0.809, 'from_index': 1, 'time': 572, 'to_index': 2},\n",
       "  {'distance': 0.744, 'from_index': 1, 'time': 526, 'to_index': 3},\n",
       "  {'distance': 0.612, 'from_index': 1, 'time': 439, 'to_index': 4},\n",
       "  {'distance': 0.84, 'from_index': 1, 'time': 599, 'to_index': 5},\n",
       "  {'distance': 0.457, 'from_index': 1, 'time': 325, 'to_index': 6},\n",
       "  {'distance': 0.433, 'from_index': 1, 'time': 312, 'to_index': 7},\n",
       "  {'distance': 0.096, 'from_index': 1, 'time': 78, 'to_index': 8},\n",
       "  {'distance': 0.626, 'from_index': 1, 'time': 447, 'to_index': 9},\n",
       "  {'distance': 0.275, 'from_index': 1, 'time': 194, 'to_index': 10},\n",
       "  {'distance': 0.907, 'from_index': 1, 'time': 642, 'to_index': 11},\n",
       "  {'distance': 0.232, 'from_index': 1, 'time': 164, 'to_index': 12},\n",
       "  {'distance': 0.23, 'from_index': 1, 'time': 172, 'to_index': 13},\n",
       "  {'distance': 0.214, 'from_index': 1, 'time': 162, 'to_index': 14},\n",
       "  {'distance': 0.293, 'from_index': 1, 'time': 217, 'to_index': 15}],\n",
       " [{'distance': 11.456, 'from_index': 2, 'time': 8117, 'to_index': 0},\n",
       "  {'distance': 0.809, 'from_index': 2, 'time': 572, 'to_index': 1},\n",
       "  {'distance': 0.0, 'from_index': 2, 'time': 0, 'to_index': 2},\n",
       "  {'distance': 0.248, 'from_index': 2, 'time': 175, 'to_index': 3},\n",
       "  {'distance': 0.562, 'from_index': 2, 'time': 397, 'to_index': 4},\n",
       "  {'distance': 0.502, 'from_index': 2, 'time': 354, 'to_index': 5},\n",
       "  {'distance': 0.544, 'from_index': 2, 'time': 385, 'to_index': 6},\n",
       "  {'distance': 0.598, 'from_index': 2, 'time': 425, 'to_index': 7},\n",
       "  {'distance': 0.824, 'from_index': 2, 'time': 583, 'to_index': 8},\n",
       "  {'distance': 0.668, 'from_index': 2, 'time': 478, 'to_index': 9},\n",
       "  {'distance': 0.533, 'from_index': 2, 'time': 378, 'to_index': 10},\n",
       "  {'distance': 0.329, 'from_index': 2, 'time': 234, 'to_index': 11},\n",
       "  {'distance': 0.691, 'from_index': 2, 'time': 489, 'to_index': 12},\n",
       "  {'distance': 0.846, 'from_index': 2, 'time': 603, 'to_index': 13},\n",
       "  {'distance': 0.942, 'from_index': 2, 'time': 667, 'to_index': 14},\n",
       "  {'distance': 1.022, 'from_index': 2, 'time': 723, 'to_index': 15}],\n",
       " [{'distance': 11.447, 'from_index': 3, 'time': 8114, 'to_index': 0},\n",
       "  {'distance': 0.744, 'from_index': 3, 'time': 526, 'to_index': 1},\n",
       "  {'distance': 0.248, 'from_index': 3, 'time': 175, 'to_index': 2},\n",
       "  {'distance': 0.0, 'from_index': 3, 'time': 0, 'to_index': 3},\n",
       "  {'distance': 0.553, 'from_index': 3, 'time': 392, 'to_index': 4},\n",
       "  {'distance': 0.493, 'from_index': 3, 'time': 351, 'to_index': 5},\n",
       "  {'distance': 0.479, 'from_index': 3, 'time': 339, 'to_index': 6},\n",
       "  {'distance': 0.535, 'from_index': 3, 'time': 379, 'to_index': 7},\n",
       "  {'distance': 0.759, 'from_index': 3, 'time': 537, 'to_index': 8},\n",
       "  {'distance': 0.603, 'from_index': 3, 'time': 432, 'to_index': 9},\n",
       "  {'distance': 0.468, 'from_index': 3, 'time': 332, 'to_index': 10},\n",
       "  {'distance': 0.363, 'from_index': 3, 'time': 258, 'to_index': 11},\n",
       "  {'distance': 0.547, 'from_index': 3, 'time': 387, 'to_index': 12},\n",
       "  {'distance': 0.728, 'from_index': 3, 'time': 515, 'to_index': 13},\n",
       "  {'distance': 0.781, 'from_index': 3, 'time': 552, 'to_index': 14},\n",
       "  {'distance': 0.86, 'from_index': 3, 'time': 610, 'to_index': 15}],\n",
       " [{'distance': 11.116, 'from_index': 4, 'time': 7874, 'to_index': 0},\n",
       "  {'distance': 0.612, 'from_index': 4, 'time': 439, 'to_index': 1},\n",
       "  {'distance': 0.562, 'from_index': 4, 'time': 397, 'to_index': 2},\n",
       "  {'distance': 0.553, 'from_index': 4, 'time': 392, 'to_index': 3},\n",
       "  {'distance': 0.0, 'from_index': 4, 'time': 0, 'to_index': 4},\n",
       "  {'distance': 0.223, 'from_index': 4, 'time': 158, 'to_index': 5},\n",
       "  {'distance': 0.664, 'from_index': 4, 'time': 481, 'to_index': 6},\n",
       "  {'distance': 0.217, 'from_index': 4, 'time': 154, 'to_index': 7},\n",
       "  {'distance': 0.59, 'from_index': 4, 'time': 419, 'to_index': 8},\n",
       "  {'distance': 0.817, 'from_index': 4, 'time': 594, 'to_index': 9},\n",
       "  {'distance': 0.413, 'from_index': 4, 'time': 299, 'to_index': 10},\n",
       "  {'distance': 0.797, 'from_index': 4, 'time': 563, 'to_index': 11},\n",
       "  {'distance': 0.437, 'from_index': 4, 'time': 315, 'to_index': 12},\n",
       "  {'distance': 0.461, 'from_index': 4, 'time': 326, 'to_index': 13},\n",
       "  {'distance': 0.531, 'from_index': 4, 'time': 375, 'to_index': 14},\n",
       "  {'distance': 0.624, 'from_index': 4, 'time': 440, 'to_index': 15}],\n",
       " [{'distance': 11.059, 'from_index': 5, 'time': 7828, 'to_index': 0},\n",
       "  {'distance': 0.84, 'from_index': 5, 'time': 599, 'to_index': 1},\n",
       "  {'distance': 0.502, 'from_index': 5, 'time': 354, 'to_index': 2},\n",
       "  {'distance': 0.493, 'from_index': 5, 'time': 351, 'to_index': 3},\n",
       "  {'distance': 0.223, 'from_index': 5, 'time': 158, 'to_index': 4},\n",
       "  {'distance': 0.0, 'from_index': 5, 'time': 0, 'to_index': 5},\n",
       "  {'distance': 0.707, 'from_index': 5, 'time': 506, 'to_index': 6},\n",
       "  {'distance': 0.406, 'from_index': 5, 'time': 288, 'to_index': 7},\n",
       "  {'distance': 0.817, 'from_index': 5, 'time': 584, 'to_index': 8},\n",
       "  {'distance': 0.826, 'from_index': 5, 'time': 601, 'to_index': 9},\n",
       "  {'distance': 0.602, 'from_index': 5, 'time': 432, 'to_index': 10},\n",
       "  {'distance': 0.737, 'from_index': 5, 'time': 520, 'to_index': 11},\n",
       "  {'distance': 0.626, 'from_index': 5, 'time': 449, 'to_index': 12},\n",
       "  {'distance': 0.689, 'from_index': 5, 'time': 489, 'to_index': 13},\n",
       "  {'distance': 0.699, 'from_index': 5, 'time': 500, 'to_index': 14},\n",
       "  {'distance': 0.792, 'from_index': 5, 'time': 565, 'to_index': 15}],\n",
       " [{'distance': 18.773, 'from_index': 6, 'time': 9257, 'to_index': 0},\n",
       "  {'distance': 0.457, 'from_index': 6, 'time': 325, 'to_index': 1},\n",
       "  {'distance': 0.544, 'from_index': 6, 'time': 385, 'to_index': 2},\n",
       "  {'distance': 0.479, 'from_index': 6, 'time': 339, 'to_index': 3},\n",
       "  {'distance': 0.664, 'from_index': 6, 'time': 481, 'to_index': 4},\n",
       "  {'distance': 0.707, 'from_index': 6, 'time': 502, 'to_index': 5},\n",
       "  {'distance': 0.0, 'from_index': 6, 'time': 0, 'to_index': 6},\n",
       "  {'distance': 0.539, 'from_index': 6, 'time': 386, 'to_index': 7},\n",
       "  {'distance': 0.54, 'from_index': 6, 'time': 382, 'to_index': 8},\n",
       "  {'distance': 0.23, 'from_index': 6, 'time': 164, 'to_index': 9},\n",
       "  {'distance': 0.258, 'from_index': 6, 'time': 182, 'to_index': 10},\n",
       "  {'distance': 0.642, 'from_index': 6, 'time': 455, 'to_index': 11},\n",
       "  {'distance': 0.408, 'from_index': 6, 'time': 288, 'to_index': 12},\n",
       "  {'distance': 0.652, 'from_index': 6, 'time': 460, 'to_index': 13},\n",
       "  {'distance': 0.658, 'from_index': 6, 'time': 465, 'to_index': 14},\n",
       "  {'distance': 0.738, 'from_index': 6, 'time': 521, 'to_index': 15}],\n",
       " [{'distance': 11.178, 'from_index': 7, 'time': 7934, 'to_index': 0},\n",
       "  {'distance': 0.433, 'from_index': 7, 'time': 312, 'to_index': 1},\n",
       "  {'distance': 0.598, 'from_index': 7, 'time': 425, 'to_index': 2},\n",
       "  {'distance': 0.535, 'from_index': 7, 'time': 379, 'to_index': 3},\n",
       "  {'distance': 0.217, 'from_index': 7, 'time': 154, 'to_index': 4},\n",
       "  {'distance': 0.406, 'from_index': 7, 'time': 288, 'to_index': 5},\n",
       "  {'distance': 0.539, 'from_index': 7, 'time': 386, 'to_index': 6},\n",
       "  {'distance': 0.0, 'from_index': 7, 'time': 0, 'to_index': 7},\n",
       "  {'distance': 0.411, 'from_index': 7, 'time': 292, 'to_index': 8},\n",
       "  {'distance': 0.741, 'from_index': 7, 'time': 540, 'to_index': 9},\n",
       "  {'distance': 0.288, 'from_index': 7, 'time': 204, 'to_index': 10},\n",
       "  {'distance': 0.808, 'from_index': 7, 'time': 573, 'to_index': 11},\n",
       "  {'distance': 0.312, 'from_index': 7, 'time': 220, 'to_index': 12},\n",
       "  {'distance': 0.282, 'from_index': 7, 'time': 201, 'to_index': 13},\n",
       "  {'distance': 0.39, 'from_index': 7, 'time': 276, 'to_index': 14},\n",
       "  {'distance': 0.469, 'from_index': 7, 'time': 334, 'to_index': 15}],\n",
       " [{'distance': 18.848, 'from_index': 8, 'time': 9333, 'to_index': 0},\n",
       "  {'distance': 0.096, 'from_index': 8, 'time': 78, 'to_index': 1},\n",
       "  {'distance': 0.824, 'from_index': 8, 'time': 583, 'to_index': 2},\n",
       "  {'distance': 0.759, 'from_index': 8, 'time': 537, 'to_index': 3},\n",
       "  {'distance': 0.59, 'from_index': 8, 'time': 419, 'to_index': 4},\n",
       "  {'distance': 0.817, 'from_index': 8, 'time': 584, 'to_index': 5},\n",
       "  {'distance': 0.54, 'from_index': 8, 'time': 382, 'to_index': 6},\n",
       "  {'distance': 0.411, 'from_index': 8, 'time': 292, 'to_index': 7},\n",
       "  {'distance': 0.0, 'from_index': 8, 'time': 0, 'to_index': 8},\n",
       "  {'distance': 0.748, 'from_index': 8, 'time': 534, 'to_index': 9},\n",
       "  {'distance': 0.29, 'from_index': 8, 'time': 205, 'to_index': 10},\n",
       "  {'distance': 0.922, 'from_index': 8, 'time': 653, 'to_index': 11},\n",
       "  {'distance': 0.247, 'from_index': 8, 'time': 175, 'to_index': 12},\n",
       "  {'distance': 0.155, 'from_index': 8, 'time': 109, 'to_index': 13},\n",
       "  {'distance': 0.117, 'from_index': 8, 'time': 83, 'to_index': 14},\n",
       "  {'distance': 0.185, 'from_index': 8, 'time': 131, 'to_index': 15}],\n",
       " [{'distance': 18.948, 'from_index': 9, 'time': 9396, 'to_index': 0},\n",
       "  {'distance': 0.626, 'from_index': 9, 'time': 447, 'to_index': 1},\n",
       "  {'distance': 0.661, 'from_index': 9, 'time': 474, 'to_index': 2},\n",
       "  {'distance': 0.596, 'from_index': 9, 'time': 428, 'to_index': 3},\n",
       "  {'distance': 0.817, 'from_index': 9, 'time': 590, 'to_index': 4},\n",
       "  {'distance': 0.826, 'from_index': 9, 'time': 597, 'to_index': 5},\n",
       "  {'distance': 0.23, 'from_index': 9, 'time': 164, 'to_index': 6},\n",
       "  {'distance': 0.741, 'from_index': 9, 'time': 536, 'to_index': 7},\n",
       "  {'distance': 0.748, 'from_index': 9, 'time': 534, 'to_index': 8},\n",
       "  {'distance': 0.0, 'from_index': 9, 'time': 0, 'to_index': 9},\n",
       "  {'distance': 0.463, 'from_index': 9, 'time': 338, 'to_index': 10},\n",
       "  {'distance': 0.759, 'from_index': 9, 'time': 544, 'to_index': 11},\n",
       "  {'distance': 0.621, 'from_index': 9, 'time': 449, 'to_index': 12},\n",
       "  {'distance': 0.86, 'from_index': 9, 'time': 613, 'to_index': 13},\n",
       "  {'distance': 0.866, 'from_index': 9, 'time': 618, 'to_index': 14},\n",
       "  {'distance': 0.96, 'from_index': 9, 'time': 694, 'to_index': 15}],\n",
       " [{'distance': 18.815, 'from_index': 10, 'time': 9294, 'to_index': 0},\n",
       "  {'distance': 0.275, 'from_index': 10, 'time': 194, 'to_index': 1},\n",
       "  {'distance': 0.533, 'from_index': 10, 'time': 378, 'to_index': 2},\n",
       "  {'distance': 0.468, 'from_index': 10, 'time': 332, 'to_index': 3},\n",
       "  {'distance': 0.413, 'from_index': 10, 'time': 299, 'to_index': 4},\n",
       "  {'distance': 0.602, 'from_index': 10, 'time': 432, 'to_index': 5},\n",
       "  {'distance': 0.258, 'from_index': 10, 'time': 182, 'to_index': 6},\n",
       "  {'distance': 0.288, 'from_index': 10, 'time': 204, 'to_index': 7},\n",
       "  {'distance': 0.29, 'from_index': 10, 'time': 205, 'to_index': 8},\n",
       "  {'distance': 0.463, 'from_index': 10, 'time': 338, 'to_index': 9},\n",
       "  {'distance': 0.0, 'from_index': 10, 'time': 0, 'to_index': 10},\n",
       "  {'distance': 0.631, 'from_index': 10, 'time': 448, 'to_index': 11},\n",
       "  {'distance': 0.157, 'from_index': 10, 'time': 111, 'to_index': 12},\n",
       "  {'distance': 0.389, 'from_index': 10, 'time': 275, 'to_index': 13},\n",
       "  {'distance': 0.408, 'from_index': 10, 'time': 289, 'to_index': 14},\n",
       "  {'distance': 0.488, 'from_index': 10, 'time': 345, 'to_index': 15}],\n",
       " [{'distance': 11.581, 'from_index': 11, 'time': 8205, 'to_index': 0},\n",
       "  {'distance': 0.907, 'from_index': 11, 'time': 642, 'to_index': 1},\n",
       "  {'distance': 0.329, 'from_index': 11, 'time': 234, 'to_index': 2},\n",
       "  {'distance': 0.363, 'from_index': 11, 'time': 258, 'to_index': 3},\n",
       "  {'distance': 0.797, 'from_index': 11, 'time': 563, 'to_index': 4},\n",
       "  {'distance': 0.737, 'from_index': 11, 'time': 520, 'to_index': 5},\n",
       "  {'distance': 0.642, 'from_index': 11, 'time': 455, 'to_index': 6},\n",
       "  {'distance': 0.808, 'from_index': 11, 'time': 573, 'to_index': 7},\n",
       "  {'distance': 0.922, 'from_index': 11, 'time': 653, 'to_index': 8},\n",
       "  {'distance': 0.766, 'from_index': 11, 'time': 548, 'to_index': 9},\n",
       "  {'distance': 0.631, 'from_index': 11, 'time': 448, 'to_index': 10},\n",
       "  {'distance': 0.0, 'from_index': 11, 'time': 0, 'to_index': 11},\n",
       "  {'distance': 0.789, 'from_index': 11, 'time': 559, 'to_index': 12},\n",
       "  {'distance': 0.967, 'from_index': 11, 'time': 685, 'to_index': 13},\n",
       "  {'distance': 1.04, 'from_index': 11, 'time': 737, 'to_index': 14},\n",
       "  {'distance': 1.12, 'from_index': 11, 'time': 793, 'to_index': 15}],\n",
       " [{'distance': 18.984, 'from_index': 12, 'time': 9419, 'to_index': 0},\n",
       "  {'distance': 0.232, 'from_index': 12, 'time': 164, 'to_index': 1},\n",
       "  {'distance': 0.691, 'from_index': 12, 'time': 489, 'to_index': 2},\n",
       "  {'distance': 0.547, 'from_index': 12, 'time': 387, 'to_index': 3},\n",
       "  {'distance': 0.437, 'from_index': 12, 'time': 315, 'to_index': 4},\n",
       "  {'distance': 0.626, 'from_index': 12, 'time': 449, 'to_index': 5},\n",
       "  {'distance': 0.408, 'from_index': 12, 'time': 288, 'to_index': 6},\n",
       "  {'distance': 0.312, 'from_index': 12, 'time': 220, 'to_index': 7},\n",
       "  {'distance': 0.247, 'from_index': 12, 'time': 175, 'to_index': 8},\n",
       "  {'distance': 0.621, 'from_index': 12, 'time': 449, 'to_index': 9},\n",
       "  {'distance': 0.157, 'from_index': 12, 'time': 111, 'to_index': 10},\n",
       "  {'distance': 0.789, 'from_index': 12, 'time': 559, 'to_index': 11},\n",
       "  {'distance': 0.0, 'from_index': 12, 'time': 0, 'to_index': 12},\n",
       "  {'distance': 0.231, 'from_index': 12, 'time': 163, 'to_index': 13},\n",
       "  {'distance': 0.284, 'from_index': 12, 'time': 200, 'to_index': 14},\n",
       "  {'distance': 0.363, 'from_index': 12, 'time': 258, 'to_index': 15}],\n",
       " [{'distance': 11.102, 'from_index': 13, 'time': 7875, 'to_index': 0},\n",
       "  {'distance': 0.23, 'from_index': 13, 'time': 172, 'to_index': 1},\n",
       "  {'distance': 0.846, 'from_index': 13, 'time': 603, 'to_index': 2},\n",
       "  {'distance': 0.728, 'from_index': 13, 'time': 515, 'to_index': 3},\n",
       "  {'distance': 0.461, 'from_index': 13, 'time': 326, 'to_index': 4},\n",
       "  {'distance': 0.689, 'from_index': 13, 'time': 489, 'to_index': 5},\n",
       "  {'distance': 0.652, 'from_index': 13, 'time': 460, 'to_index': 6},\n",
       "  {'distance': 0.282, 'from_index': 13, 'time': 201, 'to_index': 7},\n",
       "  {'distance': 0.155, 'from_index': 13, 'time': 109, 'to_index': 8},\n",
       "  {'distance': 0.86, 'from_index': 13, 'time': 613, 'to_index': 9},\n",
       "  {'distance': 0.389, 'from_index': 13, 'time': 275, 'to_index': 10},\n",
       "  {'distance': 0.967, 'from_index': 13, 'time': 685, 'to_index': 11},\n",
       "  {'distance': 0.231, 'from_index': 13, 'time': 163, 'to_index': 12},\n",
       "  {'distance': 0.0, 'from_index': 13, 'time': 0, 'to_index': 13},\n",
       "  {'distance': 0.107, 'from_index': 13, 'time': 75, 'to_index': 14},\n",
       "  {'distance': 0.186, 'from_index': 13, 'time': 132, 'to_index': 15}],\n",
       " [{'distance': 11.011, 'from_index': 14, 'time': 7811, 'to_index': 0},\n",
       "  {'distance': 0.214, 'from_index': 14, 'time': 162, 'to_index': 1},\n",
       "  {'distance': 0.942, 'from_index': 14, 'time': 667, 'to_index': 2},\n",
       "  {'distance': 0.781, 'from_index': 14, 'time': 552, 'to_index': 3},\n",
       "  {'distance': 0.531, 'from_index': 14, 'time': 375, 'to_index': 4},\n",
       "  {'distance': 0.699, 'from_index': 14, 'time': 500, 'to_index': 5},\n",
       "  {'distance': 0.658, 'from_index': 14, 'time': 465, 'to_index': 6},\n",
       "  {'distance': 0.39, 'from_index': 14, 'time': 276, 'to_index': 7},\n",
       "  {'distance': 0.117, 'from_index': 14, 'time': 83, 'to_index': 8},\n",
       "  {'distance': 0.866, 'from_index': 14, 'time': 618, 'to_index': 9},\n",
       "  {'distance': 0.408, 'from_index': 14, 'time': 289, 'to_index': 10},\n",
       "  {'distance': 1.04, 'from_index': 14, 'time': 737, 'to_index': 11},\n",
       "  {'distance': 0.284, 'from_index': 14, 'time': 200, 'to_index': 12},\n",
       "  {'distance': 0.107, 'from_index': 14, 'time': 75, 'to_index': 13},\n",
       "  {'distance': 0.0, 'from_index': 14, 'time': 0, 'to_index': 14},\n",
       "  {'distance': 0.142, 'from_index': 14, 'time': 100, 'to_index': 15}],\n",
       " [{'distance': 11.028, 'from_index': 15, 'time': 7822, 'to_index': 0},\n",
       "  {'distance': 0.293, 'from_index': 15, 'time': 217, 'to_index': 1},\n",
       "  {'distance': 1.022, 'from_index': 15, 'time': 723, 'to_index': 2},\n",
       "  {'distance': 0.86, 'from_index': 15, 'time': 610, 'to_index': 3},\n",
       "  {'distance': 0.624, 'from_index': 15, 'time': 440, 'to_index': 4},\n",
       "  {'distance': 0.792, 'from_index': 15, 'time': 565, 'to_index': 5},\n",
       "  {'distance': 0.738, 'from_index': 15, 'time': 521, 'to_index': 6},\n",
       "  {'distance': 0.469, 'from_index': 15, 'time': 334, 'to_index': 7},\n",
       "  {'distance': 0.185, 'from_index': 15, 'time': 131, 'to_index': 8},\n",
       "  {'distance': 0.96, 'from_index': 15, 'time': 694, 'to_index': 9},\n",
       "  {'distance': 0.488, 'from_index': 15, 'time': 345, 'to_index': 10},\n",
       "  {'distance': 1.12, 'from_index': 15, 'time': 793, 'to_index': 11},\n",
       "  {'distance': 0.363, 'from_index': 15, 'time': 258, 'to_index': 12},\n",
       "  {'distance': 0.186, 'from_index': 15, 'time': 132, 'to_index': 13},\n",
       "  {'distance': 0.142, 'from_index': 15, 'time': 100, 'to_index': 14},\n",
       "  {'distance': 0.0, 'from_index': 15, 'time': 0, 'to_index': 15}]]"
      ]
     },
     "execution_count": 98,
     "metadata": {},
     "output_type": "execute_result"
    }
   ],
   "source": [
    "jsonback = req.json()\n",
    "locationsOut = jsonback.get(\"locations\")\n",
    "rawMatrix = jsonback.get(\"many_to_many\")\n",
    "rawMatrix"
   ]
  },
  {
   "cell_type": "markdown",
   "metadata": {},
   "source": [
    "## Specify Matrix\n",
    "\n",
    "Create a pandas dataframe, which is easy to save to csv. Here we use \"distance\", but we could also use \"time\".\n",
    "\n",
    "Here the **origin** is the **column**, and the **destination** is the **row**. The matrix is not necessarily symmetric."
   ]
  },
  {
   "cell_type": "code",
   "execution_count": 99,
   "metadata": {
    "collapsed": false
   },
   "outputs": [],
   "source": [
    "cols = list(range(1, len(dataIn.index)))\n",
    "mo = pandas.DataFrame(columns=cols, index = cols)"
   ]
  },
  {
   "cell_type": "code",
   "execution_count": 100,
   "metadata": {
    "collapsed": false
   },
   "outputs": [
    {
     "name": "stdout",
     "output_type": "stream",
     "text": [
      "-1 -1 0.0\n",
      "0 -1 18.74\n",
      "1 -1 11.456\n",
      "2 -1 11.447\n",
      "3 -1 11.116\n",
      "4 -1 11.059\n",
      "5 -1 18.779\n",
      "6 -1 11.214\n",
      "7 -1 18.843\n",
      "8 -1 18.943\n",
      "9 -1 18.821\n",
      "10 -1 11.581\n",
      "11 -1 18.979\n",
      "12 -1 11.138\n",
      "13 -1 11.047\n",
      "14 -1 11.064\n",
      "-1 0 18.734\n",
      "0 0 0.0\n",
      "1 0 0.809\n",
      "2 0 0.744\n",
      "3 0 0.612\n",
      "4 0 0.84\n",
      "5 0 0.457\n",
      "6 0 0.433\n",
      "7 0 0.096\n",
      "8 0 0.626\n",
      "9 0 0.275\n",
      "10 0 0.907\n",
      "11 0 0.232\n",
      "12 0 0.23\n",
      "13 0 0.214\n",
      "14 0 0.293\n",
      "-1 1 11.456\n",
      "0 1 0.809\n",
      "1 1 0.0\n",
      "2 1 0.248\n",
      "3 1 0.562\n",
      "4 1 0.502\n",
      "5 1 0.544\n",
      "6 1 0.598\n",
      "7 1 0.824\n",
      "8 1 0.668\n",
      "9 1 0.533\n",
      "10 1 0.329\n",
      "11 1 0.691\n",
      "12 1 0.846\n",
      "13 1 0.942\n",
      "14 1 1.022\n",
      "-1 2 11.447\n",
      "0 2 0.744\n",
      "1 2 0.248\n",
      "2 2 0.0\n",
      "3 2 0.553\n",
      "4 2 0.493\n",
      "5 2 0.479\n",
      "6 2 0.535\n",
      "7 2 0.759\n",
      "8 2 0.603\n",
      "9 2 0.468\n",
      "10 2 0.363\n",
      "11 2 0.547\n",
      "12 2 0.728\n",
      "13 2 0.781\n",
      "14 2 0.86\n",
      "-1 3 11.116\n",
      "0 3 0.612\n",
      "1 3 0.562\n",
      "2 3 0.553\n",
      "3 3 0.0\n",
      "4 3 0.223\n",
      "5 3 0.664\n",
      "6 3 0.217\n",
      "7 3 0.59\n",
      "8 3 0.817\n",
      "9 3 0.413\n",
      "10 3 0.797\n",
      "11 3 0.437\n",
      "12 3 0.461\n",
      "13 3 0.531\n",
      "14 3 0.624\n",
      "-1 4 11.059\n",
      "0 4 0.84\n",
      "1 4 0.502\n",
      "2 4 0.493\n",
      "3 4 0.223\n",
      "4 4 0.0\n",
      "5 4 0.707\n",
      "6 4 0.406\n",
      "7 4 0.817\n",
      "8 4 0.826\n",
      "9 4 0.602\n",
      "10 4 0.737\n",
      "11 4 0.626\n",
      "12 4 0.689\n",
      "13 4 0.699\n",
      "14 4 0.792\n",
      "-1 5 18.773\n",
      "0 5 0.457\n",
      "1 5 0.544\n",
      "2 5 0.479\n",
      "3 5 0.664\n",
      "4 5 0.707\n",
      "5 5 0.0\n",
      "6 5 0.539\n",
      "7 5 0.54\n",
      "8 5 0.23\n",
      "9 5 0.258\n",
      "10 5 0.642\n",
      "11 5 0.408\n",
      "12 5 0.652\n",
      "13 5 0.658\n",
      "14 5 0.738\n",
      "-1 6 11.178\n",
      "0 6 0.433\n",
      "1 6 0.598\n",
      "2 6 0.535\n",
      "3 6 0.217\n",
      "4 6 0.406\n",
      "5 6 0.539\n",
      "6 6 0.0\n",
      "7 6 0.411\n",
      "8 6 0.741\n",
      "9 6 0.288\n",
      "10 6 0.808\n",
      "11 6 0.312\n",
      "12 6 0.282\n",
      "13 6 0.39\n",
      "14 6 0.469\n",
      "-1 7 18.848\n",
      "0 7 0.096\n",
      "1 7 0.824\n",
      "2 7 0.759\n",
      "3 7 0.59\n",
      "4 7 0.817\n",
      "5 7 0.54\n",
      "6 7 0.411\n",
      "7 7 0.0\n",
      "8 7 0.748\n",
      "9 7 0.29\n",
      "10 7 0.922\n",
      "11 7 0.247\n",
      "12 7 0.155\n",
      "13 7 0.117\n",
      "14 7 0.185\n",
      "-1 8 18.948\n",
      "0 8 0.626\n",
      "1 8 0.661\n",
      "2 8 0.596\n",
      "3 8 0.817\n",
      "4 8 0.826\n",
      "5 8 0.23\n",
      "6 8 0.741\n",
      "7 8 0.748\n",
      "8 8 0.0\n",
      "9 8 0.463\n",
      "10 8 0.759\n",
      "11 8 0.621\n",
      "12 8 0.86\n",
      "13 8 0.866\n",
      "14 8 0.96\n",
      "-1 9 18.815\n",
      "0 9 0.275\n",
      "1 9 0.533\n",
      "2 9 0.468\n",
      "3 9 0.413\n",
      "4 9 0.602\n",
      "5 9 0.258\n",
      "6 9 0.288\n",
      "7 9 0.29\n",
      "8 9 0.463\n",
      "9 9 0.0\n",
      "10 9 0.631\n",
      "11 9 0.157\n",
      "12 9 0.389\n",
      "13 9 0.408\n",
      "14 9 0.488\n",
      "-1 10 11.581\n",
      "0 10 0.907\n",
      "1 10 0.329\n",
      "2 10 0.363\n",
      "3 10 0.797\n",
      "4 10 0.737\n",
      "5 10 0.642\n",
      "6 10 0.808\n",
      "7 10 0.922\n",
      "8 10 0.766\n",
      "9 10 0.631\n",
      "10 10 0.0\n",
      "11 10 0.789\n",
      "12 10 0.967\n",
      "13 10 1.04\n",
      "14 10 1.12\n",
      "-1 11 18.984\n",
      "0 11 0.232\n",
      "1 11 0.691\n",
      "2 11 0.547\n",
      "3 11 0.437\n",
      "4 11 0.626\n",
      "5 11 0.408\n",
      "6 11 0.312\n",
      "7 11 0.247\n",
      "8 11 0.621\n",
      "9 11 0.157\n",
      "10 11 0.789\n",
      "11 11 0.0\n",
      "12 11 0.231\n",
      "13 11 0.284\n",
      "14 11 0.363\n",
      "-1 12 11.102\n",
      "0 12 0.23\n",
      "1 12 0.846\n",
      "2 12 0.728\n",
      "3 12 0.461\n",
      "4 12 0.689\n",
      "5 12 0.652\n",
      "6 12 0.282\n",
      "7 12 0.155\n",
      "8 12 0.86\n",
      "9 12 0.389\n",
      "10 12 0.967\n",
      "11 12 0.231\n",
      "12 12 0.0\n",
      "13 12 0.107\n",
      "14 12 0.186\n",
      "-1 13 11.011\n",
      "0 13 0.214\n",
      "1 13 0.942\n",
      "2 13 0.781\n",
      "3 13 0.531\n",
      "4 13 0.699\n",
      "5 13 0.658\n",
      "6 13 0.39\n",
      "7 13 0.117\n",
      "8 13 0.866\n",
      "9 13 0.408\n",
      "10 13 1.04\n",
      "11 13 0.284\n",
      "12 13 0.107\n",
      "13 13 0.0\n",
      "14 13 0.142\n",
      "-1 14 11.028\n",
      "0 14 0.293\n",
      "1 14 1.022\n",
      "2 14 0.86\n",
      "3 14 0.624\n",
      "4 14 0.792\n",
      "5 14 0.738\n",
      "6 14 0.469\n",
      "7 14 0.185\n",
      "8 14 0.96\n",
      "9 14 0.488\n",
      "10 14 1.12\n",
      "11 14 0.363\n",
      "12 14 0.186\n",
      "13 14 0.142\n",
      "14 14 0.0\n"
     ]
    },
    {
     "data": {
      "text/html": [
       "<div>\n",
       "<table border=\"1\" class=\"dataframe\">\n",
       "  <thead>\n",
       "    <tr style=\"text-align: right;\">\n",
       "      <th></th>\n",
       "      <th>1</th>\n",
       "      <th>2</th>\n",
       "      <th>3</th>\n",
       "      <th>4</th>\n",
       "      <th>5</th>\n",
       "      <th>6</th>\n",
       "      <th>7</th>\n",
       "      <th>8</th>\n",
       "      <th>9</th>\n",
       "      <th>10</th>\n",
       "      <th>11</th>\n",
       "      <th>12</th>\n",
       "      <th>13</th>\n",
       "      <th>14</th>\n",
       "      <th>15</th>\n",
       "    </tr>\n",
       "  </thead>\n",
       "  <tbody>\n",
       "    <tr>\n",
       "      <th>1</th>\n",
       "      <td>0</td>\n",
       "      <td>0.809</td>\n",
       "      <td>0.744</td>\n",
       "      <td>0.612</td>\n",
       "      <td>0.84</td>\n",
       "      <td>0.457</td>\n",
       "      <td>0.433</td>\n",
       "      <td>0.096</td>\n",
       "      <td>0.626</td>\n",
       "      <td>0.275</td>\n",
       "      <td>0.907</td>\n",
       "      <td>0.232</td>\n",
       "      <td>0.23</td>\n",
       "      <td>0.214</td>\n",
       "      <td>0.293</td>\n",
       "    </tr>\n",
       "    <tr>\n",
       "      <th>2</th>\n",
       "      <td>0.809</td>\n",
       "      <td>0</td>\n",
       "      <td>0.248</td>\n",
       "      <td>0.562</td>\n",
       "      <td>0.502</td>\n",
       "      <td>0.544</td>\n",
       "      <td>0.598</td>\n",
       "      <td>0.824</td>\n",
       "      <td>0.661</td>\n",
       "      <td>0.533</td>\n",
       "      <td>0.329</td>\n",
       "      <td>0.691</td>\n",
       "      <td>0.846</td>\n",
       "      <td>0.942</td>\n",
       "      <td>1.022</td>\n",
       "    </tr>\n",
       "    <tr>\n",
       "      <th>3</th>\n",
       "      <td>0.744</td>\n",
       "      <td>0.248</td>\n",
       "      <td>0</td>\n",
       "      <td>0.553</td>\n",
       "      <td>0.493</td>\n",
       "      <td>0.479</td>\n",
       "      <td>0.535</td>\n",
       "      <td>0.759</td>\n",
       "      <td>0.596</td>\n",
       "      <td>0.468</td>\n",
       "      <td>0.363</td>\n",
       "      <td>0.547</td>\n",
       "      <td>0.728</td>\n",
       "      <td>0.781</td>\n",
       "      <td>0.86</td>\n",
       "    </tr>\n",
       "    <tr>\n",
       "      <th>4</th>\n",
       "      <td>0.612</td>\n",
       "      <td>0.562</td>\n",
       "      <td>0.553</td>\n",
       "      <td>0</td>\n",
       "      <td>0.223</td>\n",
       "      <td>0.664</td>\n",
       "      <td>0.217</td>\n",
       "      <td>0.59</td>\n",
       "      <td>0.817</td>\n",
       "      <td>0.413</td>\n",
       "      <td>0.797</td>\n",
       "      <td>0.437</td>\n",
       "      <td>0.461</td>\n",
       "      <td>0.531</td>\n",
       "      <td>0.624</td>\n",
       "    </tr>\n",
       "    <tr>\n",
       "      <th>5</th>\n",
       "      <td>0.84</td>\n",
       "      <td>0.502</td>\n",
       "      <td>0.493</td>\n",
       "      <td>0.223</td>\n",
       "      <td>0</td>\n",
       "      <td>0.707</td>\n",
       "      <td>0.406</td>\n",
       "      <td>0.817</td>\n",
       "      <td>0.826</td>\n",
       "      <td>0.602</td>\n",
       "      <td>0.737</td>\n",
       "      <td>0.626</td>\n",
       "      <td>0.689</td>\n",
       "      <td>0.699</td>\n",
       "      <td>0.792</td>\n",
       "    </tr>\n",
       "  </tbody>\n",
       "</table>\n",
       "</div>"
      ],
      "text/plain": [
       "      1      2      3      4      5      6      7      8      9      10  \\\n",
       "1      0  0.809  0.744  0.612   0.84  0.457  0.433  0.096  0.626  0.275   \n",
       "2  0.809      0  0.248  0.562  0.502  0.544  0.598  0.824  0.661  0.533   \n",
       "3  0.744  0.248      0  0.553  0.493  0.479  0.535  0.759  0.596  0.468   \n",
       "4  0.612  0.562  0.553      0  0.223  0.664  0.217   0.59  0.817  0.413   \n",
       "5   0.84  0.502  0.493  0.223      0  0.707  0.406  0.817  0.826  0.602   \n",
       "\n",
       "      11     12     13     14     15  \n",
       "1  0.907  0.232   0.23  0.214  0.293  \n",
       "2  0.329  0.691  0.846  0.942  1.022  \n",
       "3  0.363  0.547  0.728  0.781   0.86  \n",
       "4  0.797  0.437  0.461  0.531  0.624  \n",
       "5  0.737  0.626  0.689  0.699  0.792  "
      ]
     },
     "execution_count": 100,
     "metadata": {},
     "output_type": "execute_result"
    }
   ],
   "source": [
    "for row in rawMatrix:\n",
    "    for edge in row:\n",
    "        D = edge['to_index'] - 1\n",
    "        O = edge['from_index'] - 1\n",
    "        distance = edge['distance']\n",
    "        mo.iloc[D,O]= distance\n",
    "        print(D, O, distance)\n",
    "mo.head()"
   ]
  },
  {
   "cell_type": "code",
   "execution_count": 101,
   "metadata": {
    "collapsed": true
   },
   "outputs": [],
   "source": [
    "mo.to_csv(\"dataOut/\"+filename)"
   ]
  },
  {
   "cell_type": "markdown",
   "metadata": {},
   "source": [
    "# 3. Larger files (more than 50 locations)"
   ]
  },
  {
   "cell_type": "code",
   "execution_count": 31,
   "metadata": {
    "collapsed": false
   },
   "outputs": [],
   "source": [
    "#filename = \"Example4_fake\"\n",
    "filename = \"Chenchen_26\""
   ]
  },
  {
   "cell_type": "code",
   "execution_count": 56,
   "metadata": {
    "collapsed": false
   },
   "outputs": [
    {
     "name": "stdout",
     "output_type": "stream",
     "text": [
      "          lat       lon\n",
      "0   51.526110 -0.259841\n",
      "1   51.513281 -0.144123\n",
      "2   51.511824 -0.143748\n",
      "3   51.511057 -0.139409\n",
      "4   51.508820 -0.136439\n",
      "5   51.509486 -0.137171\n",
      "6   51.508684 -0.137453\n",
      "7   51.508663 -0.141459\n",
      "8   51.507062 -0.141558\n",
      "9   51.507751 -0.141671\n",
      "10  51.508684 -0.140394\n",
      "11  51.507906 -0.139755\n",
      "12  51.509509 -0.141872\n",
      "13  51.507975 -0.141100\n",
      "14  51.508163 -0.139755\n",
      "15  51.510968 -0.142297\n",
      "16  51.511389 -0.140522\n",
      "17  51.511589 -0.140098\n",
      "18  51.511335 -0.138999\n",
      "19  51.512943 -0.141995\n",
      "20  51.513149 -0.141840\n",
      "21  51.513108 -0.141084\n",
      "22  51.513708 -0.141488\n",
      "23  51.514370 -0.146954\n",
      "24  51.513801 -0.147187\n",
      "25  51.513958 -0.147444\n",
      "26  51.514269 -0.145603\n",
      "27  51.512297 -0.142068\n",
      "28  51.509479 -0.136080\n",
      "29  51.509693 -0.137430\n",
      "30  51.509642 -0.135649\n",
      "31  51.508675 -0.140008\n",
      "32  51.509697 -0.133712\n",
      "33  51.508200 -0.138881\n",
      "34  51.512300 -0.140876\n",
      "35  51.515741 -0.143728\n",
      "36  51.514229 -0.141995\n",
      "37  51.512209 -0.144260\n",
      "38  51.512312 -0.143961\n",
      "39  51.512637 -0.143162\n",
      "40  51.510850 -0.140030\n"
     ]
    }
   ],
   "source": [
    "dataIn = pandas.read_csv(\"data/\"+filename+\".csv\")\n",
    "print(dataIn)"
   ]
  },
  {
   "cell_type": "markdown",
   "metadata": {},
   "source": [
    "## Split this into multiple location lists (a list of lists)\n",
    "\n",
    "Make sure your column names match up here"
   ]
  },
  {
   "cell_type": "code",
   "execution_count": 81,
   "metadata": {
    "collapsed": false
   },
   "outputs": [
    {
     "name": "stdout",
     "output_type": "stream",
     "text": [
      "breakup\n",
      "3\n",
      "<class 'int'>\n",
      "[{'lon': -0.14108380000000001, 'lat': 51.513107599999998}, {'lon': -0.1414879, 'lat': 51.513707700000005}, {'lon': -0.1469539, 'lat': 51.514370299999996}, {'lon': -0.14718720000000002, 'lat': 51.513801100000002}, {'lon': -0.1474442, 'lat': 51.5139578}, {'lon': -0.14560329999999999, 'lat': 51.514269499999997}, {'lon': -0.142068, 'lat': 51.512297400000001}, {'lon': -0.1360797, 'lat': 51.5094785}, {'lon': -0.13742970000000002, 'lat': 51.509692700000002}, {'lon': -0.13564899999999999, 'lat': 51.509641999999999}, {'lon': -0.14000760000000001, 'lat': 51.508674600000006}, {'lon': -0.13371159999999999, 'lat': 51.509696599999998}, {'lon': -0.1388808, 'lat': 51.5081998}, {'lon': -0.1408761, 'lat': 51.512299799999994}, {'lon': -0.14372799999999999, 'lat': 51.515741200000001}, {'lon': -0.14199520000000002, 'lat': 51.514228600000003}, {'lon': -0.14425959999999999, 'lat': 51.512208600000001}, {'lon': -0.14396110000000001, 'lat': 51.512312000000001}, {'lon': -0.1431625, 'lat': 51.512636799999996}]\n",
      "[{'lon': -0.14184040000000001, 'lat': 51.513148700000002}]\n"
     ]
    }
   ],
   "source": [
    "nPerBin = 20\n",
    "breakup = 1 + int(math.floor(len(dataIn)/float(nPerBin)))\n",
    "print(\"breakup\")\n",
    "print(breakup)\n",
    "print(type(breakup))\n",
    "\n",
    "locations = []\n",
    "for i in range(0, breakup):\n",
    "    locations.append([])\n",
    "    \n",
    "#latcol = \"Delivery Lat\"\n",
    "#loncol = 'Deliver Long'\n",
    "\n",
    "latcol = \"lat\"\n",
    "loncol = \"lon\"\n",
    "\n",
    "n=0\n",
    "for i in range(len(dataIn.index)):\n",
    "    n = (int)(math.floor(i/nPerBin))\n",
    "    locations[n].append({\"lon\":dataIn[loncol].iloc[i], \"lat\":dataIn[latcol].iloc[i]})"
   ]
  },
  {
   "cell_type": "markdown",
   "metadata": {},
   "source": [
    "## Save into one .csv\n",
    "\n",
    "Called \"FilenameIn_out.csv\""
   ]
  },
  {
   "cell_type": "code",
   "execution_count": 84,
   "metadata": {
    "collapsed": false,
    "scrolled": false
   },
   "outputs": [],
   "source": [
    "costing = \"pedestrian\"\n",
    "endpoint = \"https://matrix.mapzen.com/sources_to_targets\"\n",
    "\n",
    "bigDF = pandas.DataFrame()\n",
    "\n",
    "for n in range (0, breakup):\n",
    "    colDF=pandas.DataFrame()\n",
    "    \n",
    "    for m in range(0, n-1):\n",
    "        cols = list(range(1+n*nPerBin, 1+n*nPerBin+len(locations[n])))\n",
    "        rows = list(range(1+m*nPerBin, 1+m*nPerBin+len(locations[m])))\n",
    "        mo = pandas.DataFrame(columns=cols, index=rows)\n",
    "        if m==0:\n",
    "            colDF = mo\n",
    "        else:\n",
    "            colDF = colDF.append(mo)\n",
    "\n",
    "    for m in range (n, breakup):\n",
    "        dictPath = {\"sources\":locations[n],\n",
    "                    \"targets\":locations[m],\n",
    "                    \"costing\":costing,\n",
    "                    \"id\": filename}\n",
    "        path = json.dumps(dictPath)\n",
    "        params = {\"json\":path,\"api_key\":key}\n",
    "        req = requests.get(endpoint, params=params)\n",
    "        jsonback = req.json()\n",
    "        #locationsOut = jsonback.get(\"locations\")\n",
    "        rawMatrix = jsonback.get(\"sources_to_targets\")\n",
    "        \n",
    "        cols = list(range(1+n*nPerBin, 1+n*nPerBin+len(locations[n])))\n",
    "        rows = list(range(1+m*nPerBin, 1+m*nPerBin+len(locations[m])))\n",
    "        mo = pandas.DataFrame(columns=cols, index=rows)\n",
    "        \n",
    "        #print(rawMatrix)\n",
    "        if(rawMatrix is not None):\n",
    "            for row in rawMatrix:\n",
    "                for edge in row:\n",
    "                    D = edge['to_index']\n",
    "                    O = edge['from_index']\n",
    "                    distance = edge['distance']\n",
    "                    mo.iloc[D,O]= distance\n",
    "#                    print(locations[n][O], locations[m][D], distance)\n",
    "        else:\n",
    "            print(\"badrequest apparently\")\n",
    "            \n",
    "        #build up matrix for this n to all m\n",
    "        if m==0:\n",
    "            colDF = mo\n",
    "        else:\n",
    "            colDF = colDF.append(mo)\n",
    "            \n",
    "    if n==0:\n",
    "        bigDF = colDF\n",
    "    else:\n",
    "        bigDF = bigDF.merge(colDF, left_index=True, right_index=True, how='outer') \n",
    "            \n",
    "        #mo.to_csv(\"dataOut/\"+filename+\"_\"+str(n)+\"_\"+str(0)+\".csv\")\n",
    "bigDF.to_csv(\"dataOut/\"+filename+\"_bigBit_out.csv\")"
   ]
  },
  {
   "cell_type": "code",
   "execution_count": 15,
   "metadata": {
    "collapsed": false
   },
   "outputs": [
    {
     "data": {
      "text/html": [
       "<div>\n",
       "<table border=\"1\" class=\"dataframe\">\n",
       "  <thead>\n",
       "    <tr style=\"text-align: right;\">\n",
       "      <th></th>\n",
       "    </tr>\n",
       "  </thead>\n",
       "  <tbody>\n",
       "  </tbody>\n",
       "</table>\n",
       "</div>"
      ],
      "text/plain": [
       "Empty DataFrame\n",
       "Columns: []\n",
       "Index: []"
      ]
     },
     "execution_count": 15,
     "metadata": {},
     "output_type": "execute_result"
    }
   ],
   "source": [
    "bigDF.tail()     "
   ]
  },
  {
   "cell_type": "markdown",
   "metadata": {},
   "source": [
    "## JUNK BELOW - ignore it"
   ]
  },
  {
   "cell_type": "code",
   "execution_count": 231,
   "metadata": {
    "collapsed": false
   },
   "outputs": [
    {
     "name": "stdout",
     "output_type": "stream",
     "text": [
      "{'sources': [{'lat': 51.523625399999993, 'lon': -0.13362449999999998}, {'lat': 51.524465399999997, 'lon': -0.13269420000000001}, {'lat': 51.524188000000002, 'lon': -0.13243099999999999}, {'lat': 51.518244000000003, 'lon': -0.12096510000000001}, {'lat': 51.518924669999997, 'lon': -0.13180378000000001}, {'lat': 51.519795000000002, 'lon': -0.1313291}, {'lat': 51.518234020000001, 'lon': -0.12843228000000001}, {'lat': 51.523468700000002, 'lon': -0.12731389999999998}], 'targets': [{'lat': 51.523625399999993, 'lon': -0.13362449999999998}, {'lat': 51.524465399999997, 'lon': -0.13269420000000001}, {'lat': 51.524188000000002, 'lon': -0.13243099999999999}, {'lat': 51.518244000000003, 'lon': -0.12096510000000001}, {'lat': 51.518924669999997, 'lon': -0.13180378000000001}, {'lat': 51.519795000000002, 'lon': -0.1313291}, {'lat': 51.518234020000001, 'lon': -0.12843228000000001}, {'lat': 51.523468700000002, 'lon': -0.12731389999999998}], 'costing': 'auto'}\n"
     ]
    }
   ],
   "source": [
    "costing = \"auto\"\n",
    "endpoint = \"https://matrix.mapzen.com/sources_to_targets\"\n",
    "\n",
    "dictPath = {\"sources\":locations[1],\n",
    "            \"targets\":locations[1],\n",
    "            \"costing\":costing}\n",
    "print dictPath\n",
    "path = json.dumps(dictPath)\n",
    "params = {\"json\":path,\"api_key\":key,\"id\": filename}\n",
    "req = requests.get(endpoint, params=params)\n",
    "#print req.url"
   ]
  },
  {
   "cell_type": "code",
   "execution_count": 232,
   "metadata": {
    "collapsed": false
   },
   "outputs": [
    {
     "name": "stdout",
     "output_type": "stream",
     "text": [
      "{'locations': [{'lat': 51.523625399999993, 'lon': -0.13362449999999998}, {'lat': 51.524465399999997, 'lon': -0.13269420000000001}, {'lat': 51.524188000000002, 'lon': -0.13243099999999999}, {'lat': 51.518244000000003, 'lon': -0.12096510000000001}, {'lat': 51.518924669999997, 'lon': -0.13180378000000001}, {'lat': 51.519795000000002, 'lon': -0.1313291}, {'lat': 51.518234020000001, 'lon': -0.12843228000000001}, {'lat': 51.523468700000002, 'lon': -0.12731389999999998}], 'costing': 'auto'}\n"
     ]
    }
   ],
   "source": [
    "costing = \"auto\"\n",
    "endpoint = \"https://matrix.mapzen.com/many_to_many\"\n",
    "\n",
    "loc = locations[1]\n",
    "\n",
    "dictPath = {\"locations\":loc,\n",
    "            \"costing\":costing}\n",
    "print dictPath\n",
    "path = json.dumps(dictPath)\n",
    "params = {\"json\":path,\"api_key\":key,\"id\": filename}\n",
    "req = requests.get(endpoint, params=params)\n",
    "#print req.url"
   ]
  },
  {
   "cell_type": "markdown",
   "metadata": {},
   "source": [
    "## Generate multiple matrices and save each to a csv"
   ]
  },
  {
   "cell_type": "code",
   "execution_count": 28,
   "metadata": {
    "collapsed": true
   },
   "outputs": [],
   "source": [
    "costing = \"auto\"\n",
    "endpoint = \"https://matrix.mapzen.com/sources_to_targets\"\n",
    "\n",
    "for n in range (0,breakup):\n",
    "    for m in range (0,breakup):\n",
    "        dictPath = {\"sources\":locations[n],\n",
    "                    \"targets\":locations[m],\n",
    "                    \"costing\":costing,\n",
    "                    \"id\": filename}\n",
    "        path = json.dumps(dictPath)\n",
    "        params = {\"json\":path,\"api_key\":key}\n",
    "        req = requests.get(endpoint, params=params)\n",
    "        #print req.url\n",
    "        jsonback = req.json()\n",
    "        #locationsOut = jsonback.get(\"locations\")\n",
    "        rawMatrix = jsonback.get(\"sources_to_targets\")\n",
    "        cols = list(range(1+n*50, 51+n*50))\n",
    "        rows = list(range(1+m*50, 51+m*50))\n",
    "        mo = pandas.DataFrame(columns=cols, index = rows)\n",
    "        \n",
    "        for row in rawMatrix:\n",
    "            for edge in row:\n",
    "                D = edge['to_index']\n",
    "                O = edge['from_index']\n",
    "                distance = edge['distance']\n",
    "                mo.iloc[D,O]= distance\n",
    "                \n",
    "        mo.to_csv(\"dataOut/\"+filename+\"_\"+str(n)+\"_\"+str(0)+\".csv\")\n",
    "        "
   ]
  },
  {
   "cell_type": "code",
   "execution_count": 167,
   "metadata": {
    "collapsed": false
   },
   "outputs": [],
   "source": [
    "costing = \"pedestrian\"\n",
    "endpoint = \"https://matrix.mapzen.com/sources_to_targets\"\n",
    "\n",
    "bigDF = pandas.DataFrame()\n",
    "\n",
    "n = 0\n",
    "m = 8\n",
    "\n",
    "colDF=pandas.DataFrame()\n",
    "dictPath = {\"sources\":locations[n],\n",
    "                    \"targets\":locations[m],\n",
    "                    \"costing\":costing,\n",
    "                    \"id\": filename}\n",
    "path = json.dumps(dictPath)\n",
    "\n",
    "\n",
    "params = {\"json\":path,\"api_key\":key}\n",
    "req = requests.get(endpoint, params=params)\n",
    "#print(req.url)\n",
    "\n",
    "jsonback = req.json()\n",
    "rawMatrix = jsonback.get(\"sources_to_targets\")\n",
    "        \n"
   ]
  },
  {
   "cell_type": "code",
   "execution_count": 168,
   "metadata": {
    "collapsed": false
   },
   "outputs": [
    {
     "name": "stdout",
     "output_type": "stream",
     "text": [
      "{'distance': 9.909, 'time': 7014, 'to_index': 0, 'from_index': 0}\n",
      "{'distance': 0.44, 'time': 314, 'to_index': 0, 'from_index': 1}\n",
      "{'distance': 0.381, 'time': 270, 'to_index': 0, 'from_index': 2}\n",
      "{'distance': 0.322, 'time': 229, 'to_index': 0, 'from_index': 3}\n",
      "{'distance': 0.425, 'time': 300, 'to_index': 0, 'from_index': 4}\n"
     ]
    }
   ],
   "source": [
    "for row in rawMatrix:\n",
    "    for edge in row:\n",
    "        print(edge)"
   ]
  },
  {
   "cell_type": "code",
   "execution_count": 169,
   "metadata": {
    "collapsed": false
   },
   "outputs": [
    {
     "name": "stdout",
     "output_type": "stream",
     "text": [
      "[1, 2, 3, 4, 5]\n",
      "[41]\n"
     ]
    }
   ],
   "source": [
    "print(list(range(1+n*nPerBin, 1+n*nPerBin+len(locations[n]))))\n",
    "print(list(range(1+m*nPerBin, 1+m*nPerBin+len(locations[m]))))"
   ]
  },
  {
   "cell_type": "code",
   "execution_count": 165,
   "metadata": {
    "collapsed": false
   },
   "outputs": [
    {
     "name": "stdout",
     "output_type": "stream",
     "text": [
      "[{'lon': -0.13564899999999999, 'lat': 51.509641999999999}, {'lon': -0.14000760000000001, 'lat': 51.508674600000006}, {'lon': -0.13371159999999999, 'lat': 51.509696599999998}, {'lon': -0.1388808, 'lat': 51.5081998}, {'lon': -0.1408761, 'lat': 51.512299799999994}, {'lon': -0.14372799999999999, 'lat': 51.515741200000001}, {'lon': -0.14199520000000002, 'lat': 51.514228600000003}, {'lon': -0.14425959999999999, 'lat': 51.512208600000001}, {'lon': -0.14396110000000001, 'lat': 51.512312000000001}, {'lon': -0.1431625, 'lat': 51.512636799999996}, {'lon': -0.1400295, 'lat': 51.510849900000004}]\n"
     ]
    }
   ],
   "source": [
    "print(locations[m])"
   ]
  },
  {
   "cell_type": "code",
   "execution_count": 58,
   "metadata": {
    "collapsed": false
   },
   "outputs": [
    {
     "data": {
      "text/plain": [
       "range(0, 0)"
      ]
     },
     "execution_count": 58,
     "metadata": {},
     "output_type": "execute_result"
    }
   ],
   "source": [
    "range(0,0)"
   ]
  },
  {
   "cell_type": "code",
   "execution_count": 60,
   "metadata": {
    "collapsed": false
   },
   "outputs": [
    {
     "data": {
      "text/plain": [
       "[0]"
      ]
     },
     "execution_count": 60,
     "metadata": {},
     "output_type": "execute_result"
    }
   ],
   "source": [
    "list(range(0,1))"
   ]
  },
  {
   "cell_type": "code",
   "execution_count": null,
   "metadata": {
    "collapsed": true
   },
   "outputs": [],
   "source": []
  }
 ],
 "metadata": {
  "kernelspec": {
   "display_name": "Python 3",
   "language": "python",
   "name": "python3"
  },
  "language_info": {
   "codemirror_mode": {
    "name": "ipython",
    "version": 3
   },
   "file_extension": ".py",
   "mimetype": "text/x-python",
   "name": "python",
   "nbconvert_exporter": "python",
   "pygments_lexer": "ipython3",
   "version": "3.6.0"
  }
 },
 "nbformat": 4,
 "nbformat_minor": 1
}
